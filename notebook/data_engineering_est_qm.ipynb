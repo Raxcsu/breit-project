{
 "cells": [
  {
   "cell_type": "code",
   "execution_count": 137,
   "metadata": {},
   "outputs": [],
   "source": [
    "import pandas as pd\n",
    "import numpy as np"
   ]
  },
  {
   "cell_type": "markdown",
   "metadata": {},
   "source": [
    "## Academico"
   ]
  },
  {
   "cell_type": "code",
   "execution_count": 138,
   "metadata": {},
   "outputs": [
    {
     "name": "stderr",
     "output_type": "stream",
     "text": [
      "C:\\Users\\jange\\AppData\\Local\\Temp\\ipykernel_31856\\129942648.py:1: DtypeWarning: Columns (16) have mixed types. Specify dtype option on import or set low_memory=False.\n",
      "  data_aca_2023 = pd.read_csv('../data/academico_2023.csv', encoding='latin1', sep=';')\n"
     ]
    }
   ],
   "source": [
    "data_aca_2023 = pd.read_csv('../data/academico_2023.csv', encoding='latin1', sep=';')\n",
    "data_aca_2024 = pd.read_csv('../data/academico_2024.csv', encoding='latin1', sep = ';')\n"
   ]
  },
  {
   "cell_type": "code",
   "execution_count": 139,
   "metadata": {},
   "outputs": [
    {
     "name": "stdout",
     "output_type": "stream",
     "text": [
      "<class 'pandas.core.frame.DataFrame'>\n",
      "RangeIndex: 44581 entries, 0 to 44580\n",
      "Data columns (total 23 columns):\n",
      " #   Column                 Non-Null Count  Dtype \n",
      "---  ------                 --------------  ----- \n",
      " 0   anio                   44581 non-null  int64 \n",
      " 1   region_ie              44581 non-null  object\n",
      " 2   provincia_ie           44581 non-null  object\n",
      " 3   ugel_ie                44581 non-null  object\n",
      " 4   distrito_ie            44581 non-null  object\n",
      " 5   centropoblado_ie       44581 non-null  object\n",
      " 6   institucion_educativa  44581 non-null  object\n",
      " 7   codigolocal_ie         44581 non-null  int64 \n",
      " 8   codigomodular_ie       44581 non-null  int64 \n",
      " 9   ruralidad              44581 non-null  object\n",
      " 10  estudiantes            44581 non-null  object\n",
      " 11  grado                  44581 non-null  object\n",
      " 12  periodo                44581 non-null  object\n",
      " 13  curso                  44581 non-null  object\n",
      " 14  comp                   44581 non-null  object\n",
      " 15  nivel_de_logro         44581 non-null  object\n",
      " 16  dni_participante       44517 non-null  object\n",
      " 17  id_participante        44581 non-null  object\n",
      " 18  participante           44581 non-null  object\n",
      " 19  coordinador_a          44581 non-null  object\n",
      " 20  programa               44581 non-null  object\n",
      " 21  anio_pdl               44581 non-null  object\n",
      " 22  socios                 44581 non-null  object\n",
      "dtypes: int64(3), object(20)\n",
      "memory usage: 7.8+ MB\n"
     ]
    }
   ],
   "source": [
    "data_aca_2023.info()"
   ]
  },
  {
   "cell_type": "code",
   "execution_count": 140,
   "metadata": {},
   "outputs": [
    {
     "data": {
      "text/plain": [
       "231"
      ]
     },
     "execution_count": 140,
     "metadata": {},
     "output_type": "execute_result"
    }
   ],
   "source": [
    "data_aca_2023.id_participante.nunique()"
   ]
  },
  {
   "cell_type": "code",
   "execution_count": 206,
   "metadata": {},
   "outputs": [
    {
     "data": {
      "text/plain": [
       "programa\n",
       "PDL    25367\n",
       "QM     19214\n",
       "Name: count, dtype: int64"
      ]
     },
     "execution_count": 206,
     "metadata": {},
     "output_type": "execute_result"
    }
   ],
   "source": [
    "data_aca_2023.programa.value_counts()"
   ]
  },
  {
   "cell_type": "code",
   "execution_count": 208,
   "metadata": {},
   "outputs": [],
   "source": [
    "data_aca_2024 = data_aca_2024.loc[~data_aca_2024['programa'].isin(['Palanca 1 y 2'])]"
   ]
  },
  {
   "cell_type": "code",
   "execution_count": 209,
   "metadata": {},
   "outputs": [
    {
     "data": {
      "text/plain": [
       "programa\n",
       "QM     25135\n",
       "PDL    18685\n",
       "Name: count, dtype: int64"
      ]
     },
     "execution_count": 209,
     "metadata": {},
     "output_type": "execute_result"
    }
   ],
   "source": [
    "data_aca_2024.programa.value_counts()"
   ]
  },
  {
   "cell_type": "code",
   "execution_count": 141,
   "metadata": {},
   "outputs": [
    {
     "name": "stdout",
     "output_type": "stream",
     "text": [
      "<class 'pandas.core.frame.DataFrame'>\n",
      "RangeIndex: 51556 entries, 0 to 51555\n",
      "Data columns (total 25 columns):\n",
      " #   Column                 Non-Null Count  Dtype \n",
      "---  ------                 --------------  ----- \n",
      " 0   anio                   51556 non-null  int64 \n",
      " 1   region_ie              51556 non-null  object\n",
      " 2   provincia_ie           51556 non-null  object\n",
      " 3   ugel_ie                51556 non-null  object\n",
      " 4   distrito_ie            51556 non-null  object\n",
      " 5   centropoblado_ie       51556 non-null  object\n",
      " 6   institucion_educativa  51556 non-null  object\n",
      " 7   codigolocal_ie         51556 non-null  int64 \n",
      " 8   codigomodular_ie       51556 non-null  int64 \n",
      " 9   ruralidad              51556 non-null  object\n",
      " 10  estudiantes            51556 non-null  object\n",
      " 11  grado                  51556 non-null  object\n",
      " 12  periodo                51556 non-null  object\n",
      " 13  curso                  51556 non-null  object\n",
      " 14  comp                   51556 non-null  object\n",
      " 15  nivel_de_logro         51556 non-null  object\n",
      " 16  dni_participante       51556 non-null  int64 \n",
      " 17  id_participante        51556 non-null  object\n",
      " 18  participante           51556 non-null  object\n",
      " 19  coordinador_a          51556 non-null  object\n",
      " 20  programa               51556 non-null  object\n",
      " 21  anio_pdl               51556 non-null  object\n",
      " 22  socios                 43820 non-null  object\n",
      " 23  id_seccion             51556 non-null  object\n",
      " 24  tipo                   48482 non-null  object\n",
      "dtypes: int64(4), object(21)\n",
      "memory usage: 9.8+ MB\n"
     ]
    }
   ],
   "source": [
    "data_aca_2024.info()"
   ]
  },
  {
   "cell_type": "code",
   "execution_count": 142,
   "metadata": {},
   "outputs": [
    {
     "data": {
      "text/plain": [
       "488"
      ]
     },
     "execution_count": 142,
     "metadata": {},
     "output_type": "execute_result"
    }
   ],
   "source": [
    "data_aca_2024.id_participante.nunique()"
   ]
  },
  {
   "cell_type": "code",
   "execution_count": 143,
   "metadata": {},
   "outputs": [
    {
     "data": {
      "text/plain": [
       "6420"
      ]
     },
     "execution_count": 143,
     "metadata": {},
     "output_type": "execute_result"
    }
   ],
   "source": [
    "data_aca_2023.estudiantes.nunique()"
   ]
  },
  {
   "cell_type": "code",
   "execution_count": 144,
   "metadata": {},
   "outputs": [
    {
     "data": {
      "text/plain": [
       "10531"
      ]
     },
     "execution_count": 144,
     "metadata": {},
     "output_type": "execute_result"
    }
   ],
   "source": [
    "data_aca_2024.estudiantes.nunique()"
   ]
  },
  {
   "cell_type": "code",
   "execution_count": 145,
   "metadata": {},
   "outputs": [
    {
     "data": {
      "text/plain": [
       "Index(['anio', 'region_ie', 'provincia_ie', 'ugel_ie', 'distrito_ie',\n",
       "       'centropoblado_ie', 'institucion_educativa', 'codigolocal_ie',\n",
       "       'codigomodular_ie', 'ruralidad', 'estudiantes', 'grado', 'periodo',\n",
       "       'curso', 'comp', 'nivel_de_logro', 'dni_participante',\n",
       "       'id_participante', 'participante', 'coordinador_a', 'programa',\n",
       "       'anio_pdl', 'socios'],\n",
       "      dtype='object')"
      ]
     },
     "execution_count": 145,
     "metadata": {},
     "output_type": "execute_result"
    }
   ],
   "source": [
    "data_aca_2023.columns"
   ]
  },
  {
   "cell_type": "code",
   "execution_count": 146,
   "metadata": {},
   "outputs": [
    {
     "data": {
      "text/plain": [
       "Index(['anio', 'region_ie', 'provincia_ie', 'ugel_ie', 'distrito_ie',\n",
       "       'centropoblado_ie', 'institucion_educativa', 'codigolocal_ie',\n",
       "       'codigomodular_ie', 'ruralidad', 'estudiantes', 'grado', 'periodo',\n",
       "       'curso', 'comp', 'nivel_de_logro', 'dni_participante',\n",
       "       'id_participante', 'participante', 'coordinador_a', 'programa',\n",
       "       'anio_pdl', 'socios', 'id_seccion', 'tipo'],\n",
       "      dtype='object')"
      ]
     },
     "execution_count": 146,
     "metadata": {},
     "output_type": "execute_result"
    }
   ],
   "source": [
    "data_aca_2024.columns"
   ]
  },
  {
   "cell_type": "code",
   "execution_count": 147,
   "metadata": {},
   "outputs": [
    {
     "data": {
      "text/plain": [
       "tipo\n",
       "Evaluación interna    40902\n",
       "URMECEA                7580\n",
       "Name: count, dtype: int64"
      ]
     },
     "execution_count": 147,
     "metadata": {},
     "output_type": "execute_result"
    }
   ],
   "source": [
    "data_aca_2024.tipo.value_counts()"
   ]
  },
  {
   "cell_type": "code",
   "execution_count": 148,
   "metadata": {},
   "outputs": [],
   "source": [
    "data_aca_2024 = data_aca_2024.drop(['id_seccion', 'tipo'], axis=1)"
   ]
  },
  {
   "cell_type": "code",
   "execution_count": 149,
   "metadata": {},
   "outputs": [
    {
     "data": {
      "text/plain": [
       "(96137, 23)"
      ]
     },
     "execution_count": 149,
     "metadata": {},
     "output_type": "execute_result"
    }
   ],
   "source": [
    "data_academico = pd.concat([data_aca_2023, data_aca_2024], ignore_index=True)\n",
    "data_academico.shape"
   ]
  },
  {
   "cell_type": "code",
   "execution_count": 150,
   "metadata": {},
   "outputs": [
    {
     "data": {
      "text/plain": [
       "nivel_de_logro\n",
       "Satisfactorio       34601\n",
       "En proceso          34469\n",
       "En inicio           26526\n",
       "Debajo de inicio      541\n",
       "Name: count, dtype: int64"
      ]
     },
     "execution_count": 150,
     "metadata": {},
     "output_type": "execute_result"
    }
   ],
   "source": [
    "data_academico.nivel_de_logro.value_counts()"
   ]
  },
  {
   "cell_type": "code",
   "execution_count": 151,
   "metadata": {},
   "outputs": [],
   "source": [
    "data_academico.loc[data_academico[\"nivel_de_logro\"] == 'Debajo de inicio', 'nivel_de_logro'] = 'En inicio'"
   ]
  },
  {
   "cell_type": "markdown",
   "metadata": {},
   "source": [
    "## QM"
   ]
  },
  {
   "cell_type": "code",
   "execution_count": 210,
   "metadata": {},
   "outputs": [],
   "source": [
    "data_qm_2023 = pd.read_csv('../data/qm_2023.csv', encoding='latin1', sep = ';')\n",
    "data_qm_2024 = pd.read_csv('../data/qm_2024.csv', encoding='latin1', sep = ';')\n"
   ]
  },
  {
   "cell_type": "code",
   "execution_count": 211,
   "metadata": {},
   "outputs": [
    {
     "name": "stdout",
     "output_type": "stream",
     "text": [
      "<class 'pandas.core.frame.DataFrame'>\n",
      "RangeIndex: 1114 entries, 0 to 1113\n",
      "Data columns (total 19 columns):\n",
      " #   Column                 Non-Null Count  Dtype \n",
      "---  ------                 --------------  ----- \n",
      " 0   anio                   1114 non-null   int64 \n",
      " 1   region_ie              1114 non-null   object\n",
      " 2   provincia_ie           1114 non-null   object\n",
      " 3   ugel_ie                1114 non-null   object\n",
      " 4   distrito_ie            1114 non-null   object\n",
      " 5   centropoblado_ie       1114 non-null   object\n",
      " 6   institucion_educativa  1114 non-null   object\n",
      " 7   codigolocal_ie1        1114 non-null   int64 \n",
      " 8   codigomodular_ie       1114 non-null   int64 \n",
      " 9   ruralidad              1114 non-null   object\n",
      " 10  participante           1114 non-null   object\n",
      " 11  coordinador_a          1114 non-null   object\n",
      " 12  programa               1114 non-null   object\n",
      " 13  socios                 1114 non-null   object\n",
      " 14  habilidad              1114 non-null   object\n",
      " 15  periodo                1114 non-null   object\n",
      " 16  nivel_de_logro         1114 non-null   object\n",
      " 17  conclusiones           898 non-null    object\n",
      " 18  id_participante        1114 non-null   object\n",
      "dtypes: int64(3), object(16)\n",
      "memory usage: 165.5+ KB\n"
     ]
    }
   ],
   "source": [
    "data_qm_2023.info()"
   ]
  },
  {
   "cell_type": "code",
   "execution_count": 212,
   "metadata": {},
   "outputs": [
    {
     "name": "stdout",
     "output_type": "stream",
     "text": [
      "<class 'pandas.core.frame.DataFrame'>\n",
      "RangeIndex: 1824 entries, 0 to 1823\n",
      "Data columns (total 19 columns):\n",
      " #   Column                 Non-Null Count  Dtype \n",
      "---  ------                 --------------  ----- \n",
      " 0   anio                   1824 non-null   int64 \n",
      " 1   region_ie              1824 non-null   object\n",
      " 2   provincia_ie           1824 non-null   object\n",
      " 3   ugel_ie                1824 non-null   object\n",
      " 4   distrito_ie            1824 non-null   object\n",
      " 5   centropoblado_ie       1824 non-null   object\n",
      " 6   institucion_educativa  1824 non-null   object\n",
      " 7   codigolocal_ie1        1824 non-null   int64 \n",
      " 8   codigomodular_ie       1824 non-null   int64 \n",
      " 9   ruralidad              1824 non-null   object\n",
      " 10  participante           1824 non-null   object\n",
      " 11  coordinador_a          1824 non-null   object\n",
      " 12  programa               1824 non-null   object\n",
      " 13  socios                 1824 non-null   object\n",
      " 14  habilidad              1571 non-null   object\n",
      " 15  periodo                1824 non-null   object\n",
      " 16  nivel_de_logro         1612 non-null   object\n",
      " 17  conclusiones           1589 non-null   object\n",
      " 18  id_participante        1824 non-null   object\n",
      "dtypes: int64(3), object(16)\n",
      "memory usage: 270.9+ KB\n"
     ]
    }
   ],
   "source": [
    "data_qm_2024.info()"
   ]
  },
  {
   "cell_type": "code",
   "execution_count": 213,
   "metadata": {},
   "outputs": [
    {
     "data": {
      "text/plain": [
       "programa\n",
       "PDL    25367\n",
       "QM     19214\n",
       "Name: count, dtype: int64"
      ]
     },
     "execution_count": 213,
     "metadata": {},
     "output_type": "execute_result"
    }
   ],
   "source": [
    "data_aca_2023.programa.value_counts()"
   ]
  },
  {
   "cell_type": "code",
   "execution_count": null,
   "metadata": {},
   "outputs": [
    {
     "data": {
      "text/plain": [
       "nivel_de_logro\n",
       "Satisfactorio      60600\n",
       "En proceso         30686\n",
       "Riesgo Moderado    27184\n",
       "Bajo riesgo        14137\n",
       "En inicio           7266\n",
       "Alto riego          4857\n",
       "Name: count, dtype: int64"
      ]
     },
     "execution_count": 155,
     "metadata": {},
     "output_type": "execute_result"
    }
   ],
   "source": [
    "data_qm_2023.nivel_de_logro.value_counts()"
   ]
  },
  {
   "cell_type": "code",
   "execution_count": null,
   "metadata": {},
   "outputs": [
    {
     "data": {
      "text/plain": [
       "nivel_de_logro\n",
       "Satisfactorio      89507\n",
       "Riesgo moderado    40505\n",
       "En proceso         36825\n",
       "Bajo Riesgo        17148\n",
       "Alto riesgo         8607\n",
       "En inicio           6501\n",
       "Name: count, dtype: int64"
      ]
     },
     "execution_count": 156,
     "metadata": {},
     "output_type": "execute_result"
    }
   ],
   "source": [
    "data_qm_2024.nivel_de_logro.value_counts()"
   ]
  },
  {
   "cell_type": "code",
   "execution_count": null,
   "metadata": {},
   "outputs": [
    {
     "data": {
      "text/plain": [
       "Index(['anio', 'region_ie', 'provincia_ie', 'ugel_ie', 'distrito_ie',\n",
       "       'centropoblado_ie', 'institucion_educativa', 'codigolocal_ie',\n",
       "       'codigomodular_ie', 'ruralidad', 'id_estudiante', 'grado', 'fecha',\n",
       "       'evaluación', 'habilidad', 'promedio', 'nivel_de_logro',\n",
       "       'dni_participante', 'id_participante', 'participantes_sección',\n",
       "       'coordinador_a', 'programa', 'anio_pdl', 'socios'],\n",
       "      dtype='object')"
      ]
     },
     "execution_count": 157,
     "metadata": {},
     "output_type": "execute_result"
    }
   ],
   "source": [
    "data_qm_2023.columns"
   ]
  },
  {
   "cell_type": "code",
   "execution_count": null,
   "metadata": {},
   "outputs": [
    {
     "data": {
      "text/plain": [
       "Index(['anio', 'region_ie', 'provincia_ie', 'ugel_ie', 'distrito_ie',\n",
       "       'centropoblado_ie', 'institucion_educativa', 'codigolocal_ie',\n",
       "       'codigomodular_ie', 'ruralidad', 'id_estudiante', 'grado', 'fecha',\n",
       "       'evaluación', 'habilidad', 'promedio', 'nivel_de_logro',\n",
       "       'dni_participante', 'id_participante', 'participantes_sección',\n",
       "       'coordinador_a', 'programa', 'anio_pdl', 'socios', 'id_seccion'],\n",
       "      dtype='object')"
      ]
     },
     "execution_count": 158,
     "metadata": {},
     "output_type": "execute_result"
    }
   ],
   "source": [
    "data_qm_2024.columns"
   ]
  },
  {
   "cell_type": "code",
   "execution_count": null,
   "metadata": {},
   "outputs": [
    {
     "data": {
      "text/plain": [
       "['Ausentismo y deserción escolar',\n",
       " 'Autoconcepto',\n",
       " 'Autocuidado',\n",
       " 'Autoestima',\n",
       " 'Comportamiento prosocial',\n",
       " 'Comunicación asertiva',\n",
       " 'Conciencia emocional',\n",
       " 'Conciencia social',\n",
       " 'Consumo de alcohol y drogas',\n",
       " 'Creatividad',\n",
       " 'Desinformación sobre educación sexual integral',\n",
       " 'Empatía',\n",
       " 'Entorno de riesgo',\n",
       " 'Limitada expectativa sobre la educación',\n",
       " 'Limitada expectativa sobre su proyecto de vida',\n",
       " 'Limitados recursos económicos',\n",
       " 'Percepción sobre estereotipos de género',\n",
       " 'Regulación emocional',\n",
       " 'Resolución de conflictos',\n",
       " 'Toma de decisiones responsables',\n",
       " 'Trabajo adolescente',\n",
       " 'Trabajo en equipo',\n",
       " 'Violencia de género',\n",
       " 'Violencia escolar',\n",
       " 'Violencia familiar']"
      ]
     },
     "execution_count": 159,
     "metadata": {},
     "output_type": "execute_result"
    }
   ],
   "source": [
    "sorted(data_qm_2023.habilidad.unique())"
   ]
  },
  {
   "cell_type": "code",
   "execution_count": null,
   "metadata": {},
   "outputs": [
    {
     "data": {
      "text/plain": [
       "['Ausentismo y deserción escolar',\n",
       " 'Autoconcepto',\n",
       " 'Autocuidado',\n",
       " 'Autoestima',\n",
       " 'Comportamiento prosocial',\n",
       " 'Comunicación asertiva',\n",
       " 'Conciencia emocional',\n",
       " 'Conciencia social',\n",
       " 'Consumo de alcohol y drogas',\n",
       " 'Creatividad',\n",
       " 'Desinformación sobre educación sexual integral',\n",
       " 'Desinformación sobre educación sexual reproductiva',\n",
       " 'Empatía',\n",
       " 'Entorno de riesgo',\n",
       " 'Limitada expectativa sobre la educación',\n",
       " 'Limitada expectativa sobre su proyecto de vida',\n",
       " 'Limitados recursos económicos',\n",
       " 'Percepción sobre Estereotipos de género',\n",
       " 'Regulación emocional',\n",
       " 'Resolución de conflictos',\n",
       " 'Toma de decisiones responsables',\n",
       " 'Trabajo adolescente',\n",
       " 'Trabajo en equipo',\n",
       " 'Violencia de género',\n",
       " 'Violencia escolar',\n",
       " 'Violencia familiar']"
      ]
     },
     "execution_count": 160,
     "metadata": {},
     "output_type": "execute_result"
    }
   ],
   "source": [
    "sorted(data_qm_2024.habilidad.unique())"
   ]
  },
  {
   "cell_type": "code",
   "execution_count": null,
   "metadata": {},
   "outputs": [],
   "source": [
    "data_qm_2024.loc[data_qm_2024['habilidad'] == 'Percepción sobre Estereotipos de género', 'habilidad'] = 'Percepción sobre estereotipos de género'"
   ]
  },
  {
   "cell_type": "code",
   "execution_count": null,
   "metadata": {},
   "outputs": [],
   "source": [
    "data_qm_2024 = data_qm_2024.loc[~(data_qm_2024.habilidad == \"Desinformación sobre educación sexual reproductiva\")]"
   ]
  },
  {
   "cell_type": "code",
   "execution_count": null,
   "metadata": {},
   "outputs": [],
   "source": [
    "data_qm_2024 = data_qm_2024.drop(['id_seccion'], axis=1)"
   ]
  },
  {
   "cell_type": "code",
   "execution_count": null,
   "metadata": {},
   "outputs": [
    {
     "data": {
      "text/plain": [
       "(341245, 24)"
      ]
     },
     "execution_count": 164,
     "metadata": {},
     "output_type": "execute_result"
    }
   ],
   "source": [
    "data_socioemocional = pd.concat([data_qm_2023, data_qm_2024], ignore_index=True)\n",
    "data_socioemocional.shape"
   ]
  },
  {
   "cell_type": "code",
   "execution_count": 165,
   "metadata": {},
   "outputs": [
    {
     "data": {
      "text/plain": [
       "472"
      ]
     },
     "execution_count": 165,
     "metadata": {},
     "output_type": "execute_result"
    }
   ],
   "source": [
    "data_socioemocional.id_participante.nunique()"
   ]
  },
  {
   "cell_type": "code",
   "execution_count": 166,
   "metadata": {},
   "outputs": [
    {
     "data": {
      "text/plain": [
       "array(['Sec-4rto', 'Sec-2ndo', 'Pri-4rto', 'Pri-1ero', 'Pri-5nto',\n",
       "       'Sec-1ero', 'Pri-3ero', 'Sec-5nto', 'Pri-6xto', 'Sec-3ero',\n",
       "       'Pri-2ndo'], dtype=object)"
      ]
     },
     "execution_count": 166,
     "metadata": {},
     "output_type": "execute_result"
    }
   ],
   "source": [
    "data_socioemocional.grado.unique()"
   ]
  },
  {
   "cell_type": "code",
   "execution_count": 167,
   "metadata": {},
   "outputs": [],
   "source": [
    "data_socioemocional  = data_socioemocional.rename(columns={'fecha': 'periodo'})"
   ]
  },
  {
   "cell_type": "markdown",
   "metadata": {},
   "source": [
    "## Clima de Aula"
   ]
  },
  {
   "cell_type": "code",
   "execution_count": 168,
   "metadata": {},
   "outputs": [],
   "source": [
    "data_clima_2023 = pd.read_csv('../data/clima_aula_2023.csv', encoding='latin1', sep = ';')\n",
    "data_clima_2024 = pd.read_csv('../data/clima_aula_2024.csv', encoding='latin1', sep = ';')\n"
   ]
  },
  {
   "cell_type": "code",
   "execution_count": 169,
   "metadata": {},
   "outputs": [
    {
     "data": {
      "text/html": [
       "<div>\n",
       "<style scoped>\n",
       "    .dataframe tbody tr th:only-of-type {\n",
       "        vertical-align: middle;\n",
       "    }\n",
       "\n",
       "    .dataframe tbody tr th {\n",
       "        vertical-align: top;\n",
       "    }\n",
       "\n",
       "    .dataframe thead th {\n",
       "        text-align: right;\n",
       "    }\n",
       "</style>\n",
       "<table border=\"1\" class=\"dataframe\">\n",
       "  <thead>\n",
       "    <tr style=\"text-align: right;\">\n",
       "      <th></th>\n",
       "      <th>anio</th>\n",
       "      <th>region_ie</th>\n",
       "      <th>provincia_ie</th>\n",
       "      <th>ugel_ie</th>\n",
       "      <th>distrito_ie</th>\n",
       "      <th>centropoblado_ie</th>\n",
       "      <th>institucion_educativa</th>\n",
       "      <th>codigolocal_ie</th>\n",
       "      <th>codigomodular_ie</th>\n",
       "      <th>ruralidad</th>\n",
       "      <th>...</th>\n",
       "      <th>elemento</th>\n",
       "      <th>porcentaje_positivas</th>\n",
       "      <th>nivel_de_logro</th>\n",
       "      <th>dni_participante</th>\n",
       "      <th>id_participante</th>\n",
       "      <th>participante</th>\n",
       "      <th>coordinador_a</th>\n",
       "      <th>programa</th>\n",
       "      <th>anio_pdl</th>\n",
       "      <th>socios</th>\n",
       "    </tr>\n",
       "  </thead>\n",
       "  <tbody>\n",
       "    <tr>\n",
       "      <th>0</th>\n",
       "      <td>2023</td>\n",
       "      <td>AREQUIPA</td>\n",
       "      <td>CAYLLOMA</td>\n",
       "      <td>UGEL CAYLLOMA</td>\n",
       "      <td>CALLALLI</td>\n",
       "      <td>CALLALLI</td>\n",
       "      <td>40380</td>\n",
       "      <td>69909</td>\n",
       "      <td>312611</td>\n",
       "      <td>Rural</td>\n",
       "      <td>...</td>\n",
       "      <td>Aprendizaje completamente interiorizado</td>\n",
       "      <td>66.67 %</td>\n",
       "      <td>Satisfactorio</td>\n",
       "      <td>46691804</td>\n",
       "      <td>b29b10f0</td>\n",
       "      <td>CHANA CHANA, EVA</td>\n",
       "      <td>DIAZ SALAZAR, CLAUDIA OLGUITA</td>\n",
       "      <td>PDL</td>\n",
       "      <td>1er anio</td>\n",
       "      <td>BHP</td>\n",
       "    </tr>\n",
       "    <tr>\n",
       "      <th>1</th>\n",
       "      <td>2023</td>\n",
       "      <td>ANCASH</td>\n",
       "      <td>HUARI</td>\n",
       "      <td>UGEL HUARI</td>\n",
       "      <td>CHAVIN DE HUANTAR</td>\n",
       "      <td>ISCOG</td>\n",
       "      <td>86052</td>\n",
       "      <td>23940</td>\n",
       "      <td>495705</td>\n",
       "      <td>Rural</td>\n",
       "      <td>...</td>\n",
       "      <td>Expectativas rigurosas mantenidas</td>\n",
       "      <td>100.00 %</td>\n",
       "      <td>Satisfactorio</td>\n",
       "      <td>73416240</td>\n",
       "      <td>b29b536b</td>\n",
       "      <td>RAMIREZ RAMIREZ, MILAGROS</td>\n",
       "      <td>CHOCHABOT PRENON, TRASY</td>\n",
       "      <td>PDL</td>\n",
       "      <td>1er anio</td>\n",
       "      <td>Antamina,Franco Nevada,Wheaton Precious Metals</td>\n",
       "    </tr>\n",
       "    <tr>\n",
       "      <th>2</th>\n",
       "      <td>2023</td>\n",
       "      <td>ANCASH</td>\n",
       "      <td>HUARI</td>\n",
       "      <td>UGEL HUARI</td>\n",
       "      <td>SAN MARCOS</td>\n",
       "      <td>RUNTU</td>\n",
       "      <td>86467</td>\n",
       "      <td>25345</td>\n",
       "      <td>412270</td>\n",
       "      <td>Rural</td>\n",
       "      <td>...</td>\n",
       "      <td>Aprendizaje completamente interiorizado</td>\n",
       "      <td>100.00 %</td>\n",
       "      <td>Satisfactorio</td>\n",
       "      <td>46848286</td>\n",
       "      <td>4b581147</td>\n",
       "      <td>ZAPATA LIZANA, ADA DEL ROSARIO</td>\n",
       "      <td>CHOCHABOT PRENON, TRASY</td>\n",
       "      <td>PDL</td>\n",
       "      <td>Alumni</td>\n",
       "      <td>Antamina,Franco Nevada,Wheaton Precious Metals</td>\n",
       "    </tr>\n",
       "    <tr>\n",
       "      <th>3</th>\n",
       "      <td>2023</td>\n",
       "      <td>ANCASH</td>\n",
       "      <td>HUARI</td>\n",
       "      <td>UGEL HUARI</td>\n",
       "      <td>SAN MARCOS</td>\n",
       "      <td>RUNTU</td>\n",
       "      <td>86467</td>\n",
       "      <td>25345</td>\n",
       "      <td>412270</td>\n",
       "      <td>Rural</td>\n",
       "      <td>...</td>\n",
       "      <td>Comprensión comprobada y asegurada</td>\n",
       "      <td>100.00 %</td>\n",
       "      <td>Satisfactorio</td>\n",
       "      <td>46848286</td>\n",
       "      <td>4b581147</td>\n",
       "      <td>ZAPATA LIZANA, ADA DEL ROSARIO</td>\n",
       "      <td>CHOCHABOT PRENON, TRASY</td>\n",
       "      <td>PDL</td>\n",
       "      <td>Alumni</td>\n",
       "      <td>Antamina,Franco Nevada,Wheaton Precious Metals</td>\n",
       "    </tr>\n",
       "    <tr>\n",
       "      <th>4</th>\n",
       "      <td>2023</td>\n",
       "      <td>ANCASH</td>\n",
       "      <td>HUARI</td>\n",
       "      <td>UGEL HUARI</td>\n",
       "      <td>SAN MARCOS</td>\n",
       "      <td>PUJUN</td>\n",
       "      <td>86469</td>\n",
       "      <td>25393</td>\n",
       "      <td>412379</td>\n",
       "      <td>Rural</td>\n",
       "      <td>...</td>\n",
       "      <td>Se establece un entorno de aprendizaje atractivo</td>\n",
       "      <td>52.50 %</td>\n",
       "      <td>En proceso</td>\n",
       "      <td>71135300</td>\n",
       "      <td>b29b30b1</td>\n",
       "      <td>UTURUNCO UTURUNCO, WILLIAN</td>\n",
       "      <td>CARBAJAL ALARCÓN, DIEGO</td>\n",
       "      <td>PDL</td>\n",
       "      <td>1er anio</td>\n",
       "      <td>Antamina,Franco Nevada,Wheaton Precious Metals</td>\n",
       "    </tr>\n",
       "  </tbody>\n",
       "</table>\n",
       "<p>5 rows × 23 columns</p>\n",
       "</div>"
      ],
      "text/plain": [
       "   anio region_ie provincia_ie        ugel_ie        distrito_ie  \\\n",
       "0  2023  AREQUIPA     CAYLLOMA  UGEL CAYLLOMA           CALLALLI   \n",
       "1  2023    ANCASH        HUARI     UGEL HUARI  CHAVIN DE HUANTAR   \n",
       "2  2023    ANCASH        HUARI     UGEL HUARI         SAN MARCOS   \n",
       "3  2023    ANCASH        HUARI     UGEL HUARI         SAN MARCOS   \n",
       "4  2023    ANCASH        HUARI     UGEL HUARI         SAN MARCOS   \n",
       "\n",
       "  centropoblado_ie institucion_educativa  codigolocal_ie  codigomodular_ie  \\\n",
       "0         CALLALLI                 40380           69909            312611   \n",
       "1            ISCOG                 86052           23940            495705   \n",
       "2            RUNTU                 86467           25345            412270   \n",
       "3            RUNTU                 86467           25345            412270   \n",
       "4            PUJUN                 86469           25393            412379   \n",
       "\n",
       "  ruralidad  ...                                          elemento  \\\n",
       "0     Rural  ...           Aprendizaje completamente interiorizado   \n",
       "1     Rural  ...                 Expectativas rigurosas mantenidas   \n",
       "2     Rural  ...           Aprendizaje completamente interiorizado   \n",
       "3     Rural  ...                Comprensión comprobada y asegurada   \n",
       "4     Rural  ...  Se establece un entorno de aprendizaje atractivo   \n",
       "\n",
       "  porcentaje_positivas nivel_de_logro dni_participante id_participante  \\\n",
       "0              66.67 %  Satisfactorio         46691804        b29b10f0   \n",
       "1             100.00 %  Satisfactorio         73416240        b29b536b   \n",
       "2             100.00 %  Satisfactorio         46848286        4b581147   \n",
       "3             100.00 %  Satisfactorio         46848286        4b581147   \n",
       "4              52.50 %     En proceso         71135300        b29b30b1   \n",
       "\n",
       "                     participante                  coordinador_a programa  \\\n",
       "0                CHANA CHANA, EVA  DIAZ SALAZAR, CLAUDIA OLGUITA      PDL   \n",
       "1       RAMIREZ RAMIREZ, MILAGROS        CHOCHABOT PRENON, TRASY      PDL   \n",
       "2  ZAPATA LIZANA, ADA DEL ROSARIO        CHOCHABOT PRENON, TRASY      PDL   \n",
       "3  ZAPATA LIZANA, ADA DEL ROSARIO        CHOCHABOT PRENON, TRASY      PDL   \n",
       "4      UTURUNCO UTURUNCO, WILLIAN        CARBAJAL ALARCÓN, DIEGO      PDL   \n",
       "\n",
       "   anio_pdl                                          socios  \n",
       "0  1er anio                                             BHP  \n",
       "1  1er anio  Antamina,Franco Nevada,Wheaton Precious Metals  \n",
       "2    Alumni  Antamina,Franco Nevada,Wheaton Precious Metals  \n",
       "3    Alumni  Antamina,Franco Nevada,Wheaton Precious Metals  \n",
       "4  1er anio  Antamina,Franco Nevada,Wheaton Precious Metals  \n",
       "\n",
       "[5 rows x 23 columns]"
      ]
     },
     "execution_count": 169,
     "metadata": {},
     "output_type": "execute_result"
    }
   ],
   "source": [
    "data_clima_2023.head()"
   ]
  },
  {
   "cell_type": "code",
   "execution_count": 170,
   "metadata": {},
   "outputs": [
    {
     "data": {
      "text/html": [
       "<div>\n",
       "<style scoped>\n",
       "    .dataframe tbody tr th:only-of-type {\n",
       "        vertical-align: middle;\n",
       "    }\n",
       "\n",
       "    .dataframe tbody tr th {\n",
       "        vertical-align: top;\n",
       "    }\n",
       "\n",
       "    .dataframe thead th {\n",
       "        text-align: right;\n",
       "    }\n",
       "</style>\n",
       "<table border=\"1\" class=\"dataframe\">\n",
       "  <thead>\n",
       "    <tr style=\"text-align: right;\">\n",
       "      <th></th>\n",
       "      <th>anio</th>\n",
       "      <th>region_ie</th>\n",
       "      <th>provincia_ie</th>\n",
       "      <th>ugel_ie</th>\n",
       "      <th>distrito_ie</th>\n",
       "      <th>centropoblado_ie</th>\n",
       "      <th>institucion_educativa</th>\n",
       "      <th>codigolocal_ie</th>\n",
       "      <th>codigomodular_ie</th>\n",
       "      <th>ruralidad</th>\n",
       "      <th>...</th>\n",
       "      <th>porcentaje__positivas</th>\n",
       "      <th>nivel_de_logro</th>\n",
       "      <th>dni_participante</th>\n",
       "      <th>id_participante</th>\n",
       "      <th>participante</th>\n",
       "      <th>coordinador_a</th>\n",
       "      <th>programa</th>\n",
       "      <th>anio_pdl</th>\n",
       "      <th>socios</th>\n",
       "      <th>id_seccion</th>\n",
       "    </tr>\n",
       "  </thead>\n",
       "  <tbody>\n",
       "    <tr>\n",
       "      <th>0</th>\n",
       "      <td>2024</td>\n",
       "      <td>LA LIBERTAD</td>\n",
       "      <td>ASCOPE</td>\n",
       "      <td>UGEL ASCOPE</td>\n",
       "      <td>ASCOPE</td>\n",
       "      <td>ASCOPE</td>\n",
       "      <td>80021 SANTA TERESITA DEL NIniO JESUS</td>\n",
       "      <td>255906</td>\n",
       "      <td>214148</td>\n",
       "      <td>Urbana</td>\n",
       "      <td>...</td>\n",
       "      <td>48.80%</td>\n",
       "      <td>En proceso</td>\n",
       "      <td>42907017</td>\n",
       "      <td>b6fa379d-ffce-4df3-9747-2f8d530f4b6a</td>\n",
       "      <td>AGREDA MEREGILDO, DIANA ELIZABETH</td>\n",
       "      <td>CHUMACERO ARE, RUTH VANESSA</td>\n",
       "      <td>QM</td>\n",
       "      <td>No corresponde</td>\n",
       "      <td>Cartavio Rum Company  S. A. C - Grupo IF</td>\n",
       "      <td>HIiO9Srkv183p2l</td>\n",
       "    </tr>\n",
       "    <tr>\n",
       "      <th>1</th>\n",
       "      <td>2024</td>\n",
       "      <td>LA LIBERTAD</td>\n",
       "      <td>ASCOPE</td>\n",
       "      <td>UGEL ASCOPE</td>\n",
       "      <td>ASCOPE</td>\n",
       "      <td>ASCOPE</td>\n",
       "      <td>80021 SANTA TERESITA DEL NIniO JESUS</td>\n",
       "      <td>255906</td>\n",
       "      <td>214148</td>\n",
       "      <td>Urbana</td>\n",
       "      <td>...</td>\n",
       "      <td>51.70%</td>\n",
       "      <td>En proceso</td>\n",
       "      <td>42907017</td>\n",
       "      <td>b6fa379d-ffce-4df3-9747-2f8d530f4b6a</td>\n",
       "      <td>AGREDA MEREGILDO, DIANA ELIZABETH</td>\n",
       "      <td>CHUMACERO ARE, RUTH VANESSA</td>\n",
       "      <td>QM</td>\n",
       "      <td>No corresponde</td>\n",
       "      <td>Cartavio Rum Company  S. A. C - Grupo IF</td>\n",
       "      <td>HIiO9Srkv183p2l</td>\n",
       "    </tr>\n",
       "    <tr>\n",
       "      <th>2</th>\n",
       "      <td>2024</td>\n",
       "      <td>LA LIBERTAD</td>\n",
       "      <td>ASCOPE</td>\n",
       "      <td>UGEL ASCOPE</td>\n",
       "      <td>ASCOPE</td>\n",
       "      <td>ASCOPE</td>\n",
       "      <td>80021 SANTA TERESITA DEL NIniO JESUS</td>\n",
       "      <td>255906</td>\n",
       "      <td>214148</td>\n",
       "      <td>Urbana</td>\n",
       "      <td>...</td>\n",
       "      <td>48.80%</td>\n",
       "      <td>En proceso</td>\n",
       "      <td>42907017</td>\n",
       "      <td>b6fa379d-ffce-4df3-9747-2f8d530f4b6a</td>\n",
       "      <td>AGREDA MEREGILDO, DIANA ELIZABETH</td>\n",
       "      <td>CHUMACERO ARE, RUTH VANESSA</td>\n",
       "      <td>QM</td>\n",
       "      <td>No corresponde</td>\n",
       "      <td>Cartavio Rum Company  S. A. C - Grupo IF</td>\n",
       "      <td>HIiO9Srkv183p2l</td>\n",
       "    </tr>\n",
       "    <tr>\n",
       "      <th>3</th>\n",
       "      <td>2024</td>\n",
       "      <td>LA LIBERTAD</td>\n",
       "      <td>ASCOPE</td>\n",
       "      <td>UGEL ASCOPE</td>\n",
       "      <td>ASCOPE</td>\n",
       "      <td>ASCOPE</td>\n",
       "      <td>80021 SANTA TERESITA DEL NIniO JESUS</td>\n",
       "      <td>255906</td>\n",
       "      <td>214148</td>\n",
       "      <td>Urbana</td>\n",
       "      <td>...</td>\n",
       "      <td>26.30%</td>\n",
       "      <td>En inicio</td>\n",
       "      <td>42907017</td>\n",
       "      <td>b6fa379d-ffce-4df3-9747-2f8d530f4b6a</td>\n",
       "      <td>AGREDA MEREGILDO, DIANA ELIZABETH</td>\n",
       "      <td>CHUMACERO ARE, RUTH VANESSA</td>\n",
       "      <td>QM</td>\n",
       "      <td>No corresponde</td>\n",
       "      <td>Cartavio Rum Company  S. A. C - Grupo IF</td>\n",
       "      <td>HIiO9Srkv183p2l</td>\n",
       "    </tr>\n",
       "    <tr>\n",
       "      <th>4</th>\n",
       "      <td>2024</td>\n",
       "      <td>LA LIBERTAD</td>\n",
       "      <td>ASCOPE</td>\n",
       "      <td>UGEL ASCOPE</td>\n",
       "      <td>ASCOPE</td>\n",
       "      <td>ASCOPE</td>\n",
       "      <td>80021 SANTA TERESITA DEL NIniO JESUS</td>\n",
       "      <td>255906</td>\n",
       "      <td>214148</td>\n",
       "      <td>Urbana</td>\n",
       "      <td>...</td>\n",
       "      <td>53.80%</td>\n",
       "      <td>En proceso</td>\n",
       "      <td>42907017</td>\n",
       "      <td>b6fa379d-ffce-4df3-9747-2f8d530f4b6a</td>\n",
       "      <td>AGREDA MEREGILDO, DIANA ELIZABETH</td>\n",
       "      <td>CHUMACERO ARE, RUTH VANESSA</td>\n",
       "      <td>QM</td>\n",
       "      <td>No corresponde</td>\n",
       "      <td>Cartavio Rum Company  S. A. C - Grupo IF</td>\n",
       "      <td>HIiO9Srkv183p2l</td>\n",
       "    </tr>\n",
       "  </tbody>\n",
       "</table>\n",
       "<p>5 rows × 24 columns</p>\n",
       "</div>"
      ],
      "text/plain": [
       "   anio    region_ie provincia_ie      ugel_ie distrito_ie centropoblado_ie  \\\n",
       "0  2024  LA LIBERTAD       ASCOPE  UGEL ASCOPE      ASCOPE           ASCOPE   \n",
       "1  2024  LA LIBERTAD       ASCOPE  UGEL ASCOPE      ASCOPE           ASCOPE   \n",
       "2  2024  LA LIBERTAD       ASCOPE  UGEL ASCOPE      ASCOPE           ASCOPE   \n",
       "3  2024  LA LIBERTAD       ASCOPE  UGEL ASCOPE      ASCOPE           ASCOPE   \n",
       "4  2024  LA LIBERTAD       ASCOPE  UGEL ASCOPE      ASCOPE           ASCOPE   \n",
       "\n",
       "                  institucion_educativa  codigolocal_ie  codigomodular_ie  \\\n",
       "0  80021 SANTA TERESITA DEL NIniO JESUS          255906            214148   \n",
       "1  80021 SANTA TERESITA DEL NIniO JESUS          255906            214148   \n",
       "2  80021 SANTA TERESITA DEL NIniO JESUS          255906            214148   \n",
       "3  80021 SANTA TERESITA DEL NIniO JESUS          255906            214148   \n",
       "4  80021 SANTA TERESITA DEL NIniO JESUS          255906            214148   \n",
       "\n",
       "  ruralidad  ... porcentaje__positivas nivel_de_logro dni_participante  \\\n",
       "0    Urbana  ...                48.80%     En proceso         42907017   \n",
       "1    Urbana  ...                51.70%     En proceso         42907017   \n",
       "2    Urbana  ...                48.80%     En proceso         42907017   \n",
       "3    Urbana  ...                26.30%      En inicio         42907017   \n",
       "4    Urbana  ...                53.80%     En proceso         42907017   \n",
       "\n",
       "                        id_participante                       participante  \\\n",
       "0  b6fa379d-ffce-4df3-9747-2f8d530f4b6a  AGREDA MEREGILDO, DIANA ELIZABETH   \n",
       "1  b6fa379d-ffce-4df3-9747-2f8d530f4b6a  AGREDA MEREGILDO, DIANA ELIZABETH   \n",
       "2  b6fa379d-ffce-4df3-9747-2f8d530f4b6a  AGREDA MEREGILDO, DIANA ELIZABETH   \n",
       "3  b6fa379d-ffce-4df3-9747-2f8d530f4b6a  AGREDA MEREGILDO, DIANA ELIZABETH   \n",
       "4  b6fa379d-ffce-4df3-9747-2f8d530f4b6a  AGREDA MEREGILDO, DIANA ELIZABETH   \n",
       "\n",
       "                 coordinador_a  programa        anio_pdl  \\\n",
       "0  CHUMACERO ARE, RUTH VANESSA        QM  No corresponde   \n",
       "1  CHUMACERO ARE, RUTH VANESSA        QM  No corresponde   \n",
       "2  CHUMACERO ARE, RUTH VANESSA        QM  No corresponde   \n",
       "3  CHUMACERO ARE, RUTH VANESSA        QM  No corresponde   \n",
       "4  CHUMACERO ARE, RUTH VANESSA        QM  No corresponde   \n",
       "\n",
       "                                     socios       id_seccion  \n",
       "0  Cartavio Rum Company  S. A. C - Grupo IF  HIiO9Srkv183p2l  \n",
       "1  Cartavio Rum Company  S. A. C - Grupo IF  HIiO9Srkv183p2l  \n",
       "2  Cartavio Rum Company  S. A. C - Grupo IF  HIiO9Srkv183p2l  \n",
       "3  Cartavio Rum Company  S. A. C - Grupo IF  HIiO9Srkv183p2l  \n",
       "4  Cartavio Rum Company  S. A. C - Grupo IF  HIiO9Srkv183p2l  \n",
       "\n",
       "[5 rows x 24 columns]"
      ]
     },
     "execution_count": 170,
     "metadata": {},
     "output_type": "execute_result"
    }
   ],
   "source": [
    "data_clima_2024.head()"
   ]
  },
  {
   "cell_type": "code",
   "execution_count": 171,
   "metadata": {},
   "outputs": [
    {
     "data": {
      "text/plain": [
       "nivel_de_logro\n",
       "Satisfactorio    3921\n",
       "En proceso       3217\n",
       "En inicio         581\n",
       "Name: count, dtype: int64"
      ]
     },
     "execution_count": 171,
     "metadata": {},
     "output_type": "execute_result"
    }
   ],
   "source": [
    "data_clima_2023.nivel_de_logro.value_counts()"
   ]
  },
  {
   "cell_type": "code",
   "execution_count": 172,
   "metadata": {},
   "outputs": [
    {
     "data": {
      "text/plain": [
       "nivel_de_logro\n",
       "En proceso       2754\n",
       "En inicio        2214\n",
       "Satisfactorio     513\n",
       "Name: count, dtype: int64"
      ]
     },
     "execution_count": 172,
     "metadata": {},
     "output_type": "execute_result"
    }
   ],
   "source": [
    "data_clima_2024.nivel_de_logro.value_counts()"
   ]
  },
  {
   "cell_type": "code",
   "execution_count": 173,
   "metadata": {},
   "outputs": [
    {
     "data": {
      "text/plain": [
       "Index(['anio', 'region_ie', 'provincia_ie', 'ugel_ie', 'distrito_ie',\n",
       "       'centropoblado_ie', 'institucion_educativa', 'codigolocal_ie',\n",
       "       'codigomodular_ie', 'ruralidad', 'grado', 'periodo', 'evaluacion',\n",
       "       'elemento', 'porcentaje_positivas', 'nivel_de_logro',\n",
       "       'dni_participante', 'id_participante', 'participante', 'coordinador_a',\n",
       "       'programa', 'anio_pdl', 'socios'],\n",
       "      dtype='object')"
      ]
     },
     "execution_count": 173,
     "metadata": {},
     "output_type": "execute_result"
    }
   ],
   "source": [
    "data_clima_2023.columns"
   ]
  },
  {
   "cell_type": "code",
   "execution_count": 174,
   "metadata": {},
   "outputs": [
    {
     "data": {
      "text/plain": [
       "Index(['anio', 'region_ie', 'provincia_ie', 'ugel_ie', 'distrito_ie',\n",
       "       'centropoblado_ie', 'institucion_educativa', 'codigolocal_ie',\n",
       "       'codigomodular_ie', 'ruralidad', 'grado', 'periodo', 'evaluacion',\n",
       "       'elemento', 'porcentaje__positivas', 'nivel_de_logro',\n",
       "       'dni_participante', 'id_participante', 'participante', 'coordinador_a',\n",
       "       'programa', 'anio_pdl', 'socios', 'id_seccion'],\n",
       "      dtype='object')"
      ]
     },
     "execution_count": 174,
     "metadata": {},
     "output_type": "execute_result"
    }
   ],
   "source": [
    "data_clima_2024.columns"
   ]
  },
  {
   "cell_type": "code",
   "execution_count": 175,
   "metadata": {},
   "outputs": [
    {
     "data": {
      "text/plain": [
       "anio                      0\n",
       "region_ie                 0\n",
       "provincia_ie              0\n",
       "ugel_ie                   0\n",
       "distrito_ie               0\n",
       "centropoblado_ie          0\n",
       "institucion_educativa     0\n",
       "codigolocal_ie            0\n",
       "codigomodular_ie          0\n",
       "ruralidad                 0\n",
       "grado                     0\n",
       "periodo                   0\n",
       "evaluacion                0\n",
       "elemento                  0\n",
       "porcentaje__positivas     0\n",
       "nivel_de_logro            0\n",
       "dni_participante          0\n",
       "id_participante           0\n",
       "participante              0\n",
       "coordinador_a             0\n",
       "programa                  0\n",
       "anio_pdl                  0\n",
       "socios                   21\n",
       "id_seccion                0\n",
       "dtype: int64"
      ]
     },
     "execution_count": 175,
     "metadata": {},
     "output_type": "execute_result"
    }
   ],
   "source": [
    "data_clima_2024.isnull().sum()"
   ]
  },
  {
   "cell_type": "code",
   "execution_count": 176,
   "metadata": {},
   "outputs": [
    {
     "data": {
      "text/plain": [
       "['Aprendizaje completamente interiorizado',\n",
       " 'Comprensión comprobada y asegurada',\n",
       " 'Expectativas rigurosas mantenidas',\n",
       " 'Se crea una cultura positiva y un entorno de aprendizaje.',\n",
       " 'Se establece un entorno de aprendizaje atractivo',\n",
       " 'Se fomentan relaciones alentadoras y de apoyo.',\n",
       " 'Se valoran los aportes y las ideas de los estudiantes']"
      ]
     },
     "execution_count": 176,
     "metadata": {},
     "output_type": "execute_result"
    }
   ],
   "source": [
    "sorted(data_clima_2023.elemento.unique())"
   ]
  },
  {
   "cell_type": "code",
   "execution_count": 177,
   "metadata": {},
   "outputs": [
    {
     "data": {
      "text/plain": [
       "['Aprendizaje completamente interiorizado',\n",
       " 'Comprensión comprobada y asegurada',\n",
       " 'Expectativas rigurosas mantenidas',\n",
       " 'Se crea una cultura positiva y un entorno de aprendizaje',\n",
       " 'Se establece un entorno de aprendizaje atractivo',\n",
       " 'Se fomentan relaciones alentadoras y de apoyo',\n",
       " 'Se valoran los aportes y las ideas de los estudiantes']"
      ]
     },
     "execution_count": 177,
     "metadata": {},
     "output_type": "execute_result"
    }
   ],
   "source": [
    "sorted(data_clima_2024.elemento.unique())"
   ]
  },
  {
   "cell_type": "code",
   "execution_count": 178,
   "metadata": {},
   "outputs": [],
   "source": [
    "data_clima_2023.loc[data_clima_2023['elemento'] == 'Se crea una cultura positiva y un entorno de aprendizaje.', 'elemento'] = 'Se crea una cultura positiva y un entorno de aprendizaje'"
   ]
  },
  {
   "cell_type": "code",
   "execution_count": 179,
   "metadata": {},
   "outputs": [],
   "source": [
    "data_clima_2023.loc[data_clima_2023['elemento'] == 'Se fomentan relaciones alentadoras y de apoyo.', 'elemento'] = 'Se fomentan relaciones alentadoras y de apoyo'"
   ]
  },
  {
   "cell_type": "code",
   "execution_count": 180,
   "metadata": {},
   "outputs": [],
   "source": [
    "data_clima_2024 = data_clima_2024.rename(columns={'porcentaje__positivas': 'porcentaje_positivas'})"
   ]
  },
  {
   "cell_type": "code",
   "execution_count": 181,
   "metadata": {},
   "outputs": [],
   "source": [
    "data_clima_2024 = data_clima_2024.drop(['id_seccion'], axis=1)"
   ]
  },
  {
   "cell_type": "code",
   "execution_count": 182,
   "metadata": {},
   "outputs": [
    {
     "data": {
      "text/plain": [
       "(13200, 23)"
      ]
     },
     "execution_count": 182,
     "metadata": {},
     "output_type": "execute_result"
    }
   ],
   "source": [
    "data_clima_aula = pd.concat([data_clima_2023, data_clima_2024], ignore_index=True)\n",
    "data_clima_aula.shape"
   ]
  },
  {
   "cell_type": "code",
   "execution_count": 183,
   "metadata": {},
   "outputs": [
    {
     "name": "stdout",
     "output_type": "stream",
     "text": [
      "<class 'pandas.core.frame.DataFrame'>\n",
      "RangeIndex: 13200 entries, 0 to 13199\n",
      "Data columns (total 23 columns):\n",
      " #   Column                 Non-Null Count  Dtype \n",
      "---  ------                 --------------  ----- \n",
      " 0   anio                   13200 non-null  int64 \n",
      " 1   region_ie              13200 non-null  object\n",
      " 2   provincia_ie           13200 non-null  object\n",
      " 3   ugel_ie                13200 non-null  object\n",
      " 4   distrito_ie            13200 non-null  object\n",
      " 5   centropoblado_ie       13200 non-null  object\n",
      " 6   institucion_educativa  13200 non-null  object\n",
      " 7   codigolocal_ie         13200 non-null  int64 \n",
      " 8   codigomodular_ie       13200 non-null  int64 \n",
      " 9   ruralidad              13200 non-null  object\n",
      " 10  grado                  13200 non-null  object\n",
      " 11  periodo                13200 non-null  object\n",
      " 12  evaluacion             13200 non-null  object\n",
      " 13  elemento               13200 non-null  object\n",
      " 14  porcentaje_positivas   13175 non-null  object\n",
      " 15  nivel_de_logro         13200 non-null  object\n",
      " 16  dni_participante       13186 non-null  object\n",
      " 17  id_participante        13200 non-null  object\n",
      " 18  participante           13200 non-null  object\n",
      " 19  coordinador_a          13200 non-null  object\n",
      " 20  programa               13200 non-null  object\n",
      " 21  anio_pdl               13200 non-null  object\n",
      " 22  socios                 13179 non-null  object\n",
      "dtypes: int64(3), object(20)\n",
      "memory usage: 2.3+ MB\n"
     ]
    }
   ],
   "source": [
    "data_clima_aula.info()"
   ]
  },
  {
   "cell_type": "code",
   "execution_count": 184,
   "metadata": {},
   "outputs": [
    {
     "data": {
      "text/plain": [
       "472"
      ]
     },
     "execution_count": 184,
     "metadata": {},
     "output_type": "execute_result"
    }
   ],
   "source": [
    "data_clima_aula.id_participante.nunique()"
   ]
  },
  {
   "cell_type": "code",
   "execution_count": 185,
   "metadata": {},
   "outputs": [
    {
     "data": {
      "text/plain": [
       "array(['Pri-6xto', 'Pri-1ero', 'Pri-2ndo', 'Pri-3ero', 'Pri-5nto',\n",
       "       'Pri-4rto', 'Sec-3ero', 'Sec-4rto', 'Sec-1ero', 'Sec-2ndo',\n",
       "       'Sec-5nto', 'Ini-4rto', 'Ini-5nto', 'Ini-3ero'], dtype=object)"
      ]
     },
     "execution_count": 185,
     "metadata": {},
     "output_type": "execute_result"
    }
   ],
   "source": [
    "data_academico.grado.unique()"
   ]
  },
  {
   "cell_type": "code",
   "execution_count": 186,
   "metadata": {},
   "outputs": [
    {
     "data": {
      "text/plain": [
       "array(['Sec-4rto', 'Sec-2ndo', 'Pri-4rto', 'Pri-1ero', 'Pri-5nto',\n",
       "       'Sec-1ero', 'Pri-3ero', 'Sec-5nto', 'Pri-6xto', 'Sec-3ero',\n",
       "       'Pri-2ndo'], dtype=object)"
      ]
     },
     "execution_count": 186,
     "metadata": {},
     "output_type": "execute_result"
    }
   ],
   "source": [
    "data_socioemocional.grado.unique()"
   ]
  },
  {
   "cell_type": "code",
   "execution_count": 187,
   "metadata": {},
   "outputs": [
    {
     "data": {
      "text/plain": [
       "array(['Pri-6xto', 'Pri-5nto', 'Pri-1ero', 'Pri-4rto', 'Pri-2ndo',\n",
       "       'Pri-3ero', 'Sec-3ero', 'Sec-1ero', 'Sec-2ndo', 'Sec-5nto',\n",
       "       'Sec-4rto'], dtype=object)"
      ]
     },
     "execution_count": 187,
     "metadata": {},
     "output_type": "execute_result"
    }
   ],
   "source": [
    "data_clima_aula.grado.unique()"
   ]
  },
  {
   "cell_type": "markdown",
   "metadata": {},
   "source": [
    "## Limpieza de datos"
   ]
  },
  {
   "cell_type": "code",
   "execution_count": 188,
   "metadata": {},
   "outputs": [],
   "source": [
    "data_academico = data_academico.loc[~data_academico['grado'].isin(['Ini-5nto', 'Ini-4rto', 'Ini-3ero'])]"
   ]
  },
  {
   "cell_type": "code",
   "execution_count": 189,
   "metadata": {},
   "outputs": [
    {
     "data": {
      "text/plain": [
       "grado\n",
       "Pri-5nto    15335\n",
       "Pri-6xto    14834\n",
       "Pri-2ndo    13290\n",
       "Pri-4rto    12239\n",
       "Pri-3ero    11412\n",
       "Pri-1ero     7146\n",
       "Sec-2ndo     5225\n",
       "Sec-3ero     4828\n",
       "Sec-1ero     3782\n",
       "Sec-5nto     2923\n",
       "Sec-4rto     2049\n",
       "Name: count, dtype: int64"
      ]
     },
     "execution_count": 189,
     "metadata": {},
     "output_type": "execute_result"
    }
   ],
   "source": [
    "data_academico.grado.value_counts()"
   ]
  },
  {
   "cell_type": "code",
   "execution_count": null,
   "metadata": {},
   "outputs": [],
   "source": [
    "# data_academico.loc[data_academico['grado'].str.startswith('Pri'), 'grado'] = 'Primaria'\n",
    "# data_academico.loc[data_academico['grado'].str.startswith('Sec'), 'grado'] = 'Secundaria'"
   ]
  },
  {
   "cell_type": "code",
   "execution_count": null,
   "metadata": {},
   "outputs": [],
   "source": [
    "# data_socioemocional.loc[data_socioemocional['grado'].str.startswith('Pri'), 'grado'] = 'Primaria'\n",
    "# data_socioemocional.loc[data_socioemocional['grado'].str.startswith('Sec'), 'grado'] = 'Secundaria'"
   ]
  },
  {
   "cell_type": "code",
   "execution_count": null,
   "metadata": {},
   "outputs": [],
   "source": [
    "# data_clima_aula.loc[data_clima_aula['grado'].str.startswith('Pri'), 'grado'] = 'Primaria'\n",
    "# data_clima_aula.loc[data_clima_aula['grado'].str.startswith('Sec'), 'grado'] = 'Secundaria'"
   ]
  },
  {
   "cell_type": "code",
   "execution_count": null,
   "metadata": {},
   "outputs": [
    {
     "data": {
      "text/plain": [
       "687"
      ]
     },
     "execution_count": 191,
     "metadata": {},
     "output_type": "execute_result"
    }
   ],
   "source": [
    "data_academico.id_participante.nunique()"
   ]
  },
  {
   "cell_type": "code",
   "execution_count": 192,
   "metadata": {},
   "outputs": [
    {
     "data": {
      "text/plain": [
       "472"
      ]
     },
     "execution_count": 192,
     "metadata": {},
     "output_type": "execute_result"
    }
   ],
   "source": [
    "data_socioemocional.id_participante.nunique()"
   ]
  },
  {
   "cell_type": "code",
   "execution_count": 193,
   "metadata": {},
   "outputs": [
    {
     "data": {
      "text/plain": [
       "472"
      ]
     },
     "execution_count": 193,
     "metadata": {},
     "output_type": "execute_result"
    }
   ],
   "source": [
    "data_clima_aula.id_participante.nunique()"
   ]
  },
  {
   "cell_type": "code",
   "execution_count": 194,
   "metadata": {},
   "outputs": [],
   "source": [
    "data_academico.to_csv(\"..\\\\data\\\\academico_.csv\", index=False)"
   ]
  },
  {
   "cell_type": "code",
   "execution_count": 195,
   "metadata": {},
   "outputs": [],
   "source": [
    "data_socioemocional.to_csv('..\\\\data\\\\socioemocional_.csv', index=False)"
   ]
  },
  {
   "cell_type": "code",
   "execution_count": 196,
   "metadata": {},
   "outputs": [],
   "source": [
    "data_clima_aula.to_csv('..\\\\data\\\\clima_aula_.csv', index=False)"
   ]
  },
  {
   "cell_type": "code",
   "execution_count": 198,
   "metadata": {},
   "outputs": [
    {
     "data": {
      "text/plain": [
       "anio\n",
       "2024    48482\n",
       "2023    44581\n",
       "Name: count, dtype: int64"
      ]
     },
     "execution_count": 198,
     "metadata": {},
     "output_type": "execute_result"
    }
   ],
   "source": [
    "data_academico.anio.value_counts()"
   ]
  },
  {
   "cell_type": "code",
   "execution_count": 202,
   "metadata": {},
   "outputs": [
    {
     "data": {
      "text/plain": [
       "Index(['anio', 'region_ie', 'provincia_ie', 'ugel_ie', 'distrito_ie',\n",
       "       'centropoblado_ie', 'institucion_educativa', 'codigolocal_ie',\n",
       "       'codigomodular_ie', 'ruralidad', 'estudiantes', 'grado', 'periodo',\n",
       "       'curso', 'comp', 'nivel_de_logro', 'dni_participante',\n",
       "       'id_participante', 'participante', 'coordinador_a', 'programa',\n",
       "       'anio_pdl', 'socios'],\n",
       "      dtype='object')"
      ]
     },
     "execution_count": 202,
     "metadata": {},
     "output_type": "execute_result"
    }
   ],
   "source": [
    "data_academico.columns"
   ]
  },
  {
   "cell_type": "code",
   "execution_count": 204,
   "metadata": {},
   "outputs": [
    {
     "name": "stdout",
     "output_type": "stream",
     "text": [
      "Value counts for column 'anio':\n",
      "anio\n",
      "2024    48482\n",
      "2023    44581\n",
      "Name: count, dtype: int64\n",
      "\n",
      "Value counts for column 'region_ie':\n",
      "region_ie\n",
      "ANCASH                12655\n",
      "LA LIBERTAD           12262\n",
      "LIMA                  10704\n",
      "AREQUIPA               9933\n",
      "HUANCAVELICA           9847\n",
      "LIMA METROPOLITANA     9011\n",
      "AMAZONAS               8856\n",
      "ICA                    6943\n",
      "PIURA                  4411\n",
      "CAJAMARCA              3655\n",
      "JUNIN                  1959\n",
      "PASCO                  1014\n",
      "AREQUIPA\\r\\n            960\n",
      "CUSCO                   661\n",
      "CALLAO                  192\n",
      "Name: count, dtype: int64\n",
      "\n",
      "Value counts for column 'provincia_ie':\n",
      "provincia_ie\n",
      "LIMA            19715\n",
      "HUARI            9858\n",
      "ASCOPE           7169\n",
      "ICA              6411\n",
      "AREQUIPA         5737\n",
      "ANGARAES         5442\n",
      "LUYA             4790\n",
      "PIURA            4411\n",
      "HUAYTARA         4405\n",
      "VIRU             4310\n",
      "CAYLLOMA         3292\n",
      "BAGUA            2456\n",
      "SAN MARCOS       2257\n",
      "YAULI            1959\n",
      "HUARMEY          1670\n",
      "CHACHAPOYAS      1358\n",
      "BOLOGNESI        1018\n",
      "PASCO            1014\n",
      "AREQUIPA\\r\\n      960\n",
      "HUALGAYOC         590\n",
      "PISCO             532\n",
      "TRUJILLO          453\n",
      "SAN MIGUEL        391\n",
      "CARAVELI          348\n",
      "QUISPICANCHI      343\n",
      "CAMANA            319\n",
      "URUBAMBA          318\n",
      "SAN PABLO         272\n",
      "CONDESUYOS        237\n",
      "CALLAO            192\n",
      "CHEPEN            170\n",
      "BONGARA           164\n",
      "SANTA CRUZ        145\n",
      "RECUAY            109\n",
      "PACASMAYO         108\n",
      "UTCUBAMBA          88\n",
      "OTUZCO             52\n",
      "Name: count, dtype: int64\n",
      "\n",
      "Value counts for column 'ugel_ie':\n",
      "ugel_ie\n",
      "UGEL 01 SAN JUAN DE MIRAFLORES    10890\n",
      "UGEL HUARI                         9858\n",
      "UGEL 06 ATE                        7943\n",
      "UGEL ASCOPE                        7221\n",
      "UGEL ICA                           6411\n",
      "UGEL ANGARAES                      5442\n",
      "UGEL LUYA                          4790\n",
      "UGEL HUAYTARÁ                      4405\n",
      "UGEL VIRÚ                          4310\n",
      "UGEL TAMBOGRANDE                   4154\n",
      "UGEL LA JOYA                       2891\n",
      "UGEL CAYLLOMA                      2880\n",
      "UGEL IBIR-IMAZA                    2456\n",
      "UGEL SAN MARCOS                    2257\n",
      "UGEL YAULI                         1959\n",
      "UGEL HUARMEY                       1670\n",
      "UGEL AREQUIPA SUR                  1664\n",
      "UGEL AREQUIPA NORTE                1527\n",
      "UGEL CHACHAPOYAS                   1358\n",
      "UGEL BOLOGNESI                     1018\n",
      "UGEL PASCO                         1014\n",
      "UGEL 04 COMAS                       882\n",
      "UGEL LA JOYA\\r\\n                    684\n",
      "UGEL HUALGAYOC                      590\n",
      "UGEL PISCO                          532\n",
      "UGEL 02 - LA ESPERANZA              453\n",
      "UGEL SAN MIGUEL                     391\n",
      "UGEL CARAVELI                       348\n",
      "UGEL AREQUIPA SUR\\r\\n               343\n",
      "UGEL QUISPICANCHI                   343\n",
      "UGEL CAMANÁ                         319\n",
      "UGEL URUBAMBA                       318\n",
      "UGEL SAN PABLO                      272\n",
      "UGEL PIURA                          257\n",
      "UGEL CONDESUYOS                     237\n",
      "DRE CALLAO                          192\n",
      "UGEL CHEPÉN                         170\n",
      "UGEL BONGARÁ                        164\n",
      "UGEL SANTA CRUZ                     145\n",
      "UGEL RECUAY                         109\n",
      "UGEL PACASMAYO                      108\n",
      "UGEL UTCUBAMBA                       88\n",
      "Name: count, dtype: int64\n",
      "\n",
      "Value counts for column 'distrito_ie':\n",
      "distrito_ie\n",
      "PACHACAMAC       5882\n",
      "LIRCAY           5202\n",
      "SAN MARCOS       4852\n",
      "ATE              4773\n",
      "LURIN            4660\n",
      "                 ... \n",
      "ICHOCAN            42\n",
      "COCABAMBA          30\n",
      "GREGORIO PITA      18\n",
      "PISUQUIA           10\n",
      "ANRA                3\n",
      "Name: count, Length: 99, dtype: int64\n",
      "\n",
      "Value counts for column 'centropoblado_ie':\n",
      "centropoblado_ie\n",
      "PACHACAMAC      5455\n",
      "VITARTE         4773\n",
      "LURIN           4660\n",
      "PUEBLO NUEVO    3672\n",
      "SANTA ANITA     3170\n",
      "                ... \n",
      "DURAZNILLO        10\n",
      "SHUSHUNGA          6\n",
      "JIRCAHUAYI         5\n",
      "JUPROG             3\n",
      "CASCAY             3\n",
      "Name: count, Length: 219, dtype: int64\n",
      "\n",
      "Value counts for column 'institucion_educativa':\n",
      "institucion_educativa\n",
      "6006 SANTISIMA VIRGEN DE LOURDES    4764\n",
      "1137 JOSE ANTONIO ENCINAS           3170\n",
      "22511                               2794\n",
      "6008 JOSE ANTONIO DAPELO            2349\n",
      "36214 ALBERT EINSTEIN               2006\n",
      "                                    ... \n",
      "18180 SAN ANTONIO                     10\n",
      "16319                                  6\n",
      "86407                                  5\n",
      "86470                                  3\n",
      "86353                                  3\n",
      "Name: count, Length: 269, dtype: int64\n",
      "\n",
      "Value counts for column 'codigolocal_ie':\n",
      "codigolocal_ie\n",
      "318206    4764\n",
      "338817    3170\n",
      "212200    2794\n",
      "314982    2349\n",
      "177206    2006\n",
      "          ... \n",
      "9133        10\n",
      "3819         6\n",
      "23860        5\n",
      "25406        3\n",
      "23515        3\n",
      "Name: count, Length: 269, dtype: int64\n",
      "\n",
      "Value counts for column 'codigomodular_ie':\n",
      "codigomodular_ie\n",
      "328914     4764\n",
      "318949     3170\n",
      "277616     2747\n",
      "328930     2292\n",
      "429779     1904\n",
      "           ... \n",
      "1391473      10\n",
      "402289        6\n",
      "412536        5\n",
      "412387        3\n",
      "414052        3\n",
      "Name: count, Length: 284, dtype: int64\n",
      "\n",
      "Value counts for column 'ruralidad':\n",
      "ruralidad\n",
      "Urbana    52626\n",
      "Rural     40437\n",
      "Name: count, dtype: int64\n",
      "\n",
      "Value counts for column 'estudiantes':\n",
      "estudiantes\n",
      "Est                                    143\n",
      "dWFIejHonflhnt7                         34\n",
      "8qrR2vv0DFFelOJ                         32\n",
      "Jx7IDz0Fl0mXiNm                         32\n",
      "yviejmrx2XJIpjD                         32\n",
      "                                      ... \n",
      "HILARIO CHICLOTE , PEDRO ALESSANDRO      1\n",
      "CáRDENAS GALLARDO , NATALI YASMIN        1\n",
      "GUZMAN VERGARA , MARYORI ANTUANET        1\n",
      "CASTILLO QUIROZ , CAMILA JHUVITZA        1\n",
      "FLORES NARRO , FABIANE CAROLINA          1\n",
      "Name: count, Length: 16618, dtype: int64\n",
      "\n",
      "Value counts for column 'grado':\n",
      "grado\n",
      "Pri-5nto    15335\n",
      "Pri-6xto    14834\n",
      "Pri-2ndo    13290\n",
      "Pri-4rto    12239\n",
      "Pri-3ero    11412\n",
      "Pri-1ero     7146\n",
      "Sec-2ndo     5225\n",
      "Sec-3ero     4828\n",
      "Sec-1ero     3782\n",
      "Sec-5nto     2923\n",
      "Sec-4rto     2049\n",
      "Name: count, dtype: int64\n",
      "\n",
      "Value counts for column 'periodo':\n",
      "periodo\n",
      "Marzo 2024        23569\n",
      "Diciembre 2024    17941\n",
      "Marzo 2023        15336\n",
      "Julio 2023        14967\n",
      "Diciembre 2023    14278\n",
      "Julio 2024         6972\n",
      "Name: count, dtype: int64\n",
      "\n",
      "Value counts for column 'curso':\n",
      "curso\n",
      "Matemática              57683\n",
      "Comunicación            23197\n",
      "Inglés                   7579\n",
      "Ciencia y Tecnología     4604\n",
      "Name: count, dtype: int64\n",
      "\n",
      "Value counts for column 'comp':\n",
      "comp\n",
      "C08                23197\n",
      "C23                15506\n",
      "C26                15473\n",
      "C25                13170\n",
      "C24                13162\n",
      "C14                 5388\n",
      "C20                 2001\n",
      "C22                 1990\n",
      "C13                 1097\n",
      "C15                 1094\n",
      "C21                  613\n",
      "C23,C24,C25,C26      372\n",
      "Name: count, dtype: int64\n",
      "\n",
      "Value counts for column 'nivel_de_logro':\n",
      "nivel_de_logro\n",
      "Satisfactorio    33486\n",
      "En proceso       33225\n",
      "En inicio        26352\n",
      "Name: count, dtype: int64\n",
      "\n",
      "Value counts for column 'dni_participante':\n",
      "dni_participante\n",
      "71769087    1189\n",
      "72250784    1071\n",
      "72868626    1005\n",
      "40659425     936\n",
      "72498422     732\n",
      "            ... \n",
      "32304831       5\n",
      "72791884       3\n",
      "10627821       3\n",
      "72392498       3\n",
      "26696069       1\n",
      "Name: count, Length: 674, dtype: int64\n",
      "\n",
      "Value counts for column 'id_participante':\n",
      "id_participante\n",
      "b29b47192024                            1005\n",
      "b29b38122024                             979\n",
      "b29b3e4f2024                             813\n",
      "b29b421e2024                             732\n",
      "7126386b                                 676\n",
      "                                        ... \n",
      "95b7cd87                                   5\n",
      "c8bb1f5c                                   3\n",
      "64b5d1a83fd444c92f0e125a                   3\n",
      "41de32bd-434b-402e-a3b7-49966e789908       3\n",
      "e3505f37-e588-4c71-9351-24a764ee6834       1\n",
      "Name: count, Length: 687, dtype: int64\n",
      "\n",
      "Value counts for column 'participante':\n",
      "participante\n",
      "CÉLIZ VÁSQUEZ, GABRIELA            1189\n",
      "VILCAHUAMAN NOLI, GINA MILAGROS    1133\n",
      "LOBATON FLORES, CADY EYTABEL       1071\n",
      "TEQUEN SANCHEZ, HUGO MARCO         1032\n",
      "MANCILLA HURTADO, URSULA LISSET     936\n",
      "                                   ... \n",
      "CAMPOS FLORES, OSWALDO                5\n",
      "ANAYA UGARTE, NATALY ADRIANITA        3\n",
      "Tarazona Herrera, Miriam Úrsula       3\n",
      "HUERTA CERVANTES, ANIBAL              3\n",
      "CARO RITUAY, CLARA JULIETA            1\n",
      "Name: count, Length: 630, dtype: int64\n",
      "\n",
      "Value counts for column 'coordinador_a':\n",
      "coordinador_a\n",
      "TARAZONA SERNAQUE, ANDREA MARGOT       10970\n",
      "ROJAS AGUILAR, DIANA CAROLINA           9629\n",
      "MONTOYA PEniA, ROSA CELINA              7514\n",
      "VALENCIA OCHOCHOQUE, NATALY OREALIZ     6163\n",
      "PACHECO CACERES, SUSAN JHANETT          5729\n",
      "                                       ...  \n",
      "Nilda Carrión Zavaleta                    65\n",
      "Paula Soledad Amador Mendoza              57\n",
      "Tulio Agustín Lescano Avalos              56\n",
      "Misaél Noé Idrogo Marino                  52\n",
      "UGEL HUARI                                 3\n",
      "Name: count, Length: 62, dtype: int64\n",
      "\n",
      "Value counts for column 'programa':\n",
      "programa\n",
      "PDL              42786\n",
      "QM               42609\n",
      "Palanca 1 y 2     7668\n",
      "Name: count, dtype: int64\n",
      "\n",
      "Value counts for column 'anio_pdl':\n",
      "anio_pdl\n",
      "No corresponde    50277\n",
      "2do anio          24533\n",
      "1er anio          14562\n",
      "Alumni             3265\n",
      "Otro                426\n",
      "Name: count, dtype: int64\n",
      "\n",
      "Value counts for column 'socios':\n",
      "socios\n",
      "Antamina,Franco Nevada,Wheaton Precious Metals                                                                                                   12232\n",
      "Quimtia S. A. - Grupo IF                                                                                                                         10115\n",
      "Fosforera  Peruana S. A (FOPESA) - Grupo IF                                                                                                       7943\n",
      "BHP                                                                                                                                               6599\n",
      "Scotiabank                                                                                                                                        6467\n",
      "Farmex S. A. - Grupo IF                                                                                                                           4892\n",
      "Hortifrut                                                                                                                                         4310\n",
      "Fundación Albert Heijn - FLP/AHF                                                                                                                  3738\n",
      "Compartamos Financiera                                                                                                                            3119\n",
      "Minera Volcan                                                                                                                                     2973\n",
      "Cerro Verde                                                                                                                                       2769\n",
      "Cartavio Rum Company  S. A. C - Grupo IF                                                                                                          2353\n",
      "Fundación Velez Reyes , WebHelp                                                                                                                   1992\n",
      "COEXA                                                                                                                                             1519\n",
      "Fundación Manuel J Bustamante                                                                                                                     1192\n",
      "Asociación Zinia,Old Dart Foundation                                                                                                              1049\n",
      "Old Dart Foundation                                                                                                                                988\n",
      "FIDAMAR                                                                                                                                            904\n",
      "WebHelp                                                                                                                                            881\n",
      "Fundación Velez Reyes                                                                                                                              875\n",
      "Solidaridad en Marcha (San Juan Apostol) , La Ibérica , Bodegas Najar , Grupo Morán , Michell                                                      855\n",
      "Bodegas Najar,Grupo Morán,La Ibérica,Michell,Solidaridad en Marcha (San Juan Apostol)                                                              767\n",
      "Old Dart Foundation,WebHelp                                                                                                                        714\n",
      "BNV Minera La Zanja                                                                                                                                536\n",
      "ASOPARACAS                                                                                                                                         532\n",
      "Asociación Zinia , Teach For All                                                                                                                   446\n",
      "Compartamos Financiera,Fundación Manuel J Bustamante                                                                                               433\n",
      "No tiene                                                                                                                                           427\n",
      "BHP,Fundacion Familia Beck Romero                                                                                                                  373\n",
      "Teach For All                                                                                                                                      354\n",
      "BanBif                                                                                                                                             343\n",
      "FNAI (Fundación Ninios del Arco Iris)                                                                                                              318\n",
      "Municipalidad de Chugur                                                                                                                            300\n",
      "Ensenia Perú                                                                                                                                       290\n",
      "Sociedad Agricola Moche Norte                                                                                                                      278\n",
      "CPM                                                                                                                                                272\n",
      "Bodegas Najar , Grupo Morán , La Ibérica , Michell                                                                                                 212\n",
      "Sunshine                                                                                                                                           206\n",
      "Sealand and Maersk                                                                                                                                 192\n",
      "Grupo Inca / Colca Lodge,Grupo Inca / Incalpaca,Grupo Inca / Incatops,Grupo Morán,La Ibérica,Michell,Solidaridad en Marcha (San Juan Apostol)      117\n",
      "SPDA , Fundación Velez Reyes                                                                                                                       114\n",
      "Cartavio Rum Company S. A. C - Grupo IF                                                                                                            114\n",
      "Grupo Inca / Incalpaca , Grupo Inca / Colca Lodge , Grupo Inca / Incatops                                                                          112\n",
      "Old Dart Foundation,Teach For All                                                                                                                   96\n",
      "Grupo Morán                                                                                                                                         84\n",
      "Name: count, dtype: int64\n",
      "\n"
     ]
    }
   ],
   "source": [
    "for column in data_academico.columns:\n",
    "    print(f\"Value counts for column '{column}':\")\n",
    "    print(data_academico[column].value_counts())\n",
    "    print()"
   ]
  },
  {
   "cell_type": "code",
   "execution_count": 205,
   "metadata": {},
   "outputs": [
    {
     "data": {
      "text/plain": [
       "{'anio',\n",
       " 'anio_pdl',\n",
       " 'centropoblado_ie',\n",
       " 'codigolocal_ie',\n",
       " 'codigomodular_ie',\n",
       " 'coordinador_a',\n",
       " 'distrito_ie',\n",
       " 'dni_participante',\n",
       " 'grado',\n",
       " 'id_participante',\n",
       " 'institucion_educativa',\n",
       " 'nivel_de_logro',\n",
       " 'periodo',\n",
       " 'programa',\n",
       " 'provincia_ie',\n",
       " 'region_ie',\n",
       " 'ruralidad',\n",
       " 'socios',\n",
       " 'ugel_ie'}"
      ]
     },
     "execution_count": 205,
     "metadata": {},
     "output_type": "execute_result"
    }
   ],
   "source": [
    "# Get the column names of each DataFrame\n",
    "cols1 = set(data_academico.columns)\n",
    "cols2 = set(data_socioemocional.columns)\n",
    "cols3 = set(data_clima_aula.columns)\n",
    "\n",
    "# Find the intersection of all three sets\n",
    "common_columns = cols1.intersection(cols2, cols3)\n",
    "common_columns"
   ]
  },
  {
   "cell_type": "code",
   "execution_count": null,
   "metadata": {},
   "outputs": [],
   "source": []
  }
 ],
 "metadata": {
  "kernelspec": {
   "display_name": "Python 3",
   "language": "python",
   "name": "python3"
  },
  "language_info": {
   "codemirror_mode": {
    "name": "ipython",
    "version": 3
   },
   "file_extension": ".py",
   "mimetype": "text/x-python",
   "name": "python",
   "nbconvert_exporter": "python",
   "pygments_lexer": "ipython3",
   "version": "3.12.6"
  }
 },
 "nbformat": 4,
 "nbformat_minor": 2
}
