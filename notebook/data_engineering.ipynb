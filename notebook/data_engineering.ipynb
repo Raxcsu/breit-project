{
 "cells": [
  {
   "cell_type": "code",
   "execution_count": 1,
   "metadata": {},
   "outputs": [],
   "source": [
    "import pandas as pd\n",
    "import numpy as np"
   ]
  },
  {
   "cell_type": "markdown",
   "metadata": {},
   "source": [
    "## Academico"
   ]
  },
  {
   "cell_type": "code",
   "execution_count": 2,
   "metadata": {},
   "outputs": [
    {
     "name": "stderr",
     "output_type": "stream",
     "text": [
      "D:\\Usuarios\\ir75854603\\AppData\\Local\\Temp\\ipykernel_26704\\129942648.py:1: DtypeWarning: Columns (16) have mixed types. Specify dtype option on import or set low_memory=False.\n",
      "  data_aca_2023 = pd.read_csv('../data/academico_2023.csv', encoding='latin1', sep=';')\n"
     ]
    }
   ],
   "source": [
    "data_aca_2023 = pd.read_csv('../data/academico_2023.csv', encoding='latin1', sep=';')\n",
    "data_aca_2024 = pd.read_csv('../data/academico_2024.csv', encoding='latin1', sep = ';')\n"
   ]
  },
  {
   "cell_type": "code",
   "execution_count": 5,
   "metadata": {},
   "outputs": [
    {
     "data": {
      "text/plain": [
       "array(['JAIDER', 'ALBERTH', 'SANDY', ..., 'TOCTO MENDOZA, KIARA LIZETH',\n",
       "       'VARONA ZAPATA, JHAROL ADRIEL', 'ZAPATA VARONA, JAIME LEVI'],\n",
       "      shape=(6420,), dtype=object)"
      ]
     },
     "execution_count": 5,
     "metadata": {},
     "output_type": "execute_result"
    }
   ],
   "source": [
    "data_aca_2023.estudiantes.unique()"
   ]
  },
  {
   "cell_type": "code",
   "execution_count": 6,
   "metadata": {},
   "outputs": [
    {
     "name": "stdout",
     "output_type": "stream",
     "text": [
      "<class 'pandas.core.frame.DataFrame'>\n",
      "RangeIndex: 51556 entries, 0 to 51555\n",
      "Data columns (total 25 columns):\n",
      " #   Column                 Non-Null Count  Dtype \n",
      "---  ------                 --------------  ----- \n",
      " 0   AÑO                    51556 non-null  int64 \n",
      " 1   region_ie              51556 non-null  object\n",
      " 2   provincia_ie           51556 non-null  object\n",
      " 3   ugel_ie                51556 non-null  object\n",
      " 4   distrito_ie            51556 non-null  object\n",
      " 5   centropoblado_ie       51556 non-null  object\n",
      " 6   institucion_educativa  51556 non-null  object\n",
      " 7   codigolocal_ie         51556 non-null  int64 \n",
      " 8   codigomodular_ie       51556 non-null  int64 \n",
      " 9   ruralidad              51556 non-null  object\n",
      " 10  estudiantes            51556 non-null  object\n",
      " 11  grado                  51556 non-null  object\n",
      " 12  periodo                51556 non-null  object\n",
      " 13  curso                  51556 non-null  object\n",
      " 14  comp                   51556 non-null  object\n",
      " 15  nivel_de_logro         51556 non-null  object\n",
      " 16  dni_participante       51556 non-null  int64 \n",
      " 17  id_participante        51556 non-null  object\n",
      " 18  participante           51556 non-null  object\n",
      " 19  coordinador_a          51556 non-null  object\n",
      " 20  programa               51556 non-null  object\n",
      " 21  año_pdl                51556 non-null  object\n",
      " 22  socios                 43820 non-null  object\n",
      " 23  id_seccion             51556 non-null  object\n",
      " 24  TIPO                   48482 non-null  object\n",
      "dtypes: int64(4), object(21)\n",
      "memory usage: 9.8+ MB\n"
     ]
    }
   ],
   "source": [
    "data_aca_2024.info()"
   ]
  },
  {
   "cell_type": "code",
   "execution_count": 7,
   "metadata": {},
   "outputs": [
    {
     "data": {
      "text/plain": [
       "10531"
      ]
     },
     "execution_count": 7,
     "metadata": {},
     "output_type": "execute_result"
    }
   ],
   "source": [
    "data_aca_2024.estudiantes.nunique()"
   ]
  },
  {
   "cell_type": "code",
   "execution_count": 8,
   "metadata": {},
   "outputs": [
    {
     "data": {
      "text/plain": [
       "6420"
      ]
     },
     "execution_count": 8,
     "metadata": {},
     "output_type": "execute_result"
    }
   ],
   "source": [
    "data_aca_2023.estudiantes.nunique()"
   ]
  },
  {
   "cell_type": "code",
   "execution_count": 9,
   "metadata": {},
   "outputs": [
    {
     "data": {
      "text/plain": [
       "nivel_de_logro\n",
       "En proceso          19418\n",
       "Satisfactorio       16912\n",
       "En inicio           14685\n",
       "Debajo de inicio      541\n",
       "Name: count, dtype: int64"
      ]
     },
     "execution_count": 9,
     "metadata": {},
     "output_type": "execute_result"
    }
   ],
   "source": [
    "data_aca_2024.nivel_de_logro.value_counts()"
   ]
  },
  {
   "cell_type": "code",
   "execution_count": 10,
   "metadata": {},
   "outputs": [
    {
     "data": {
      "text/plain": [
       "AÑO\n",
       "2024    51556\n",
       "Name: count, dtype: int64"
      ]
     },
     "execution_count": 10,
     "metadata": {},
     "output_type": "execute_result"
    }
   ],
   "source": [
    "data_aca_2024.AÑO.value_counts()"
   ]
  },
  {
   "cell_type": "code",
   "execution_count": 11,
   "metadata": {},
   "outputs": [
    {
     "data": {
      "text/plain": [
       "Index(['AÑO', 'region_ie', 'provincia_ie', 'ugel_ie', 'distrito_ie',\n",
       "       'centropoblado_ie', 'institucion_educativa', 'codigolocal_ie',\n",
       "       'codigomodular_ie', 'ruralidad', 'estudiantes', 'grado', 'periodo',\n",
       "       'curso', 'comp', 'nivel_de_logro', 'dni_participante',\n",
       "       'id_participante', 'participante', 'coordinador_a', 'programa',\n",
       "       'año_pdl', 'socios'],\n",
       "      dtype='object')"
      ]
     },
     "execution_count": 11,
     "metadata": {},
     "output_type": "execute_result"
    }
   ],
   "source": [
    "data_aca_2023.columns"
   ]
  },
  {
   "cell_type": "code",
   "execution_count": 12,
   "metadata": {},
   "outputs": [
    {
     "data": {
      "text/plain": [
       "Index(['AÑO', 'region_ie', 'provincia_ie', 'ugel_ie', 'distrito_ie',\n",
       "       'centropoblado_ie', 'institucion_educativa', 'codigolocal_ie',\n",
       "       'codigomodular_ie', 'ruralidad', 'estudiantes', 'grado', 'periodo',\n",
       "       'curso', 'comp', 'nivel_de_logro', 'dni_participante',\n",
       "       'id_participante', 'participante', 'coordinador_a', 'programa',\n",
       "       'año_pdl', 'socios', 'id_seccion', 'TIPO'],\n",
       "      dtype='object')"
      ]
     },
     "execution_count": 12,
     "metadata": {},
     "output_type": "execute_result"
    }
   ],
   "source": [
    "data_aca_2024.columns"
   ]
  },
  {
   "cell_type": "code",
   "execution_count": 13,
   "metadata": {},
   "outputs": [],
   "source": [
    "data_aca_2024 = data_aca_2024.drop(['id_seccion', 'TIPO'], axis=1)"
   ]
  },
  {
   "cell_type": "code",
   "execution_count": 14,
   "metadata": {},
   "outputs": [
    {
     "data": {
      "text/plain": [
       "(96137, 23)"
      ]
     },
     "execution_count": 14,
     "metadata": {},
     "output_type": "execute_result"
    }
   ],
   "source": [
    "data_academico = pd.concat([data_aca_2023, data_aca_2024], ignore_index=True)\n",
    "data_academico.shape"
   ]
  },
  {
   "cell_type": "code",
   "execution_count": 15,
   "metadata": {},
   "outputs": [
    {
     "data": {
      "text/plain": [
       "nivel_de_logro\n",
       "Satisfactorio       34601\n",
       "En proceso          34469\n",
       "En inicio           26526\n",
       "Debajo de inicio      541\n",
       "Name: count, dtype: int64"
      ]
     },
     "execution_count": 15,
     "metadata": {},
     "output_type": "execute_result"
    }
   ],
   "source": [
    "data_academico.nivel_de_logro.value_counts()"
   ]
  },
  {
   "cell_type": "code",
   "execution_count": 16,
   "metadata": {},
   "outputs": [],
   "source": [
    "data_academico.loc[data_academico[\"nivel_de_logro\"] == 'Debajo de inicio', 'nivel_de_logro'] = 'En inicio'"
   ]
  },
  {
   "cell_type": "markdown",
   "metadata": {},
   "source": [
    "## Socioemocional"
   ]
  },
  {
   "cell_type": "code",
   "execution_count": 17,
   "metadata": {},
   "outputs": [],
   "source": [
    "data_soc_2023 = pd.read_csv('../data/socioemocional_2023.csv', encoding='latin1', sep = ';')\n",
    "data_soc_2024 = pd.read_csv('../data/socioemocional_2024.csv', encoding='latin1', sep = ';')\n"
   ]
  },
  {
   "cell_type": "code",
   "execution_count": 18,
   "metadata": {},
   "outputs": [
    {
     "name": "stdout",
     "output_type": "stream",
     "text": [
      "<class 'pandas.core.frame.DataFrame'>\n",
      "RangeIndex: 144730 entries, 0 to 144729\n",
      "Data columns (total 26 columns):\n",
      " #   Column                 Non-Null Count   Dtype  \n",
      "---  ------                 --------------   -----  \n",
      " 0   AÑO                    144730 non-null  int64  \n",
      " 1   region_ie              144730 non-null  object \n",
      " 2   provincia_ie           144730 non-null  object \n",
      " 3   ugel_ie                144730 non-null  object \n",
      " 4   distrito_ie            144730 non-null  object \n",
      " 5   centropoblado_ie       144730 non-null  object \n",
      " 6   institucion_educativa  144730 non-null  object \n",
      " 7   codigolocal_ie         144730 non-null  int64  \n",
      " 8   codigomodular_ie       144730 non-null  int64  \n",
      " 9   ruralidad              144730 non-null  object \n",
      " 10  id_estudiante          144730 non-null  object \n",
      " 11  grado                  144730 non-null  object \n",
      " 12  fecha                  144730 non-null  object \n",
      " 13  evaluación             144730 non-null  object \n",
      " 14  habilidad              144730 non-null  object \n",
      " 15  promedio               144730 non-null  float64\n",
      " 16  nivel_de_logro         144730 non-null  object \n",
      " 17  dni_participante       144692 non-null  object \n",
      " 18  id_participante        144730 non-null  object \n",
      " 19  participantes_sección  144730 non-null  object \n",
      " 20  coordinador_a          144730 non-null  object \n",
      " 21  programa               144730 non-null  object \n",
      " 22  año_pdl                144730 non-null  object \n",
      " 23  socios                 144730 non-null  object \n",
      " 24  id_seccion             0 non-null       float64\n",
      " 25  Ruralidad              0 non-null       float64\n",
      "dtypes: float64(3), int64(3), object(20)\n",
      "memory usage: 28.7+ MB\n"
     ]
    }
   ],
   "source": [
    "data_soc_2023.info()"
   ]
  },
  {
   "cell_type": "code",
   "execution_count": 19,
   "metadata": {},
   "outputs": [
    {
     "name": "stdout",
     "output_type": "stream",
     "text": [
      "<class 'pandas.core.frame.DataFrame'>\n",
      "RangeIndex: 199093 entries, 0 to 199092\n",
      "Data columns (total 26 columns):\n",
      " #   Column                 Non-Null Count   Dtype  \n",
      "---  ------                 --------------   -----  \n",
      " 0   AÑO                    199093 non-null  int64  \n",
      " 1   region_ie              199093 non-null  object \n",
      " 2   provincia_ie           199093 non-null  object \n",
      " 3   ugel_ie                199093 non-null  object \n",
      " 4   distrito_ie            199093 non-null  object \n",
      " 5   centropoblado_ie       199093 non-null  object \n",
      " 6   institucion_educativa  199093 non-null  object \n",
      " 7   codigolocal_ie         199093 non-null  int64  \n",
      " 8   codigomodular_ie       199093 non-null  int64  \n",
      " 9   ruralidad              199093 non-null  object \n",
      " 10  id_estudiante          199093 non-null  object \n",
      " 11  grado                  199093 non-null  object \n",
      " 12  fecha                  199093 non-null  object \n",
      " 13  evaluación             199093 non-null  object \n",
      " 14  habilidad              199093 non-null  object \n",
      " 15  promedio               199093 non-null  float64\n",
      " 16  nivel_de_logro         199093 non-null  object \n",
      " 17  dni_participante       199093 non-null  int64  \n",
      " 18  id_participante        199093 non-null  object \n",
      " 19  participantes_sección  199093 non-null  object \n",
      " 20  coordinador_a          199093 non-null  object \n",
      " 21  programa               199093 non-null  object \n",
      " 22  año_pdl                199093 non-null  object \n",
      " 23  socios                 199093 non-null  object \n",
      " 24  id_seccion             199093 non-null  object \n",
      " 25  Ruralidad              0 non-null       float64\n",
      "dtypes: float64(2), int64(4), object(20)\n",
      "memory usage: 39.5+ MB\n"
     ]
    }
   ],
   "source": [
    "data_soc_2024.info()"
   ]
  },
  {
   "cell_type": "code",
   "execution_count": 20,
   "metadata": {},
   "outputs": [
    {
     "data": {
      "text/plain": [
       "nivel_de_logro\n",
       "Satisfactorio      60600\n",
       "En proceso         30686\n",
       "Riesgo Moderado    27184\n",
       "Bajo riesgo        14137\n",
       "En inicio           7266\n",
       "Alto riego          4857\n",
       "Name: count, dtype: int64"
      ]
     },
     "execution_count": 20,
     "metadata": {},
     "output_type": "execute_result"
    }
   ],
   "source": [
    "data_soc_2023.nivel_de_logro.value_counts()"
   ]
  },
  {
   "cell_type": "code",
   "execution_count": 21,
   "metadata": {},
   "outputs": [
    {
     "data": {
      "text/plain": [
       "nivel_de_logro\n",
       "Satisfactorio      89507\n",
       "Riesgo moderado    40505\n",
       "En proceso         36825\n",
       "Bajo Riesgo        17148\n",
       "Alto riesgo         8607\n",
       "En inicio           6501\n",
       "Name: count, dtype: int64"
      ]
     },
     "execution_count": 21,
     "metadata": {},
     "output_type": "execute_result"
    }
   ],
   "source": [
    "data_soc_2024.nivel_de_logro.value_counts()"
   ]
  },
  {
   "cell_type": "code",
   "execution_count": 22,
   "metadata": {},
   "outputs": [
    {
     "data": {
      "text/plain": [
       "Index(['AÑO', 'region_ie', 'provincia_ie', 'ugel_ie', 'distrito_ie',\n",
       "       'centropoblado_ie', 'institucion_educativa', 'codigolocal_ie',\n",
       "       'codigomodular_ie', 'ruralidad', 'id_estudiante', 'grado', 'fecha',\n",
       "       'evaluación', 'habilidad', 'promedio', 'nivel_de_logro',\n",
       "       'dni_participante', 'id_participante', 'participantes_sección',\n",
       "       'coordinador_a', 'programa', 'año_pdl', 'socios', 'id_seccion',\n",
       "       'Ruralidad'],\n",
       "      dtype='object')"
      ]
     },
     "execution_count": 22,
     "metadata": {},
     "output_type": "execute_result"
    }
   ],
   "source": [
    "data_soc_2023.columns"
   ]
  },
  {
   "cell_type": "code",
   "execution_count": 23,
   "metadata": {},
   "outputs": [
    {
     "data": {
      "text/plain": [
       "Index(['AÑO', 'region_ie', 'provincia_ie', 'ugel_ie', 'distrito_ie',\n",
       "       'centropoblado_ie', 'institucion_educativa', 'codigolocal_ie',\n",
       "       'codigomodular_ie', 'ruralidad', 'id_estudiante', 'grado', 'fecha',\n",
       "       'evaluación', 'habilidad', 'promedio', 'nivel_de_logro',\n",
       "       'dni_participante', 'id_participante', 'participantes_sección',\n",
       "       'coordinador_a', 'programa', 'año_pdl', 'socios', 'id_seccion',\n",
       "       'Ruralidad'],\n",
       "      dtype='object')"
      ]
     },
     "execution_count": 23,
     "metadata": {},
     "output_type": "execute_result"
    }
   ],
   "source": [
    "data_soc_2024.columns"
   ]
  },
  {
   "cell_type": "code",
   "execution_count": 24,
   "metadata": {},
   "outputs": [
    {
     "data": {
      "text/plain": [
       "['Ausentismo y deserción escolar',\n",
       " 'Autoconcepto',\n",
       " 'Autocuidado',\n",
       " 'Autoestima',\n",
       " 'Comportamiento prosocial',\n",
       " 'Comunicación asertiva',\n",
       " 'Conciencia emocional',\n",
       " 'Conciencia social',\n",
       " 'Consumo de alcohol y drogas',\n",
       " 'Creatividad',\n",
       " 'Desinformación sobre educación sexual integral',\n",
       " 'Empatía',\n",
       " 'Entorno de riesgo',\n",
       " 'Limitada expectativa sobre la educación',\n",
       " 'Limitada expectativa sobre su proyecto de vida',\n",
       " 'Limitados recursos económicos',\n",
       " 'Percepción sobre estereotipos de género',\n",
       " 'Regulación emocional',\n",
       " 'Resolución de conflictos',\n",
       " 'Toma de decisiones responsables',\n",
       " 'Trabajo adolescente',\n",
       " 'Trabajo en equipo',\n",
       " 'Violencia de género',\n",
       " 'Violencia escolar',\n",
       " 'Violencia familiar']"
      ]
     },
     "execution_count": 24,
     "metadata": {},
     "output_type": "execute_result"
    }
   ],
   "source": [
    "sorted(data_soc_2023.habilidad.unique())"
   ]
  },
  {
   "cell_type": "code",
   "execution_count": 25,
   "metadata": {},
   "outputs": [
    {
     "data": {
      "text/plain": [
       "['Ausentismo y deserción escolar',\n",
       " 'Autoconcepto',\n",
       " 'Autocuidado',\n",
       " 'Autoestima',\n",
       " 'Comportamiento prosocial',\n",
       " 'Comunicación asertiva',\n",
       " 'Conciencia emocional',\n",
       " 'Conciencia social',\n",
       " 'Consumo de alcohol y drogas',\n",
       " 'Creatividad',\n",
       " 'Desinformación sobre educación sexual integral',\n",
       " 'Desinformación sobre educación sexual reproductiva',\n",
       " 'Empatía',\n",
       " 'Entorno de riesgo',\n",
       " 'Limitada expectativa sobre la educación',\n",
       " 'Limitada expectativa sobre su proyecto de vida',\n",
       " 'Limitados recursos económicos',\n",
       " 'Percepción sobre Estereotipos de género',\n",
       " 'Regulación emocional',\n",
       " 'Resolución de conflictos',\n",
       " 'Toma de decisiones responsables',\n",
       " 'Trabajo adolescente',\n",
       " 'Trabajo en equipo',\n",
       " 'Violencia de género',\n",
       " 'Violencia escolar',\n",
       " 'Violencia familiar']"
      ]
     },
     "execution_count": 25,
     "metadata": {},
     "output_type": "execute_result"
    }
   ],
   "source": [
    "sorted(data_soc_2024.habilidad.unique())"
   ]
  },
  {
   "cell_type": "code",
   "execution_count": 26,
   "metadata": {},
   "outputs": [],
   "source": [
    "data_soc_2024.loc[data_soc_2024['habilidad'] == 'Percepción sobre Estereotipos de género', 'habilidad'] = 'Percepción sobre estereotipos de género'"
   ]
  },
  {
   "cell_type": "code",
   "execution_count": 27,
   "metadata": {},
   "outputs": [],
   "source": [
    "data_soc_2024 = data_soc_2024.loc[~(data_soc_2024.habilidad == \"Desinformación sobre educación sexual reproductiva\")]"
   ]
  },
  {
   "cell_type": "code",
   "execution_count": 28,
   "metadata": {},
   "outputs": [],
   "source": [
    "data_soc_2023 = data_soc_2023.drop(['id_seccion', 'Ruralidad'], axis=1)\n",
    "data_soc_2024 = data_soc_2024.drop(['id_seccion', 'Ruralidad'], axis=1)"
   ]
  },
  {
   "cell_type": "code",
   "execution_count": 29,
   "metadata": {},
   "outputs": [
    {
     "data": {
      "text/plain": [
       "(341245, 24)"
      ]
     },
     "execution_count": 29,
     "metadata": {},
     "output_type": "execute_result"
    }
   ],
   "source": [
    "data_socioemocional = pd.concat([data_soc_2023, data_soc_2024], ignore_index=True)\n",
    "data_socioemocional.shape"
   ]
  },
  {
   "cell_type": "code",
   "execution_count": 30,
   "metadata": {},
   "outputs": [
    {
     "data": {
      "text/plain": [
       "450"
      ]
     },
     "execution_count": 30,
     "metadata": {},
     "output_type": "execute_result"
    }
   ],
   "source": [
    "data_socioemocional.id_participante.nunique()"
   ]
  },
  {
   "cell_type": "code",
   "execution_count": 31,
   "metadata": {},
   "outputs": [
    {
     "data": {
      "text/plain": [
       "11"
      ]
     },
     "execution_count": 31,
     "metadata": {},
     "output_type": "execute_result"
    }
   ],
   "source": [
    "data_socioemocional.grado.nunique()"
   ]
  },
  {
   "cell_type": "code",
   "execution_count": 32,
   "metadata": {},
   "outputs": [],
   "source": [
    "data_socioemocional  = data_socioemocional.rename(columns={'fecha': 'periodo'})"
   ]
  },
  {
   "cell_type": "markdown",
   "metadata": {},
   "source": [
    "## Clima de Aula"
   ]
  },
  {
   "cell_type": "code",
   "execution_count": 33,
   "metadata": {},
   "outputs": [],
   "source": [
    "data_clima_2023 = pd.read_csv('../data/clima_aula_2023.csv', encoding='latin1', sep = ';')\n",
    "data_clima_2024 = pd.read_csv('../data/clima_aula_2024.csv', encoding='latin1', sep = ';')\n"
   ]
  },
  {
   "cell_type": "code",
   "execution_count": 34,
   "metadata": {},
   "outputs": [
    {
     "data": {
      "text/html": [
       "<div>\n",
       "<style scoped>\n",
       "    .dataframe tbody tr th:only-of-type {\n",
       "        vertical-align: middle;\n",
       "    }\n",
       "\n",
       "    .dataframe tbody tr th {\n",
       "        vertical-align: top;\n",
       "    }\n",
       "\n",
       "    .dataframe thead th {\n",
       "        text-align: right;\n",
       "    }\n",
       "</style>\n",
       "<table border=\"1\" class=\"dataframe\">\n",
       "  <thead>\n",
       "    <tr style=\"text-align: right;\">\n",
       "      <th></th>\n",
       "      <th>AÑO</th>\n",
       "      <th>region_ie</th>\n",
       "      <th>provincia_ie</th>\n",
       "      <th>ugel_ie</th>\n",
       "      <th>distrito_ie</th>\n",
       "      <th>centropoblado_ie</th>\n",
       "      <th>institucion_educativa</th>\n",
       "      <th>codigolocal_ie</th>\n",
       "      <th>codigomodular_ie</th>\n",
       "      <th>ruralidad</th>\n",
       "      <th>...</th>\n",
       "      <th>porcentaje_positivas</th>\n",
       "      <th>nivel_de_logro</th>\n",
       "      <th>dni_participante</th>\n",
       "      <th>id_participante</th>\n",
       "      <th>participante</th>\n",
       "      <th>coordinador_a</th>\n",
       "      <th>programa</th>\n",
       "      <th>año_pdl</th>\n",
       "      <th>socios</th>\n",
       "      <th>Ruralidad</th>\n",
       "    </tr>\n",
       "  </thead>\n",
       "  <tbody>\n",
       "    <tr>\n",
       "      <th>0</th>\n",
       "      <td>2023</td>\n",
       "      <td>AREQUIPA</td>\n",
       "      <td>CAYLLOMA</td>\n",
       "      <td>UGEL CAYLLOMA</td>\n",
       "      <td>CALLALLI</td>\n",
       "      <td>CALLALLI</td>\n",
       "      <td>40380</td>\n",
       "      <td>69909</td>\n",
       "      <td>312611</td>\n",
       "      <td>Rural</td>\n",
       "      <td>...</td>\n",
       "      <td>66.67 %</td>\n",
       "      <td>Satisfactorio</td>\n",
       "      <td>46691804</td>\n",
       "      <td>b29b10f0</td>\n",
       "      <td>CHANA CHANA, EVA</td>\n",
       "      <td>DIAZ SALAZAR, CLAUDIA OLGUITA</td>\n",
       "      <td>PDL</td>\n",
       "      <td>1er año</td>\n",
       "      <td>BHP</td>\n",
       "      <td>Rural</td>\n",
       "    </tr>\n",
       "    <tr>\n",
       "      <th>1</th>\n",
       "      <td>2023</td>\n",
       "      <td>ANCASH</td>\n",
       "      <td>HUARI</td>\n",
       "      <td>UGEL HUARI</td>\n",
       "      <td>CHAVIN DE HUANTAR</td>\n",
       "      <td>ISCOG</td>\n",
       "      <td>86052</td>\n",
       "      <td>23940</td>\n",
       "      <td>495705</td>\n",
       "      <td>Rural</td>\n",
       "      <td>...</td>\n",
       "      <td>100.00 %</td>\n",
       "      <td>Satisfactorio</td>\n",
       "      <td>73416240</td>\n",
       "      <td>b29b536b</td>\n",
       "      <td>RAMIREZ RAMIREZ, MILAGROS</td>\n",
       "      <td>CHOCHABOT PRENON, TRASY</td>\n",
       "      <td>PDL</td>\n",
       "      <td>1er año</td>\n",
       "      <td>Antamina,Franco Nevada,Wheaton Precious Metals</td>\n",
       "      <td>Rural</td>\n",
       "    </tr>\n",
       "    <tr>\n",
       "      <th>2</th>\n",
       "      <td>2023</td>\n",
       "      <td>ANCASH</td>\n",
       "      <td>HUARI</td>\n",
       "      <td>UGEL HUARI</td>\n",
       "      <td>SAN MARCOS</td>\n",
       "      <td>RUNTU</td>\n",
       "      <td>86467</td>\n",
       "      <td>25345</td>\n",
       "      <td>412270</td>\n",
       "      <td>Rural</td>\n",
       "      <td>...</td>\n",
       "      <td>100.00 %</td>\n",
       "      <td>Satisfactorio</td>\n",
       "      <td>46848286</td>\n",
       "      <td>4b581147</td>\n",
       "      <td>ZAPATA LIZANA, ADA DEL ROSARIO</td>\n",
       "      <td>CHOCHABOT PRENON, TRASY</td>\n",
       "      <td>PDL</td>\n",
       "      <td>Alumni</td>\n",
       "      <td>Antamina,Franco Nevada,Wheaton Precious Metals</td>\n",
       "      <td>Rural</td>\n",
       "    </tr>\n",
       "    <tr>\n",
       "      <th>3</th>\n",
       "      <td>2023</td>\n",
       "      <td>ANCASH</td>\n",
       "      <td>HUARI</td>\n",
       "      <td>UGEL HUARI</td>\n",
       "      <td>SAN MARCOS</td>\n",
       "      <td>RUNTU</td>\n",
       "      <td>86467</td>\n",
       "      <td>25345</td>\n",
       "      <td>412270</td>\n",
       "      <td>Rural</td>\n",
       "      <td>...</td>\n",
       "      <td>100.00 %</td>\n",
       "      <td>Satisfactorio</td>\n",
       "      <td>46848286</td>\n",
       "      <td>4b581147</td>\n",
       "      <td>ZAPATA LIZANA, ADA DEL ROSARIO</td>\n",
       "      <td>CHOCHABOT PRENON, TRASY</td>\n",
       "      <td>PDL</td>\n",
       "      <td>Alumni</td>\n",
       "      <td>Antamina,Franco Nevada,Wheaton Precious Metals</td>\n",
       "      <td>Rural</td>\n",
       "    </tr>\n",
       "    <tr>\n",
       "      <th>4</th>\n",
       "      <td>2023</td>\n",
       "      <td>ANCASH</td>\n",
       "      <td>HUARI</td>\n",
       "      <td>UGEL HUARI</td>\n",
       "      <td>SAN MARCOS</td>\n",
       "      <td>PUJUN</td>\n",
       "      <td>86469</td>\n",
       "      <td>25393</td>\n",
       "      <td>412379</td>\n",
       "      <td>Rural</td>\n",
       "      <td>...</td>\n",
       "      <td>52.50 %</td>\n",
       "      <td>En proceso</td>\n",
       "      <td>71135300</td>\n",
       "      <td>b29b30b1</td>\n",
       "      <td>UTURUNCO UTURUNCO, WILLIAN</td>\n",
       "      <td>CARBAJAL ALARCÓN, DIEGO</td>\n",
       "      <td>PDL</td>\n",
       "      <td>1er año</td>\n",
       "      <td>Antamina,Franco Nevada,Wheaton Precious Metals</td>\n",
       "      <td>Rural</td>\n",
       "    </tr>\n",
       "  </tbody>\n",
       "</table>\n",
       "<p>5 rows × 24 columns</p>\n",
       "</div>"
      ],
      "text/plain": [
       "    AÑO region_ie provincia_ie        ugel_ie        distrito_ie  \\\n",
       "0  2023  AREQUIPA     CAYLLOMA  UGEL CAYLLOMA           CALLALLI   \n",
       "1  2023    ANCASH        HUARI     UGEL HUARI  CHAVIN DE HUANTAR   \n",
       "2  2023    ANCASH        HUARI     UGEL HUARI         SAN MARCOS   \n",
       "3  2023    ANCASH        HUARI     UGEL HUARI         SAN MARCOS   \n",
       "4  2023    ANCASH        HUARI     UGEL HUARI         SAN MARCOS   \n",
       "\n",
       "  centropoblado_ie institucion_educativa  codigolocal_ie  codigomodular_ie  \\\n",
       "0         CALLALLI                 40380           69909            312611   \n",
       "1            ISCOG                 86052           23940            495705   \n",
       "2            RUNTU                 86467           25345            412270   \n",
       "3            RUNTU                 86467           25345            412270   \n",
       "4            PUJUN                 86469           25393            412379   \n",
       "\n",
       "  ruralidad  ... porcentaje_positivas nivel_de_logro dni_participante  \\\n",
       "0     Rural  ...              66.67 %  Satisfactorio         46691804   \n",
       "1     Rural  ...             100.00 %  Satisfactorio         73416240   \n",
       "2     Rural  ...             100.00 %  Satisfactorio         46848286   \n",
       "3     Rural  ...             100.00 %  Satisfactorio         46848286   \n",
       "4     Rural  ...              52.50 %     En proceso         71135300   \n",
       "\n",
       "  id_participante                    participante  \\\n",
       "0        b29b10f0                CHANA CHANA, EVA   \n",
       "1        b29b536b       RAMIREZ RAMIREZ, MILAGROS   \n",
       "2        4b581147  ZAPATA LIZANA, ADA DEL ROSARIO   \n",
       "3        4b581147  ZAPATA LIZANA, ADA DEL ROSARIO   \n",
       "4        b29b30b1      UTURUNCO UTURUNCO, WILLIAN   \n",
       "\n",
       "                   coordinador_a programa  año_pdl  \\\n",
       "0  DIAZ SALAZAR, CLAUDIA OLGUITA      PDL  1er año   \n",
       "1        CHOCHABOT PRENON, TRASY      PDL  1er año   \n",
       "2        CHOCHABOT PRENON, TRASY      PDL   Alumni   \n",
       "3        CHOCHABOT PRENON, TRASY      PDL   Alumni   \n",
       "4        CARBAJAL ALARCÓN, DIEGO      PDL  1er año   \n",
       "\n",
       "                                           socios Ruralidad  \n",
       "0                                             BHP     Rural  \n",
       "1  Antamina,Franco Nevada,Wheaton Precious Metals     Rural  \n",
       "2  Antamina,Franco Nevada,Wheaton Precious Metals     Rural  \n",
       "3  Antamina,Franco Nevada,Wheaton Precious Metals     Rural  \n",
       "4  Antamina,Franco Nevada,Wheaton Precious Metals     Rural  \n",
       "\n",
       "[5 rows x 24 columns]"
      ]
     },
     "execution_count": 34,
     "metadata": {},
     "output_type": "execute_result"
    }
   ],
   "source": [
    "data_clima_2023.head()"
   ]
  },
  {
   "cell_type": "code",
   "execution_count": 35,
   "metadata": {},
   "outputs": [
    {
     "data": {
      "text/html": [
       "<div>\n",
       "<style scoped>\n",
       "    .dataframe tbody tr th:only-of-type {\n",
       "        vertical-align: middle;\n",
       "    }\n",
       "\n",
       "    .dataframe tbody tr th {\n",
       "        vertical-align: top;\n",
       "    }\n",
       "\n",
       "    .dataframe thead th {\n",
       "        text-align: right;\n",
       "    }\n",
       "</style>\n",
       "<table border=\"1\" class=\"dataframe\">\n",
       "  <thead>\n",
       "    <tr style=\"text-align: right;\">\n",
       "      <th></th>\n",
       "      <th>AÑO</th>\n",
       "      <th>region_ie</th>\n",
       "      <th>provincia_ie</th>\n",
       "      <th>ugel_ie</th>\n",
       "      <th>distrito_ie</th>\n",
       "      <th>centropoblado_ie</th>\n",
       "      <th>institucion_educativa</th>\n",
       "      <th>codigolocal_ie</th>\n",
       "      <th>codigomodular_ie</th>\n",
       "      <th>ruralidad</th>\n",
       "      <th>...</th>\n",
       "      <th>nivel_de_logro</th>\n",
       "      <th>dni_participante</th>\n",
       "      <th>id_participante</th>\n",
       "      <th>participante</th>\n",
       "      <th>coordinador_a</th>\n",
       "      <th>programa</th>\n",
       "      <th>año_pdl</th>\n",
       "      <th>socios</th>\n",
       "      <th>id_seccion</th>\n",
       "      <th>Ruralidad</th>\n",
       "    </tr>\n",
       "  </thead>\n",
       "  <tbody>\n",
       "    <tr>\n",
       "      <th>0</th>\n",
       "      <td>2024</td>\n",
       "      <td>LA LIBERTAD</td>\n",
       "      <td>ASCOPE</td>\n",
       "      <td>UGEL ASCOPE</td>\n",
       "      <td>ASCOPE</td>\n",
       "      <td>ASCOPE</td>\n",
       "      <td>80021 SANTA TERESITA DEL NIÑO JESUS</td>\n",
       "      <td>255906</td>\n",
       "      <td>214148</td>\n",
       "      <td>Urbana</td>\n",
       "      <td>...</td>\n",
       "      <td>En proceso</td>\n",
       "      <td>42907017</td>\n",
       "      <td>b6fa379d-ffce-4df3-9747-2f8d530f4b6a</td>\n",
       "      <td>AGREDA MEREGILDO, DIANA ELIZABETH</td>\n",
       "      <td>CHUMACERO ARE, RUTH VANESSA</td>\n",
       "      <td>QM</td>\n",
       "      <td>No corresponde</td>\n",
       "      <td>Cartavio Rum Company  S. A. C - Grupo IF</td>\n",
       "      <td>HIiO9Srkv183p2l</td>\n",
       "      <td>Urbana</td>\n",
       "    </tr>\n",
       "    <tr>\n",
       "      <th>1</th>\n",
       "      <td>2024</td>\n",
       "      <td>LA LIBERTAD</td>\n",
       "      <td>ASCOPE</td>\n",
       "      <td>UGEL ASCOPE</td>\n",
       "      <td>ASCOPE</td>\n",
       "      <td>ASCOPE</td>\n",
       "      <td>80021 SANTA TERESITA DEL NIÑO JESUS</td>\n",
       "      <td>255906</td>\n",
       "      <td>214148</td>\n",
       "      <td>Urbana</td>\n",
       "      <td>...</td>\n",
       "      <td>En proceso</td>\n",
       "      <td>42907017</td>\n",
       "      <td>b6fa379d-ffce-4df3-9747-2f8d530f4b6a</td>\n",
       "      <td>AGREDA MEREGILDO, DIANA ELIZABETH</td>\n",
       "      <td>CHUMACERO ARE, RUTH VANESSA</td>\n",
       "      <td>QM</td>\n",
       "      <td>No corresponde</td>\n",
       "      <td>Cartavio Rum Company  S. A. C - Grupo IF</td>\n",
       "      <td>HIiO9Srkv183p2l</td>\n",
       "      <td>Urbana</td>\n",
       "    </tr>\n",
       "    <tr>\n",
       "      <th>2</th>\n",
       "      <td>2024</td>\n",
       "      <td>LA LIBERTAD</td>\n",
       "      <td>ASCOPE</td>\n",
       "      <td>UGEL ASCOPE</td>\n",
       "      <td>ASCOPE</td>\n",
       "      <td>ASCOPE</td>\n",
       "      <td>80021 SANTA TERESITA DEL NIÑO JESUS</td>\n",
       "      <td>255906</td>\n",
       "      <td>214148</td>\n",
       "      <td>Urbana</td>\n",
       "      <td>...</td>\n",
       "      <td>En proceso</td>\n",
       "      <td>42907017</td>\n",
       "      <td>b6fa379d-ffce-4df3-9747-2f8d530f4b6a</td>\n",
       "      <td>AGREDA MEREGILDO, DIANA ELIZABETH</td>\n",
       "      <td>CHUMACERO ARE, RUTH VANESSA</td>\n",
       "      <td>QM</td>\n",
       "      <td>No corresponde</td>\n",
       "      <td>Cartavio Rum Company  S. A. C - Grupo IF</td>\n",
       "      <td>HIiO9Srkv183p2l</td>\n",
       "      <td>Urbana</td>\n",
       "    </tr>\n",
       "    <tr>\n",
       "      <th>3</th>\n",
       "      <td>2024</td>\n",
       "      <td>LA LIBERTAD</td>\n",
       "      <td>ASCOPE</td>\n",
       "      <td>UGEL ASCOPE</td>\n",
       "      <td>ASCOPE</td>\n",
       "      <td>ASCOPE</td>\n",
       "      <td>80021 SANTA TERESITA DEL NIÑO JESUS</td>\n",
       "      <td>255906</td>\n",
       "      <td>214148</td>\n",
       "      <td>Urbana</td>\n",
       "      <td>...</td>\n",
       "      <td>En inicio</td>\n",
       "      <td>42907017</td>\n",
       "      <td>b6fa379d-ffce-4df3-9747-2f8d530f4b6a</td>\n",
       "      <td>AGREDA MEREGILDO, DIANA ELIZABETH</td>\n",
       "      <td>CHUMACERO ARE, RUTH VANESSA</td>\n",
       "      <td>QM</td>\n",
       "      <td>No corresponde</td>\n",
       "      <td>Cartavio Rum Company  S. A. C - Grupo IF</td>\n",
       "      <td>HIiO9Srkv183p2l</td>\n",
       "      <td>Urbana</td>\n",
       "    </tr>\n",
       "    <tr>\n",
       "      <th>4</th>\n",
       "      <td>2024</td>\n",
       "      <td>LA LIBERTAD</td>\n",
       "      <td>ASCOPE</td>\n",
       "      <td>UGEL ASCOPE</td>\n",
       "      <td>ASCOPE</td>\n",
       "      <td>ASCOPE</td>\n",
       "      <td>80021 SANTA TERESITA DEL NIÑO JESUS</td>\n",
       "      <td>255906</td>\n",
       "      <td>214148</td>\n",
       "      <td>Urbana</td>\n",
       "      <td>...</td>\n",
       "      <td>En proceso</td>\n",
       "      <td>42907017</td>\n",
       "      <td>b6fa379d-ffce-4df3-9747-2f8d530f4b6a</td>\n",
       "      <td>AGREDA MEREGILDO, DIANA ELIZABETH</td>\n",
       "      <td>CHUMACERO ARE, RUTH VANESSA</td>\n",
       "      <td>QM</td>\n",
       "      <td>No corresponde</td>\n",
       "      <td>Cartavio Rum Company  S. A. C - Grupo IF</td>\n",
       "      <td>HIiO9Srkv183p2l</td>\n",
       "      <td>Urbana</td>\n",
       "    </tr>\n",
       "  </tbody>\n",
       "</table>\n",
       "<p>5 rows × 25 columns</p>\n",
       "</div>"
      ],
      "text/plain": [
       "    AÑO    region_ie provincia_ie      ugel_ie distrito_ie centropoblado_ie  \\\n",
       "0  2024  LA LIBERTAD       ASCOPE  UGEL ASCOPE      ASCOPE           ASCOPE   \n",
       "1  2024  LA LIBERTAD       ASCOPE  UGEL ASCOPE      ASCOPE           ASCOPE   \n",
       "2  2024  LA LIBERTAD       ASCOPE  UGEL ASCOPE      ASCOPE           ASCOPE   \n",
       "3  2024  LA LIBERTAD       ASCOPE  UGEL ASCOPE      ASCOPE           ASCOPE   \n",
       "4  2024  LA LIBERTAD       ASCOPE  UGEL ASCOPE      ASCOPE           ASCOPE   \n",
       "\n",
       "                 institucion_educativa  codigolocal_ie  codigomodular_ie  \\\n",
       "0  80021 SANTA TERESITA DEL NIÑO JESUS          255906            214148   \n",
       "1  80021 SANTA TERESITA DEL NIÑO JESUS          255906            214148   \n",
       "2  80021 SANTA TERESITA DEL NIÑO JESUS          255906            214148   \n",
       "3  80021 SANTA TERESITA DEL NIÑO JESUS          255906            214148   \n",
       "4  80021 SANTA TERESITA DEL NIÑO JESUS          255906            214148   \n",
       "\n",
       "  ruralidad  ... nivel_de_logro dni_participante  \\\n",
       "0    Urbana  ...     En proceso         42907017   \n",
       "1    Urbana  ...     En proceso         42907017   \n",
       "2    Urbana  ...     En proceso         42907017   \n",
       "3    Urbana  ...      En inicio         42907017   \n",
       "4    Urbana  ...     En proceso         42907017   \n",
       "\n",
       "                        id_participante                       participante  \\\n",
       "0  b6fa379d-ffce-4df3-9747-2f8d530f4b6a  AGREDA MEREGILDO, DIANA ELIZABETH   \n",
       "1  b6fa379d-ffce-4df3-9747-2f8d530f4b6a  AGREDA MEREGILDO, DIANA ELIZABETH   \n",
       "2  b6fa379d-ffce-4df3-9747-2f8d530f4b6a  AGREDA MEREGILDO, DIANA ELIZABETH   \n",
       "3  b6fa379d-ffce-4df3-9747-2f8d530f4b6a  AGREDA MEREGILDO, DIANA ELIZABETH   \n",
       "4  b6fa379d-ffce-4df3-9747-2f8d530f4b6a  AGREDA MEREGILDO, DIANA ELIZABETH   \n",
       "\n",
       "                 coordinador_a programa         año_pdl  \\\n",
       "0  CHUMACERO ARE, RUTH VANESSA       QM  No corresponde   \n",
       "1  CHUMACERO ARE, RUTH VANESSA       QM  No corresponde   \n",
       "2  CHUMACERO ARE, RUTH VANESSA       QM  No corresponde   \n",
       "3  CHUMACERO ARE, RUTH VANESSA       QM  No corresponde   \n",
       "4  CHUMACERO ARE, RUTH VANESSA       QM  No corresponde   \n",
       "\n",
       "                                     socios       id_seccion Ruralidad  \n",
       "0  Cartavio Rum Company  S. A. C - Grupo IF  HIiO9Srkv183p2l    Urbana  \n",
       "1  Cartavio Rum Company  S. A. C - Grupo IF  HIiO9Srkv183p2l    Urbana  \n",
       "2  Cartavio Rum Company  S. A. C - Grupo IF  HIiO9Srkv183p2l    Urbana  \n",
       "3  Cartavio Rum Company  S. A. C - Grupo IF  HIiO9Srkv183p2l    Urbana  \n",
       "4  Cartavio Rum Company  S. A. C - Grupo IF  HIiO9Srkv183p2l    Urbana  \n",
       "\n",
       "[5 rows x 25 columns]"
      ]
     },
     "execution_count": 35,
     "metadata": {},
     "output_type": "execute_result"
    }
   ],
   "source": [
    "data_clima_2024.head()"
   ]
  },
  {
   "cell_type": "code",
   "execution_count": 36,
   "metadata": {},
   "outputs": [
    {
     "data": {
      "text/plain": [
       "nivel_de_logro\n",
       "Satisfactorio    3921\n",
       "En proceso       3217\n",
       "En inicio         581\n",
       "Name: count, dtype: int64"
      ]
     },
     "execution_count": 36,
     "metadata": {},
     "output_type": "execute_result"
    }
   ],
   "source": [
    "data_clima_2023.nivel_de_logro.value_counts()"
   ]
  },
  {
   "cell_type": "code",
   "execution_count": 37,
   "metadata": {},
   "outputs": [
    {
     "data": {
      "text/plain": [
       "nivel_de_logro\n",
       "En proceso       2754\n",
       "En inicio        2214\n",
       "Satisfactorio     513\n",
       "Name: count, dtype: int64"
      ]
     },
     "execution_count": 37,
     "metadata": {},
     "output_type": "execute_result"
    }
   ],
   "source": [
    "data_clima_2024.nivel_de_logro.value_counts()"
   ]
  },
  {
   "cell_type": "code",
   "execution_count": 38,
   "metadata": {},
   "outputs": [
    {
     "data": {
      "text/plain": [
       "Index(['AÑO', 'region_ie', 'provincia_ie', 'ugel_ie', 'distrito_ie',\n",
       "       'centropoblado_ie', 'institucion_educativa', 'codigolocal_ie',\n",
       "       'codigomodular_ie', 'ruralidad', 'grado', 'periodo', 'evaluacion',\n",
       "       'elemento', 'porcentaje_positivas', 'nivel_de_logro',\n",
       "       'dni_participante', 'id_participante', 'participante', 'coordinador_a',\n",
       "       'programa', 'año_pdl', 'socios', 'Ruralidad'],\n",
       "      dtype='object')"
      ]
     },
     "execution_count": 38,
     "metadata": {},
     "output_type": "execute_result"
    }
   ],
   "source": [
    "data_clima_2023.columns"
   ]
  },
  {
   "cell_type": "code",
   "execution_count": 39,
   "metadata": {},
   "outputs": [
    {
     "data": {
      "text/plain": [
       "Index(['AÑO', 'region_ie', 'provincia_ie', 'ugel_ie', 'distrito_ie',\n",
       "       'centropoblado_ie', 'institucion_educativa', 'codigolocal_ie',\n",
       "       'codigomodular_ie', 'ruralidad', 'grado', 'periodo', 'evaluacion',\n",
       "       'elemento', 'porcentaje__positivas', 'nivel_de_logro',\n",
       "       'dni_participante', 'id_participante', 'participante', 'coordinador_a',\n",
       "       'programa', 'año_pdl', 'socios', 'id_seccion', 'Ruralidad'],\n",
       "      dtype='object')"
      ]
     },
     "execution_count": 39,
     "metadata": {},
     "output_type": "execute_result"
    }
   ],
   "source": [
    "data_clima_2024.columns"
   ]
  },
  {
   "cell_type": "code",
   "execution_count": 40,
   "metadata": {},
   "outputs": [
    {
     "data": {
      "text/plain": [
       "['Aprendizaje completamente interiorizado',\n",
       " 'Comprensión comprobada y asegurada',\n",
       " 'Expectativas rigurosas mantenidas',\n",
       " 'Se crea una cultura positiva y un entorno de aprendizaje.',\n",
       " 'Se establece un entorno de aprendizaje atractivo',\n",
       " 'Se fomentan relaciones alentadoras y de apoyo.',\n",
       " 'Se valoran los aportes y las ideas de los estudiantes']"
      ]
     },
     "execution_count": 40,
     "metadata": {},
     "output_type": "execute_result"
    }
   ],
   "source": [
    "sorted(data_clima_2023.elemento.unique())"
   ]
  },
  {
   "cell_type": "code",
   "execution_count": 41,
   "metadata": {},
   "outputs": [
    {
     "data": {
      "text/plain": [
       "['Aprendizaje completamente interiorizado',\n",
       " 'Comprensión comprobada y asegurada',\n",
       " 'Expectativas rigurosas mantenidas',\n",
       " 'Se crea una cultura positiva y un entorno de aprendizaje',\n",
       " 'Se establece un entorno de aprendizaje atractivo',\n",
       " 'Se fomentan relaciones alentadoras y de apoyo',\n",
       " 'Se valoran los aportes y las ideas de los estudiantes']"
      ]
     },
     "execution_count": 41,
     "metadata": {},
     "output_type": "execute_result"
    }
   ],
   "source": [
    "sorted(data_clima_2024.elemento.unique())"
   ]
  },
  {
   "cell_type": "code",
   "execution_count": 42,
   "metadata": {},
   "outputs": [],
   "source": [
    "data_clima_2023.loc[data_clima_2023['elemento'] == 'Se crea una cultura positiva y un entorno de aprendizaje.', 'elemento'] = 'Se crea una cultura positiva y un entorno de aprendizaje'"
   ]
  },
  {
   "cell_type": "code",
   "execution_count": 43,
   "metadata": {},
   "outputs": [],
   "source": [
    "data_clima_2023.loc[data_clima_2023['elemento'] == 'Se fomentan relaciones alentadoras y de apoyo.', 'elemento'] = 'Se fomentan relaciones alentadoras y de apoyo'"
   ]
  },
  {
   "cell_type": "code",
   "execution_count": 44,
   "metadata": {},
   "outputs": [],
   "source": [
    "data_clima_2024 = data_clima_2024.rename(columns={'porcentaje__positivas': 'porcentaje_positivas'})"
   ]
  },
  {
   "cell_type": "code",
   "execution_count": 45,
   "metadata": {},
   "outputs": [],
   "source": [
    "data_clima_2023 = data_clima_2023.drop(['Ruralidad'], axis=1)\n",
    "data_clima_2024 = data_clima_2024.drop(['id_seccion', 'Ruralidad'], axis=1)"
   ]
  },
  {
   "cell_type": "code",
   "execution_count": 46,
   "metadata": {},
   "outputs": [
    {
     "data": {
      "text/plain": [
       "(13200, 23)"
      ]
     },
     "execution_count": 46,
     "metadata": {},
     "output_type": "execute_result"
    }
   ],
   "source": [
    "data_clima_aula = pd.concat([data_clima_2023, data_clima_2024], ignore_index=True)\n",
    "data_clima_aula.shape"
   ]
  },
  {
   "cell_type": "code",
   "execution_count": 47,
   "metadata": {},
   "outputs": [
    {
     "name": "stdout",
     "output_type": "stream",
     "text": [
      "<class 'pandas.core.frame.DataFrame'>\n",
      "RangeIndex: 13200 entries, 0 to 13199\n",
      "Data columns (total 23 columns):\n",
      " #   Column                 Non-Null Count  Dtype \n",
      "---  ------                 --------------  ----- \n",
      " 0   AÑO                    13200 non-null  int64 \n",
      " 1   region_ie              13200 non-null  object\n",
      " 2   provincia_ie           13200 non-null  object\n",
      " 3   ugel_ie                13200 non-null  object\n",
      " 4   distrito_ie            13200 non-null  object\n",
      " 5   centropoblado_ie       13200 non-null  object\n",
      " 6   institucion_educativa  13200 non-null  object\n",
      " 7   codigolocal_ie         13200 non-null  int64 \n",
      " 8   codigomodular_ie       13200 non-null  int64 \n",
      " 9   ruralidad              13200 non-null  object\n",
      " 10  grado                  13200 non-null  object\n",
      " 11  periodo                13200 non-null  object\n",
      " 12  evaluacion             13200 non-null  object\n",
      " 13  elemento               13200 non-null  object\n",
      " 14  porcentaje_positivas   13175 non-null  object\n",
      " 15  nivel_de_logro         13200 non-null  object\n",
      " 16  dni_participante       13186 non-null  object\n",
      " 17  id_participante        13200 non-null  object\n",
      " 18  participante           13200 non-null  object\n",
      " 19  coordinador_a          13200 non-null  object\n",
      " 20  programa               13200 non-null  object\n",
      " 21  año_pdl                13200 non-null  object\n",
      " 22  socios                 13200 non-null  object\n",
      "dtypes: int64(3), object(20)\n",
      "memory usage: 2.3+ MB\n"
     ]
    }
   ],
   "source": [
    "data_clima_aula.info()"
   ]
  },
  {
   "cell_type": "code",
   "execution_count": 48,
   "metadata": {},
   "outputs": [
    {
     "data": {
      "text/plain": [
       "449"
      ]
     },
     "execution_count": 48,
     "metadata": {},
     "output_type": "execute_result"
    }
   ],
   "source": [
    "data_clima_aula.id_participante.nunique()"
   ]
  },
  {
   "cell_type": "code",
   "execution_count": 49,
   "metadata": {},
   "outputs": [
    {
     "data": {
      "text/plain": [
       "array(['Pri-6xto', 'Pri-1ero', 'Pri-2ndo', 'Pri-3ero', 'Pri-5nto',\n",
       "       'Pri-4rto', 'Sec-3ero', 'Sec-4rto', 'Sec-1ero', 'Sec-2ndo',\n",
       "       'Sec-5nto', 'Ini-5nto', 'Ini-4rto', 'Ini-3ero'], dtype=object)"
      ]
     },
     "execution_count": 49,
     "metadata": {},
     "output_type": "execute_result"
    }
   ],
   "source": [
    "data_academico.grado.unique()"
   ]
  },
  {
   "cell_type": "code",
   "execution_count": 50,
   "metadata": {},
   "outputs": [
    {
     "data": {
      "text/plain": [
       "array(['Sec-4rto', 'Sec-2ndo', 'Pri-4rto', 'Pri-1ero', 'Pri-5nto',\n",
       "       'Sec-1ero', 'Pri-3ero', 'Sec-5nto', 'Pri-6xto', 'Sec-3ero',\n",
       "       'Pri-2ndo'], dtype=object)"
      ]
     },
     "execution_count": 50,
     "metadata": {},
     "output_type": "execute_result"
    }
   ],
   "source": [
    "data_socioemocional.grado.unique()"
   ]
  },
  {
   "cell_type": "code",
   "execution_count": 51,
   "metadata": {},
   "outputs": [
    {
     "data": {
      "text/plain": [
       "array(['Pri-6xto', 'Pri-5nto', 'Pri-1ero', 'Pri-4rto', 'Pri-2ndo',\n",
       "       'Pri-3ero', 'Sec-3ero', 'Sec-1ero', 'Sec-2ndo', 'Sec-5nto',\n",
       "       'Sec-4rto', 'Pri-Única', 'Sec-Única', 'Sec-A', 'Sec-C', 'Pri-A',\n",
       "       'Pri-B', 'Sec-B', 'Sec-F', 'Sec-E', 'Sec-D', 'Pri-C', 'Pri-D',\n",
       "       'Sec-G', 'Pri-F'], dtype=object)"
      ]
     },
     "execution_count": 51,
     "metadata": {},
     "output_type": "execute_result"
    }
   ],
   "source": [
    "data_clima_aula.grado.unique()"
   ]
  },
  {
   "cell_type": "markdown",
   "metadata": {},
   "source": [
    "## Limpieza de datos"
   ]
  },
  {
   "cell_type": "code",
   "execution_count": 52,
   "metadata": {},
   "outputs": [],
   "source": [
    "data_academico = data_academico.loc[~data_academico['grado'].isin(['Ini-5nto', 'Ini-4rto', 'Ini-3ero'])]"
   ]
  },
  {
   "cell_type": "code",
   "execution_count": 53,
   "metadata": {},
   "outputs": [],
   "source": [
    "data_academico.loc[data_academico['grado'].str.startswith('Pri'), 'grado'] = 'Primaria'\n",
    "data_academico.loc[data_academico['grado'].str.startswith('Sec'), 'grado'] = 'Secundaria'"
   ]
  },
  {
   "cell_type": "code",
   "execution_count": 54,
   "metadata": {},
   "outputs": [],
   "source": [
    "data_socioemocional.loc[data_socioemocional['grado'].str.startswith('Pri'), 'grado'] = 'Primaria'\n",
    "data_socioemocional.loc[data_socioemocional['grado'].str.startswith('Sec'), 'grado'] = 'Secundaria'"
   ]
  },
  {
   "cell_type": "code",
   "execution_count": 55,
   "metadata": {},
   "outputs": [],
   "source": [
    "data_clima_aula.loc[data_clima_aula['grado'].str.startswith('Pri'), 'grado'] = 'Primaria'\n",
    "data_clima_aula.loc[data_clima_aula['grado'].str.startswith('Sec'), 'grado'] = 'Secundaria'"
   ]
  },
  {
   "cell_type": "code",
   "execution_count": 56,
   "metadata": {},
   "outputs": [
    {
     "data": {
      "text/plain": [
       "grado\n",
       "Primaria      74256\n",
       "Secundaria    18807\n",
       "Name: count, dtype: int64"
      ]
     },
     "execution_count": 56,
     "metadata": {},
     "output_type": "execute_result"
    }
   ],
   "source": [
    "data_academico.grado.value_counts()"
   ]
  },
  {
   "cell_type": "code",
   "execution_count": 57,
   "metadata": {},
   "outputs": [
    {
     "data": {
      "text/plain": [
       "grado\n",
       "Secundaria    255337\n",
       "Primaria       85908\n",
       "Name: count, dtype: int64"
      ]
     },
     "execution_count": 57,
     "metadata": {},
     "output_type": "execute_result"
    }
   ],
   "source": [
    "data_socioemocional.grado.value_counts()"
   ]
  },
  {
   "cell_type": "code",
   "execution_count": 58,
   "metadata": {},
   "outputs": [
    {
     "data": {
      "text/plain": [
       "grado\n",
       "Primaria      6839\n",
       "Secundaria    6361\n",
       "Name: count, dtype: int64"
      ]
     },
     "execution_count": 58,
     "metadata": {},
     "output_type": "execute_result"
    }
   ],
   "source": [
    "data_clima_aula.grado.value_counts()"
   ]
  },
  {
   "cell_type": "code",
   "execution_count": 59,
   "metadata": {},
   "outputs": [
    {
     "data": {
      "text/plain": [
       "687"
      ]
     },
     "execution_count": 59,
     "metadata": {},
     "output_type": "execute_result"
    }
   ],
   "source": [
    "data_academico.id_participante.nunique()"
   ]
  },
  {
   "cell_type": "code",
   "execution_count": 60,
   "metadata": {},
   "outputs": [],
   "source": [
    "data_academico.to_csv(\"..\\\\data\\\\academico_.csv\", index=False)"
   ]
  },
  {
   "cell_type": "code",
   "execution_count": 61,
   "metadata": {},
   "outputs": [],
   "source": [
    "data_socioemocional.to_csv('..\\\\data\\\\socioemocional_.csv', index=False)"
   ]
  },
  {
   "cell_type": "code",
   "execution_count": 62,
   "metadata": {},
   "outputs": [],
   "source": [
    "data_clima_aula.to_csv('..\\\\data\\\\clima_aula_.csv', index=False)"
   ]
  },
  {
   "cell_type": "code",
   "execution_count": null,
   "metadata": {},
   "outputs": [],
   "source": []
  },
  {
   "cell_type": "code",
   "execution_count": null,
   "metadata": {},
   "outputs": [],
   "source": []
  }
 ],
 "metadata": {
  "kernelspec": {
   "display_name": "breit-project",
   "language": "python",
   "name": "python3"
  },
  "language_info": {
   "codemirror_mode": {
    "name": "ipython",
    "version": 3
   },
   "file_extension": ".py",
   "mimetype": "text/x-python",
   "name": "python",
   "nbconvert_exporter": "python",
   "pygments_lexer": "ipython3",
   "version": "3.13.1"
  }
 },
 "nbformat": 4,
 "nbformat_minor": 2
}
