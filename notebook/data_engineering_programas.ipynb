{
 "cells": [
  {
   "cell_type": "code",
   "execution_count": 1,
   "metadata": {},
   "outputs": [],
   "source": [
    "import pandas as pd\n",
    "import numpy as np"
   ]
  },
  {
   "cell_type": "markdown",
   "metadata": {},
   "source": [
    "## PDL"
   ]
  },
  {
   "cell_type": "code",
   "execution_count": 2,
   "metadata": {},
   "outputs": [],
   "source": [
    "data_pdl_2023 = pd.read_csv('../data/pdl_2023.csv', encoding='latin1', sep=';')\n",
    "data_pdl_2024 = pd.read_csv('../data/pdl_2024.csv', encoding='latin1', sep = ';')\n"
   ]
  },
  {
   "cell_type": "code",
   "execution_count": 3,
   "metadata": {},
   "outputs": [
    {
     "data": {
      "text/plain": [
       "anio                      0.000000\n",
       "region_ie                 0.000000\n",
       "provincia_ie              0.000000\n",
       "ugel_ie                   0.000000\n",
       "distrito_ie               0.000000\n",
       "centropoblado_ie          0.000000\n",
       "institucion_educativa     0.000000\n",
       "codigolocal_ie1           0.000000\n",
       "codigomodular_ie          0.000000\n",
       "ruralidad                 0.000000\n",
       "participante              0.000000\n",
       "coordinador_a             0.000000\n",
       "programa                  0.000000\n",
       "anio_pdl                  0.000000\n",
       "socios                    1.709402\n",
       "competencia_original      0.000000\n",
       "periodo                   0.000000\n",
       "puntaje                   0.925926\n",
       "fortalezas               10.897436\n",
       "oportunidades            14.387464\n",
       "recomendaciones          26.780627\n",
       "id_participante           0.000000\n",
       "dtype: float64"
      ]
     },
     "execution_count": 3,
     "metadata": {},
     "output_type": "execute_result"
    }
   ],
   "source": [
    "(data_pdl_2023.isnull().sum()/data_pdl_2023.shape[0])*100"
   ]
  },
  {
   "cell_type": "code",
   "execution_count": 4,
   "metadata": {},
   "outputs": [
    {
     "data": {
      "text/plain": [
       "169"
      ]
     },
     "execution_count": 4,
     "metadata": {},
     "output_type": "execute_result"
    }
   ],
   "source": [
    "data_pdl_2023.id_participante.nunique()"
   ]
  },
  {
   "cell_type": "code",
   "execution_count": 5,
   "metadata": {},
   "outputs": [
    {
     "data": {
      "text/plain": [
       "116"
      ]
     },
     "execution_count": 5,
     "metadata": {},
     "output_type": "execute_result"
    }
   ],
   "source": [
    "data_pdl_2024.id_participante.nunique()"
   ]
  },
  {
   "cell_type": "code",
   "execution_count": 6,
   "metadata": {},
   "outputs": [
    {
     "data": {
      "text/plain": [
       "Index(['anio', 'region_ie', 'provincia_ie', 'ugel_ie', 'distrito_ie',\n",
       "       'centropoblado_ie', 'institucion_educativa', 'codigolocal_ie1',\n",
       "       'codigomodular_ie', 'ruralidad', 'participante', 'coordinador_a',\n",
       "       'programa', 'anio_pdl', 'socios', 'competencia_original', 'periodo',\n",
       "       'puntaje', 'fortalezas', 'oportunidades', 'recomendaciones',\n",
       "       'id_participante'],\n",
       "      dtype='object')"
      ]
     },
     "execution_count": 6,
     "metadata": {},
     "output_type": "execute_result"
    }
   ],
   "source": [
    "data_pdl_2023.columns"
   ]
  },
  {
   "cell_type": "code",
   "execution_count": 7,
   "metadata": {},
   "outputs": [],
   "source": [
    "data_pdl_2023 = data_pdl_2023[['periodo', 'id_participante', 'participante', 'ruralidad', 'competencia_original', 'puntaje']]"
   ]
  },
  {
   "cell_type": "code",
   "execution_count": 8,
   "metadata": {},
   "outputs": [],
   "source": [
    "data_pdl_2023 = data_pdl_2023.loc[~(data_pdl_2023['puntaje'].isin(['No se cuenta con evidencia suficiente para brindar un score', 'Nivel de logro indefinido']))]"
   ]
  },
  {
   "cell_type": "code",
   "execution_count": 9,
   "metadata": {},
   "outputs": [],
   "source": [
    "data_pdl_2023 = data_pdl_2023.rename(columns={'competencia_original': 'competencia'})"
   ]
  },
  {
   "cell_type": "code",
   "execution_count": 10,
   "metadata": {},
   "outputs": [
    {
     "data": {
      "text/plain": [
       "array(['1.5', '2.5', '2', '0.5', '1', '4', '3.5', '3', nan], dtype=object)"
      ]
     },
     "execution_count": 10,
     "metadata": {},
     "output_type": "execute_result"
    }
   ],
   "source": [
    "data_pdl_2023.puntaje.unique()"
   ]
  },
  {
   "cell_type": "code",
   "execution_count": 11,
   "metadata": {},
   "outputs": [
    {
     "data": {
      "text/plain": [
       "puntaje\n",
       "2.5    392\n",
       "3      338\n",
       "2      281\n",
       "1.5    156\n",
       "3.5    104\n",
       "1       76\n",
       "4       22\n",
       "0.5      6\n",
       "Name: count, dtype: int64"
      ]
     },
     "execution_count": 11,
     "metadata": {},
     "output_type": "execute_result"
    }
   ],
   "source": [
    "data_pdl_2023.puntaje.value_counts()"
   ]
  },
  {
   "cell_type": "code",
   "execution_count": 12,
   "metadata": {},
   "outputs": [
    {
     "data": {
      "text/plain": [
       "Index(['anio', 'region_ie', 'provincia_ie', 'ugel_ie', 'distrito_ie',\n",
       "       'centropoblado_ie', 'institucion_educativa', 'codigolocal_ie1',\n",
       "       'codigomodular_ie', 'ruralidad', 'participante', 'coordinador_a',\n",
       "       'programa', 'anio_pdl', 'socios', 'competencia', 'periodo', 'puntaje',\n",
       "       'fortalezas', 'oportunidades', 'recomendaciones', 'id_participante'],\n",
       "      dtype='object')"
      ]
     },
     "execution_count": 12,
     "metadata": {},
     "output_type": "execute_result"
    }
   ],
   "source": [
    "data_pdl_2024.columns"
   ]
  },
  {
   "cell_type": "code",
   "execution_count": 13,
   "metadata": {},
   "outputs": [],
   "source": [
    "data_pdl_2024 = data_pdl_2024[['periodo', 'id_participante', 'participante', 'ruralidad', 'competencia', 'puntaje']]"
   ]
  },
  {
   "cell_type": "code",
   "execution_count": 14,
   "metadata": {},
   "outputs": [
    {
     "data": {
      "text/plain": [
       "puntaje\n",
       "3.0    577\n",
       "2.0    336\n",
       "4.0    132\n",
       "1.0     18\n",
       "0.0      9\n",
       "Name: count, dtype: int64"
      ]
     },
     "execution_count": 14,
     "metadata": {},
     "output_type": "execute_result"
    }
   ],
   "source": [
    "data_pdl_2024.puntaje.value_counts()"
   ]
  },
  {
   "cell_type": "code",
   "execution_count": 15,
   "metadata": {},
   "outputs": [
    {
     "data": {
      "text/plain": [
       "(2471, 6)"
      ]
     },
     "execution_count": 15,
     "metadata": {},
     "output_type": "execute_result"
    }
   ],
   "source": [
    "data_pdl = pd.concat([data_pdl_2023, data_pdl_2024], ignore_index=True)\n",
    "data_pdl.shape"
   ]
  },
  {
   "cell_type": "code",
   "execution_count": 16,
   "metadata": {},
   "outputs": [
    {
     "data": {
      "text/plain": [
       "periodo\n",
       "Julio 2023        651\n",
       "Marzo 2023        641\n",
       "Marzo 2024        414\n",
       "Diciembre 2024    336\n",
       "Julio 2024        333\n",
       "Diciembre 2023     96\n",
       "Name: count, dtype: int64"
      ]
     },
     "execution_count": 16,
     "metadata": {},
     "output_type": "execute_result"
    }
   ],
   "source": [
    "data_pdl.periodo.value_counts()"
   ]
  },
  {
   "cell_type": "code",
   "execution_count": 17,
   "metadata": {},
   "outputs": [
    {
     "data": {
      "text/html": [
       "<div>\n",
       "<style scoped>\n",
       "    .dataframe tbody tr th:only-of-type {\n",
       "        vertical-align: middle;\n",
       "    }\n",
       "\n",
       "    .dataframe tbody tr th {\n",
       "        vertical-align: top;\n",
       "    }\n",
       "\n",
       "    .dataframe thead th {\n",
       "        text-align: right;\n",
       "    }\n",
       "</style>\n",
       "<table border=\"1\" class=\"dataframe\">\n",
       "  <thead>\n",
       "    <tr style=\"text-align: right;\">\n",
       "      <th></th>\n",
       "      <th>periodo</th>\n",
       "      <th>id_participante</th>\n",
       "      <th>participante</th>\n",
       "      <th>ruralidad</th>\n",
       "      <th>C1 y C2</th>\n",
       "      <th>C3</th>\n",
       "      <th>C4</th>\n",
       "    </tr>\n",
       "  </thead>\n",
       "  <tbody>\n",
       "    <tr>\n",
       "      <th>0</th>\n",
       "      <td>Diciembre 2023</td>\n",
       "      <td>b29b117e</td>\n",
       "      <td>ALBINO ARBAIZA, JULISSA ELENA</td>\n",
       "      <td>Rural</td>\n",
       "      <td>2.25</td>\n",
       "      <td>3.0</td>\n",
       "      <td>2.0</td>\n",
       "    </tr>\n",
       "    <tr>\n",
       "      <th>1</th>\n",
       "      <td>Diciembre 2023</td>\n",
       "      <td>b29b1328</td>\n",
       "      <td>MONTENEGRO CAJUSOL, LISETH</td>\n",
       "      <td>Urbana</td>\n",
       "      <td>2.75</td>\n",
       "      <td>3.0</td>\n",
       "      <td>1.5</td>\n",
       "    </tr>\n",
       "    <tr>\n",
       "      <th>2</th>\n",
       "      <td>Diciembre 2023</td>\n",
       "      <td>b29b1441</td>\n",
       "      <td>PADILLA NAPAN, MILAGROS DALINA</td>\n",
       "      <td>Rural</td>\n",
       "      <td>2.00</td>\n",
       "      <td>2.5</td>\n",
       "      <td>1.0</td>\n",
       "    </tr>\n",
       "    <tr>\n",
       "      <th>3</th>\n",
       "      <td>Diciembre 2023</td>\n",
       "      <td>b29b193f</td>\n",
       "      <td>CCALLATA FLORES, JHON</td>\n",
       "      <td>Rural</td>\n",
       "      <td>2.00</td>\n",
       "      <td>3.0</td>\n",
       "      <td>1.5</td>\n",
       "    </tr>\n",
       "    <tr>\n",
       "      <th>4</th>\n",
       "      <td>Diciembre 2023</td>\n",
       "      <td>b29b1ecc</td>\n",
       "      <td>QUISPE APAZA, THAID LINDALVA</td>\n",
       "      <td>Rural</td>\n",
       "      <td>2.00</td>\n",
       "      <td>3.5</td>\n",
       "      <td>2.0</td>\n",
       "    </tr>\n",
       "  </tbody>\n",
       "</table>\n",
       "</div>"
      ],
      "text/plain": [
       "          periodo id_participante                    participante ruralidad  \\\n",
       "0  Diciembre 2023        b29b117e   ALBINO ARBAIZA, JULISSA ELENA     Rural   \n",
       "1  Diciembre 2023        b29b1328      MONTENEGRO CAJUSOL, LISETH    Urbana   \n",
       "2  Diciembre 2023        b29b1441  PADILLA NAPAN, MILAGROS DALINA     Rural   \n",
       "3  Diciembre 2023        b29b193f           CCALLATA FLORES, JHON     Rural   \n",
       "4  Diciembre 2023        b29b1ecc    QUISPE APAZA, THAID LINDALVA     Rural   \n",
       "\n",
       "   C1 y C2   C3   C4  \n",
       "0     2.25  3.0  2.0  \n",
       "1     2.75  3.0  1.5  \n",
       "2     2.00  2.5  1.0  \n",
       "3     2.00  3.0  1.5  \n",
       "4     2.00  3.5  2.0  "
      ]
     },
     "execution_count": 17,
     "metadata": {},
     "output_type": "execute_result"
    }
   ],
   "source": [
    "# Pivot the table\n",
    "# Convert 'puntaje' column to numeric, coercing errors to NaN\n",
    "data_pdl['puntaje'] = pd.to_numeric(data_pdl['puntaje'], errors='coerce')\n",
    "data_pdl = data_pdl.pivot_table(\n",
    "    index=['periodo', 'id_participante', 'participante', 'ruralidad'],  # Group by participant and period\n",
    "    columns='competencia',       # Use 'competencia_original' as new columns\n",
    "    values='puntaje',                     # Use 'puntaje' as values\n",
    "    aggfunc='mean'                        # Take the mean if there are duplicates\n",
    ").reset_index()  # Reset index to flatten the DataFrame\n",
    "\n",
    "# Rename columns to remove the multi-index\n",
    "data_pdl.columns.name = None\n",
    "\n",
    "data_pdl.head()"
   ]
  },
  {
   "cell_type": "markdown",
   "metadata": {},
   "source": [
    "## QM"
   ]
  },
  {
   "cell_type": "code",
   "execution_count": 18,
   "metadata": {},
   "outputs": [],
   "source": [
    "data_qm_2023 = pd.read_csv('../data/qm_2023.csv', encoding='latin1', sep = ';')\n",
    "data_qm_2024 = pd.read_csv('../data/qm_2024.csv', encoding='latin1', sep = ';')"
   ]
  },
  {
   "cell_type": "code",
   "execution_count": 19,
   "metadata": {},
   "outputs": [
    {
     "name": "stdout",
     "output_type": "stream",
     "text": [
      "<class 'pandas.core.frame.DataFrame'>\n",
      "RangeIndex: 1114 entries, 0 to 1113\n",
      "Data columns (total 19 columns):\n",
      " #   Column                 Non-Null Count  Dtype \n",
      "---  ------                 --------------  ----- \n",
      " 0   anio                   1114 non-null   int64 \n",
      " 1   region_ie              1114 non-null   object\n",
      " 2   provincia_ie           1114 non-null   object\n",
      " 3   ugel_ie                1114 non-null   object\n",
      " 4   distrito_ie            1114 non-null   object\n",
      " 5   centropoblado_ie       1114 non-null   object\n",
      " 6   institucion_educativa  1114 non-null   object\n",
      " 7   codigolocal_ie1        1114 non-null   int64 \n",
      " 8   codigomodular_ie       1114 non-null   int64 \n",
      " 9   ruralidad              1114 non-null   object\n",
      " 10  participante           1114 non-null   object\n",
      " 11  coordinador_a          1114 non-null   object\n",
      " 12  programa               1114 non-null   object\n",
      " 13  socios                 1114 non-null   object\n",
      " 14  habilidad              1114 non-null   object\n",
      " 15  periodo                1114 non-null   object\n",
      " 16  nivel_de_logro         1114 non-null   object\n",
      " 17  conclusiones           898 non-null    object\n",
      " 18  id_participante        1114 non-null   object\n",
      "dtypes: int64(3), object(16)\n",
      "memory usage: 165.5+ KB\n"
     ]
    }
   ],
   "source": [
    "data_qm_2023.info()"
   ]
  },
  {
   "cell_type": "code",
   "execution_count": 20,
   "metadata": {},
   "outputs": [],
   "source": [
    "data_qm_2023 = data_qm_2023[['periodo', 'id_participante', 'participante', 'ruralidad', 'habilidad', 'nivel_de_logro']]"
   ]
  },
  {
   "cell_type": "code",
   "execution_count": 21,
   "metadata": {},
   "outputs": [
    {
     "name": "stdout",
     "output_type": "stream",
     "text": [
      "<class 'pandas.core.frame.DataFrame'>\n",
      "RangeIndex: 1824 entries, 0 to 1823\n",
      "Data columns (total 19 columns):\n",
      " #   Column                 Non-Null Count  Dtype \n",
      "---  ------                 --------------  ----- \n",
      " 0   anio                   1824 non-null   int64 \n",
      " 1   region_ie              1824 non-null   object\n",
      " 2   provincia_ie           1824 non-null   object\n",
      " 3   ugel_ie                1824 non-null   object\n",
      " 4   distrito_ie            1824 non-null   object\n",
      " 5   centropoblado_ie       1824 non-null   object\n",
      " 6   institucion_educativa  1824 non-null   object\n",
      " 7   codigolocal_ie1        1824 non-null   int64 \n",
      " 8   codigomodular_ie       1824 non-null   int64 \n",
      " 9   ruralidad              1824 non-null   object\n",
      " 10  participante           1824 non-null   object\n",
      " 11  coordinador_a          1824 non-null   object\n",
      " 12  programa               1824 non-null   object\n",
      " 13  socios                 1824 non-null   object\n",
      " 14  habilidad              1571 non-null   object\n",
      " 15  periodo                1824 non-null   object\n",
      " 16  nivel_de_logro         1612 non-null   object\n",
      " 17  conclusiones           1589 non-null   object\n",
      " 18  id_participante        1824 non-null   object\n",
      "dtypes: int64(3), object(16)\n",
      "memory usage: 270.9+ KB\n"
     ]
    }
   ],
   "source": [
    "data_qm_2024.info()"
   ]
  },
  {
   "cell_type": "code",
   "execution_count": 22,
   "metadata": {},
   "outputs": [],
   "source": [
    "data_qm_2024 = data_qm_2024[['periodo', 'id_participante', 'participante', 'ruralidad', 'habilidad', 'nivel_de_logro']]"
   ]
  },
  {
   "cell_type": "code",
   "execution_count": 23,
   "metadata": {},
   "outputs": [
    {
     "data": {
      "text/plain": [
       "nivel_de_logro\n",
       "Desarrollado    464\n",
       "En proceso      390\n",
       "Emergente       260\n",
       "Name: count, dtype: int64"
      ]
     },
     "execution_count": 23,
     "metadata": {},
     "output_type": "execute_result"
    }
   ],
   "source": [
    "data_qm_2023.nivel_de_logro.value_counts()"
   ]
  },
  {
   "cell_type": "code",
   "execution_count": 24,
   "metadata": {},
   "outputs": [
    {
     "data": {
      "text/plain": [
       "nivel_de_logro\n",
       "En proceso      794\n",
       "Desarrollado    518\n",
       "Emergente       300\n",
       "Name: count, dtype: int64"
      ]
     },
     "execution_count": 24,
     "metadata": {},
     "output_type": "execute_result"
    }
   ],
   "source": [
    "data_qm_2024.nivel_de_logro.value_counts()"
   ]
  },
  {
   "cell_type": "code",
   "execution_count": 25,
   "metadata": {},
   "outputs": [
    {
     "data": {
      "text/plain": [
       "Index(['periodo', 'id_participante', 'participante', 'ruralidad', 'habilidad',\n",
       "       'nivel_de_logro'],\n",
       "      dtype='object')"
      ]
     },
     "execution_count": 25,
     "metadata": {},
     "output_type": "execute_result"
    }
   ],
   "source": [
    "data_qm_2023.columns"
   ]
  },
  {
   "cell_type": "code",
   "execution_count": 26,
   "metadata": {},
   "outputs": [
    {
     "data": {
      "text/plain": [
       "Index(['periodo', 'id_participante', 'participante', 'ruralidad', 'habilidad',\n",
       "       'nivel_de_logro'],\n",
       "      dtype='object')"
      ]
     },
     "execution_count": 26,
     "metadata": {},
     "output_type": "execute_result"
    }
   ],
   "source": [
    "data_qm_2024.columns"
   ]
  },
  {
   "cell_type": "code",
   "execution_count": 27,
   "metadata": {},
   "outputs": [],
   "source": [
    "data_qm_2023 = data_qm_2023.loc[~(data_qm_2023['habilidad'] == 'Conecta con otros y trabaja en equipo')]"
   ]
  },
  {
   "cell_type": "code",
   "execution_count": 28,
   "metadata": {},
   "outputs": [
    {
     "data": {
      "text/plain": [
       "['Crea o adapta experiencias de aprendizaje centradas en los estudiantes',\n",
       " 'Crea y facilita entornos de aprendizaje significativos, seguros y motivadores',\n",
       " 'Desarrolla proyectos innovadores',\n",
       " 'Gestiona sus emociones y bienestar',\n",
       " 'Potencia su autoconocimiento y conecta con\\xa0su\\xa0propósito',\n",
       " 'Promueve el crecimiento de las habilidades socioemocionales de sus estudiantes',\n",
       " 'Realiza evaluación formativa de manera efectiva']"
      ]
     },
     "execution_count": 28,
     "metadata": {},
     "output_type": "execute_result"
    }
   ],
   "source": [
    "sorted(data_qm_2023.habilidad.unique())"
   ]
  },
  {
   "cell_type": "code",
   "execution_count": 29,
   "metadata": {},
   "outputs": [],
   "source": [
    "data_qm_2024 = data_qm_2024.dropna(subset=['habilidad'])"
   ]
  },
  {
   "cell_type": "code",
   "execution_count": 30,
   "metadata": {},
   "outputs": [],
   "source": [
    "data_qm_2024 = data_qm_2024.loc[~(data_qm_2024['habilidad'] == 'Desarrolla iniciativas innovadoras')]"
   ]
  },
  {
   "cell_type": "code",
   "execution_count": 31,
   "metadata": {},
   "outputs": [
    {
     "data": {
      "text/plain": [
       "['Crea o adapta experiencias de aprendizaje centradas en los estudiantes',\n",
       " 'Crea y facilita entornos de aprendizaje significativos, seguros y motivadores',\n",
       " 'Desarrolla proyectos innovadores',\n",
       " 'Gestiona sus emociones y bienestar',\n",
       " 'Potencia su autoconocimiento y conecta con\\xa0su\\xa0propósito',\n",
       " 'Promueve el crecimiento de las habilidades socioemocionales de sus estudiantes',\n",
       " 'Realiza evaluación formativa de manera efectiva']"
      ]
     },
     "execution_count": 31,
     "metadata": {},
     "output_type": "execute_result"
    }
   ],
   "source": [
    "sorted(data_qm_2024.habilidad.unique())"
   ]
  },
  {
   "cell_type": "code",
   "execution_count": 32,
   "metadata": {},
   "outputs": [
    {
     "data": {
      "text/plain": [
       "(2119, 6)"
      ]
     },
     "execution_count": 32,
     "metadata": {},
     "output_type": "execute_result"
    }
   ],
   "source": [
    "data_qm = pd.concat([data_qm_2023, data_qm_2024], ignore_index=True)\n",
    "data_qm.shape"
   ]
  },
  {
   "cell_type": "code",
   "execution_count": 33,
   "metadata": {},
   "outputs": [
    {
     "data": {
      "text/plain": [
       "374"
      ]
     },
     "execution_count": 33,
     "metadata": {},
     "output_type": "execute_result"
    }
   ],
   "source": [
    "data_qm.id_participante.nunique()"
   ]
  },
  {
   "cell_type": "code",
   "execution_count": 34,
   "metadata": {},
   "outputs": [],
   "source": [
    "# Custom function to calculate mode\n",
    "def calculate_mode(series):\n",
    "    mode = series.mode()\n",
    "    if not mode.empty:\n",
    "        return mode.iloc[0]  # Return the first mode if there are multiple\n",
    "    return np.nan  # Return NaN if no mode exists"
   ]
  },
  {
   "cell_type": "code",
   "execution_count": 35,
   "metadata": {},
   "outputs": [
    {
     "data": {
      "text/html": [
       "<div>\n",
       "<style scoped>\n",
       "    .dataframe tbody tr th:only-of-type {\n",
       "        vertical-align: middle;\n",
       "    }\n",
       "\n",
       "    .dataframe tbody tr th {\n",
       "        vertical-align: top;\n",
       "    }\n",
       "\n",
       "    .dataframe thead th {\n",
       "        text-align: right;\n",
       "    }\n",
       "</style>\n",
       "<table border=\"1\" class=\"dataframe\">\n",
       "  <thead>\n",
       "    <tr style=\"text-align: right;\">\n",
       "      <th></th>\n",
       "      <th>periodo</th>\n",
       "      <th>id_participante</th>\n",
       "      <th>participante</th>\n",
       "      <th>ruralidad</th>\n",
       "      <th>Crea o adapta experiencias de aprendizaje centradas en los estudiantes</th>\n",
       "      <th>Crea y facilita entornos de aprendizaje significativos, seguros y motivadores</th>\n",
       "      <th>Desarrolla proyectos innovadores</th>\n",
       "      <th>Gestiona sus emociones y bienestar</th>\n",
       "      <th>Potencia su autoconocimiento y conecta con su propósito</th>\n",
       "      <th>Promueve el crecimiento de las habilidades socioemocionales de sus estudiantes</th>\n",
       "      <th>Realiza evaluación formativa de manera efectiva</th>\n",
       "    </tr>\n",
       "  </thead>\n",
       "  <tbody>\n",
       "    <tr>\n",
       "      <th>0</th>\n",
       "      <td>Diciembre 2023</td>\n",
       "      <td>0cda3318</td>\n",
       "      <td>LIZANA CHACCHI, CONSUELO SOLEDAD</td>\n",
       "      <td>Urbana</td>\n",
       "      <td>NaN</td>\n",
       "      <td>Desarrollado</td>\n",
       "      <td>Desarrollado</td>\n",
       "      <td>NaN</td>\n",
       "      <td>NaN</td>\n",
       "      <td>Desarrollado</td>\n",
       "      <td>NaN</td>\n",
       "    </tr>\n",
       "    <tr>\n",
       "      <th>1</th>\n",
       "      <td>Diciembre 2023</td>\n",
       "      <td>1812a66c</td>\n",
       "      <td>ZAVALETA QUIPUSCOA, MONICA ELCIRA</td>\n",
       "      <td>Urbana</td>\n",
       "      <td>NaN</td>\n",
       "      <td>En proceso</td>\n",
       "      <td>Desarrollado</td>\n",
       "      <td>NaN</td>\n",
       "      <td>NaN</td>\n",
       "      <td>NaN</td>\n",
       "      <td>NaN</td>\n",
       "    </tr>\n",
       "    <tr>\n",
       "      <th>2</th>\n",
       "      <td>Diciembre 2023</td>\n",
       "      <td>1a63f563</td>\n",
       "      <td>CARRION OCAniA, BRISEIDA KARIN</td>\n",
       "      <td>Rural</td>\n",
       "      <td>NaN</td>\n",
       "      <td>Desarrollado</td>\n",
       "      <td>En proceso</td>\n",
       "      <td>NaN</td>\n",
       "      <td>NaN</td>\n",
       "      <td>Desarrollado</td>\n",
       "      <td>NaN</td>\n",
       "    </tr>\n",
       "    <tr>\n",
       "      <th>3</th>\n",
       "      <td>Diciembre 2023</td>\n",
       "      <td>23440576</td>\n",
       "      <td>BAZALAR PADILLA, GLADYS VIOLETA</td>\n",
       "      <td>Rural</td>\n",
       "      <td>Desarrollado</td>\n",
       "      <td>NaN</td>\n",
       "      <td>Desarrollado</td>\n",
       "      <td>NaN</td>\n",
       "      <td>NaN</td>\n",
       "      <td>Desarrollado</td>\n",
       "      <td>NaN</td>\n",
       "    </tr>\n",
       "    <tr>\n",
       "      <th>4</th>\n",
       "      <td>Diciembre 2023</td>\n",
       "      <td>2d51c3f6</td>\n",
       "      <td>ROSARIO ROLDAN, JOHN RONALD</td>\n",
       "      <td>Urbana</td>\n",
       "      <td>En proceso</td>\n",
       "      <td>En proceso</td>\n",
       "      <td>En proceso</td>\n",
       "      <td>NaN</td>\n",
       "      <td>NaN</td>\n",
       "      <td>NaN</td>\n",
       "      <td>NaN</td>\n",
       "    </tr>\n",
       "  </tbody>\n",
       "</table>\n",
       "</div>"
      ],
      "text/plain": [
       "          periodo id_participante                       participante  \\\n",
       "0  Diciembre 2023        0cda3318   LIZANA CHACCHI, CONSUELO SOLEDAD   \n",
       "1  Diciembre 2023        1812a66c  ZAVALETA QUIPUSCOA, MONICA ELCIRA   \n",
       "2  Diciembre 2023        1a63f563     CARRION OCAniA, BRISEIDA KARIN   \n",
       "3  Diciembre 2023        23440576    BAZALAR PADILLA, GLADYS VIOLETA   \n",
       "4  Diciembre 2023        2d51c3f6        ROSARIO ROLDAN, JOHN RONALD   \n",
       "\n",
       "  ruralidad  \\\n",
       "0    Urbana   \n",
       "1    Urbana   \n",
       "2     Rural   \n",
       "3     Rural   \n",
       "4    Urbana   \n",
       "\n",
       "  Crea o adapta experiencias de aprendizaje centradas en los estudiantes  \\\n",
       "0                                                NaN                       \n",
       "1                                                NaN                       \n",
       "2                                                NaN                       \n",
       "3                                       Desarrollado                       \n",
       "4                                         En proceso                       \n",
       "\n",
       "  Crea y facilita entornos de aprendizaje significativos, seguros y motivadores  \\\n",
       "0                                       Desarrollado                              \n",
       "1                                         En proceso                              \n",
       "2                                       Desarrollado                              \n",
       "3                                                NaN                              \n",
       "4                                         En proceso                              \n",
       "\n",
       "  Desarrolla proyectos innovadores Gestiona sus emociones y bienestar  \\\n",
       "0                     Desarrollado                                NaN   \n",
       "1                     Desarrollado                                NaN   \n",
       "2                       En proceso                                NaN   \n",
       "3                     Desarrollado                                NaN   \n",
       "4                       En proceso                                NaN   \n",
       "\n",
       "  Potencia su autoconocimiento y conecta con su propósito  \\\n",
       "0                                                NaN        \n",
       "1                                                NaN        \n",
       "2                                                NaN        \n",
       "3                                                NaN        \n",
       "4                                                NaN        \n",
       "\n",
       "  Promueve el crecimiento de las habilidades socioemocionales de sus estudiantes  \\\n",
       "0                                       Desarrollado                               \n",
       "1                                                NaN                               \n",
       "2                                       Desarrollado                               \n",
       "3                                       Desarrollado                               \n",
       "4                                                NaN                               \n",
       "\n",
       "  Realiza evaluación formativa de manera efectiva  \n",
       "0                                             NaN  \n",
       "1                                             NaN  \n",
       "2                                             NaN  \n",
       "3                                             NaN  \n",
       "4                                             NaN  "
      ]
     },
     "execution_count": 35,
     "metadata": {},
     "output_type": "execute_result"
    }
   ],
   "source": [
    "# Pivot the table\n",
    "# Convert 'nivel_de_logro' column to numeric, coercing errors to NaN\n",
    "#data_qm['nivel_de_logro'] = pd.to_numeric(data_qm['puntaje'], errors='coerce')\n",
    "data_qm = data_qm.pivot_table(\n",
    "    index = ['periodo', 'id_participante', 'participante', 'ruralidad'],  # Group by participant and period\n",
    "    columns ='habilidad',       # Use 'habilidad' as new columns\n",
    "    values ='nivel_de_logro',                     # Use 'puntaje' as values\n",
    "    aggfunc = calculate_mode                         # Use the custom mode function\n",
    ").reset_index()  # Reset index to flatten the DataFrame\n",
    "\n",
    "# Rename columns to remove the multi-index\n",
    "data_qm.columns.name = None\n",
    "\n",
    "data_qm.head()"
   ]
  },
  {
   "cell_type": "code",
   "execution_count": 36,
   "metadata": {},
   "outputs": [
    {
     "data": {
      "text/plain": [
       "periodo            0.000000\n",
       "id_participante    0.000000\n",
       "participante       0.000000\n",
       "ruralidad          0.000000\n",
       "C1 y C2            0.000000\n",
       "C3                 1.173021\n",
       "C4                 1.906158\n",
       "dtype: float64"
      ]
     },
     "execution_count": 36,
     "metadata": {},
     "output_type": "execute_result"
    }
   ],
   "source": [
    "(data_pdl.isnull().sum()/data_pdl.shape[0])*100"
   ]
  },
  {
   "cell_type": "code",
   "execution_count": 37,
   "metadata": {},
   "outputs": [
    {
     "data": {
      "text/plain": [
       "periodo                                                                            0.000000\n",
       "id_participante                                                                    0.000000\n",
       "participante                                                                       0.000000\n",
       "ruralidad                                                                          0.000000\n",
       "Crea o adapta experiencias de aprendizaje centradas en los estudiantes            52.914798\n",
       "Crea y facilita entornos de aprendizaje significativos, seguros y motivadores     41.816143\n",
       "Desarrolla proyectos innovadores                                                  58.183857\n",
       "Gestiona sus emociones y bienestar                                                85.313901\n",
       "Potencia su autoconocimiento y conecta con su propósito                           93.497758\n",
       "Promueve el crecimiento de las habilidades socioemocionales de sus estudiantes    38.116592\n",
       "Realiza evaluación formativa de manera efectiva                                   92.713004\n",
       "dtype: float64"
      ]
     },
     "execution_count": 37,
     "metadata": {},
     "output_type": "execute_result"
    }
   ],
   "source": [
    "(data_qm.isnull().sum()/data_qm.shape[0])*100"
   ]
  },
  {
   "cell_type": "code",
   "execution_count": 38,
   "metadata": {},
   "outputs": [],
   "source": [
    "null_percentage = data_qm.isnull().mean()\n",
    "# Filter columns with more than 70% null values\n",
    "columns_to_drop = null_percentage[null_percentage > 0.7].index\n",
    "\n",
    "# Drop the columns\n",
    "data_qm = data_qm.drop(columns=columns_to_drop) "
   ]
  },
  {
   "cell_type": "code",
   "execution_count": 39,
   "metadata": {},
   "outputs": [
    {
     "name": "stdout",
     "output_type": "stream",
     "text": [
      "<class 'pandas.core.frame.DataFrame'>\n",
      "RangeIndex: 892 entries, 0 to 891\n",
      "Data columns (total 8 columns):\n",
      " #   Column                                                                          Non-Null Count  Dtype \n",
      "---  ------                                                                          --------------  ----- \n",
      " 0   periodo                                                                         892 non-null    object\n",
      " 1   id_participante                                                                 892 non-null    object\n",
      " 2   participante                                                                    892 non-null    object\n",
      " 3   ruralidad                                                                       892 non-null    object\n",
      " 4   Crea o adapta experiencias de aprendizaje centradas en los estudiantes          420 non-null    object\n",
      " 5   Crea y facilita entornos de aprendizaje significativos, seguros y motivadores   519 non-null    object\n",
      " 6   Desarrolla proyectos innovadores                                                373 non-null    object\n",
      " 7   Promueve el crecimiento de las habilidades socioemocionales de sus estudiantes  552 non-null    object\n",
      "dtypes: object(8)\n",
      "memory usage: 55.9+ KB\n"
     ]
    }
   ],
   "source": [
    "data_qm.info()"
   ]
  },
  {
   "cell_type": "code",
   "execution_count": 40,
   "metadata": {},
   "outputs": [
    {
     "name": "stdout",
     "output_type": "stream",
     "text": [
      "<class 'pandas.core.frame.DataFrame'>\n",
      "RangeIndex: 682 entries, 0 to 681\n",
      "Data columns (total 7 columns):\n",
      " #   Column           Non-Null Count  Dtype  \n",
      "---  ------           --------------  -----  \n",
      " 0   periodo          682 non-null    object \n",
      " 1   id_participante  682 non-null    object \n",
      " 2   participante     682 non-null    object \n",
      " 3   ruralidad        682 non-null    object \n",
      " 4   C1 y C2          682 non-null    float64\n",
      " 5   C3               674 non-null    float64\n",
      " 6   C4               669 non-null    float64\n",
      "dtypes: float64(3), object(4)\n",
      "memory usage: 37.4+ KB\n"
     ]
    }
   ],
   "source": [
    "data_pdl.info()"
   ]
  },
  {
   "cell_type": "code",
   "execution_count": 41,
   "metadata": {},
   "outputs": [],
   "source": [
    "data_pdl.to_csv(\"..\\\\data\\\\data_pdl_.csv\", index=False)"
   ]
  },
  {
   "cell_type": "code",
   "execution_count": 42,
   "metadata": {},
   "outputs": [],
   "source": [
    "data_qm.to_csv('..\\\\data\\\\data_qm_.csv', index=False)"
   ]
  },
  {
   "cell_type": "code",
   "execution_count": 43,
   "metadata": {},
   "outputs": [
    {
     "data": {
      "text/html": [
       "<div>\n",
       "<style scoped>\n",
       "    .dataframe tbody tr th:only-of-type {\n",
       "        vertical-align: middle;\n",
       "    }\n",
       "\n",
       "    .dataframe tbody tr th {\n",
       "        vertical-align: top;\n",
       "    }\n",
       "\n",
       "    .dataframe thead th {\n",
       "        text-align: right;\n",
       "    }\n",
       "</style>\n",
       "<table border=\"1\" class=\"dataframe\">\n",
       "  <thead>\n",
       "    <tr style=\"text-align: right;\">\n",
       "      <th></th>\n",
       "      <th>periodo</th>\n",
       "      <th>id_participante</th>\n",
       "      <th>participante</th>\n",
       "      <th>ruralidad</th>\n",
       "      <th>C1 y C2</th>\n",
       "      <th>C3</th>\n",
       "      <th>C4</th>\n",
       "    </tr>\n",
       "  </thead>\n",
       "  <tbody>\n",
       "    <tr>\n",
       "      <th>95</th>\n",
       "      <td>Diciembre 2024</td>\n",
       "      <td>b29b3dc92024</td>\n",
       "      <td>CCALACHUA CHICAÑA, KATY RAYMUNDA</td>\n",
       "      <td>Rural</td>\n",
       "      <td>3.00</td>\n",
       "      <td>3.0</td>\n",
       "      <td>3.0</td>\n",
       "    </tr>\n",
       "    <tr>\n",
       "      <th>475</th>\n",
       "      <td>Marzo 2023</td>\n",
       "      <td>0173c939</td>\n",
       "      <td>MOGOLLON VENEGAS, CINTHIA LIZETH</td>\n",
       "      <td>Rural</td>\n",
       "      <td>2.50</td>\n",
       "      <td>2.5</td>\n",
       "      <td>2.0</td>\n",
       "    </tr>\n",
       "    <tr>\n",
       "      <th>318</th>\n",
       "      <td>Julio 2024</td>\n",
       "      <td>64ac1ce7add6a9d39b09b391</td>\n",
       "      <td>TINEO SANCHEZ, THALIA JHOANA</td>\n",
       "      <td>Urbana</td>\n",
       "      <td>3.00</td>\n",
       "      <td>4.0</td>\n",
       "      <td>4.0</td>\n",
       "    </tr>\n",
       "    <tr>\n",
       "      <th>192</th>\n",
       "      <td>Julio 2023</td>\n",
       "      <td>0172d070</td>\n",
       "      <td>PIZARRO PAREDES, LIZBETH DUBERLY</td>\n",
       "      <td>Rural</td>\n",
       "      <td>2.50</td>\n",
       "      <td>2.5</td>\n",
       "      <td>2.5</td>\n",
       "    </tr>\n",
       "    <tr>\n",
       "      <th>208</th>\n",
       "      <td>Julio 2023</td>\n",
       "      <td>0173ce47</td>\n",
       "      <td>URQUIZA RODRIGUEZ, LILIANA ELIZABETH</td>\n",
       "      <td>Rural</td>\n",
       "      <td>3.75</td>\n",
       "      <td>4.0</td>\n",
       "      <td>2.0</td>\n",
       "    </tr>\n",
       "    <tr>\n",
       "      <th>133</th>\n",
       "      <td>Diciembre 2024</td>\n",
       "      <td>bd300605</td>\n",
       "      <td>ROJAS BERAÚN, ARELY</td>\n",
       "      <td>Rural</td>\n",
       "      <td>2.00</td>\n",
       "      <td>3.0</td>\n",
       "      <td>3.0</td>\n",
       "    </tr>\n",
       "    <tr>\n",
       "      <th>612</th>\n",
       "      <td>Marzo 2024</td>\n",
       "      <td>b29b193f2024</td>\n",
       "      <td>CCALLATA FLORES, JHON</td>\n",
       "      <td>Urbana</td>\n",
       "      <td>2.00</td>\n",
       "      <td>3.0</td>\n",
       "      <td>3.0</td>\n",
       "    </tr>\n",
       "    <tr>\n",
       "      <th>556</th>\n",
       "      <td>Marzo 2023</td>\n",
       "      <td>b29b60f0</td>\n",
       "      <td>NOLASCO PANIAGUA, JUAN OMAR</td>\n",
       "      <td>Urbana</td>\n",
       "      <td>1.50</td>\n",
       "      <td>2.5</td>\n",
       "      <td>1.5</td>\n",
       "    </tr>\n",
       "    <tr>\n",
       "      <th>55</th>\n",
       "      <td>Diciembre 2024</td>\n",
       "      <td>alumni71195880</td>\n",
       "      <td>FERNANDEZ CONTRERAS, SHERLEY PAMELA</td>\n",
       "      <td>Urbana</td>\n",
       "      <td>0.00</td>\n",
       "      <td>0.0</td>\n",
       "      <td>0.0</td>\n",
       "    </tr>\n",
       "    <tr>\n",
       "      <th>678</th>\n",
       "      <td>Marzo 2024</td>\n",
       "      <td>pdl2024_a_72077180</td>\n",
       "      <td>ZEGARRA QUEZADA, ZADITH</td>\n",
       "      <td>Rural</td>\n",
       "      <td>2.00</td>\n",
       "      <td>2.0</td>\n",
       "      <td>2.0</td>\n",
       "    </tr>\n",
       "    <tr>\n",
       "      <th>399</th>\n",
       "      <td>Julio 2024</td>\n",
       "      <td>b29b65cd2024</td>\n",
       "      <td>ZAPATA SOSA, LUIS JUNIOR</td>\n",
       "      <td>Urbana</td>\n",
       "      <td>2.00</td>\n",
       "      <td>3.0</td>\n",
       "      <td>3.0</td>\n",
       "    </tr>\n",
       "    <tr>\n",
       "      <th>12</th>\n",
       "      <td>Diciembre 2023</td>\n",
       "      <td>b29b421e</td>\n",
       "      <td>TEQUEN SANCHEZ, HUGO MARCO</td>\n",
       "      <td>Rural</td>\n",
       "      <td>2.25</td>\n",
       "      <td>3.0</td>\n",
       "      <td>2.5</td>\n",
       "    </tr>\n",
       "    <tr>\n",
       "      <th>49</th>\n",
       "      <td>Diciembre 2024</td>\n",
       "      <td>64af72dc86bbe9deb609bbf1</td>\n",
       "      <td>AVELINO MARCELO, ROSSIO KARLA</td>\n",
       "      <td>Rural</td>\n",
       "      <td>3.00</td>\n",
       "      <td>2.0</td>\n",
       "      <td>3.0</td>\n",
       "    </tr>\n",
       "    <tr>\n",
       "      <th>164</th>\n",
       "      <td>Julio 2023</td>\n",
       "      <td>0172b3c6</td>\n",
       "      <td>REQUEJO GOICOCHEA, OSCAR GIANCARLO</td>\n",
       "      <td>Rural</td>\n",
       "      <td>3.25</td>\n",
       "      <td>4.0</td>\n",
       "      <td>3.5</td>\n",
       "    </tr>\n",
       "    <tr>\n",
       "      <th>312</th>\n",
       "      <td>Julio 2024</td>\n",
       "      <td>64a33c6eb96621dfd6079665</td>\n",
       "      <td>CHACALIAZA ASTOCAZA, JUAN JOSÉ</td>\n",
       "      <td>Rural</td>\n",
       "      <td>2.00</td>\n",
       "      <td>2.0</td>\n",
       "      <td>2.0</td>\n",
       "    </tr>\n",
       "    <tr>\n",
       "      <th>58</th>\n",
       "      <td>Diciembre 2024</td>\n",
       "      <td>b29b0a722024</td>\n",
       "      <td>MANCILLA HURTADO, URSULA LISSET</td>\n",
       "      <td>Urbana</td>\n",
       "      <td>3.00</td>\n",
       "      <td>3.0</td>\n",
       "      <td>3.0</td>\n",
       "    </tr>\n",
       "    <tr>\n",
       "      <th>311</th>\n",
       "      <td>Julio 2024</td>\n",
       "      <td>64a33c5eb96b21dfd6079728</td>\n",
       "      <td>ASENCIO FLORES, LUZ MERCEDES</td>\n",
       "      <td>Urbana</td>\n",
       "      <td>2.00</td>\n",
       "      <td>2.0</td>\n",
       "      <td>2.0</td>\n",
       "    </tr>\n",
       "    <tr>\n",
       "      <th>618</th>\n",
       "      <td>Marzo 2024</td>\n",
       "      <td>b29b27c12024</td>\n",
       "      <td>MOSCOSO ESPINOZA, ANABEL BRIGYT</td>\n",
       "      <td>Rural</td>\n",
       "      <td>2.00</td>\n",
       "      <td>2.0</td>\n",
       "      <td>2.0</td>\n",
       "    </tr>\n",
       "    <tr>\n",
       "      <th>256</th>\n",
       "      <td>Julio 2023</td>\n",
       "      <td>b29b301b</td>\n",
       "      <td>MAYTA JIMENEZ, WENNIE</td>\n",
       "      <td>Urbana</td>\n",
       "      <td>2.00</td>\n",
       "      <td>2.5</td>\n",
       "      <td>2.5</td>\n",
       "    </tr>\n",
       "    <tr>\n",
       "      <th>8</th>\n",
       "      <td>Diciembre 2023</td>\n",
       "      <td>b29b35f6</td>\n",
       "      <td>BOZA CCOYLLAR, BRANDO</td>\n",
       "      <td>Rural</td>\n",
       "      <td>2.75</td>\n",
       "      <td>2.5</td>\n",
       "      <td>2.5</td>\n",
       "    </tr>\n",
       "  </tbody>\n",
       "</table>\n",
       "</div>"
      ],
      "text/plain": [
       "            periodo           id_participante  \\\n",
       "95   Diciembre 2024              b29b3dc92024   \n",
       "475      Marzo 2023                  0173c939   \n",
       "318      Julio 2024  64ac1ce7add6a9d39b09b391   \n",
       "192      Julio 2023                  0172d070   \n",
       "208      Julio 2023                  0173ce47   \n",
       "133  Diciembre 2024                  bd300605   \n",
       "612      Marzo 2024              b29b193f2024   \n",
       "556      Marzo 2023                  b29b60f0   \n",
       "55   Diciembre 2024            alumni71195880   \n",
       "678      Marzo 2024        pdl2024_a_72077180   \n",
       "399      Julio 2024              b29b65cd2024   \n",
       "12   Diciembre 2023                  b29b421e   \n",
       "49   Diciembre 2024  64af72dc86bbe9deb609bbf1   \n",
       "164      Julio 2023                  0172b3c6   \n",
       "312      Julio 2024  64a33c6eb96621dfd6079665   \n",
       "58   Diciembre 2024              b29b0a722024   \n",
       "311      Julio 2024  64a33c5eb96b21dfd6079728   \n",
       "618      Marzo 2024              b29b27c12024   \n",
       "256      Julio 2023                  b29b301b   \n",
       "8    Diciembre 2023                  b29b35f6   \n",
       "\n",
       "                             participante ruralidad  C1 y C2   C3   C4  \n",
       "95       CCALACHUA CHICAÑA, KATY RAYMUNDA     Rural     3.00  3.0  3.0  \n",
       "475      MOGOLLON VENEGAS, CINTHIA LIZETH     Rural     2.50  2.5  2.0  \n",
       "318          TINEO SANCHEZ, THALIA JHOANA    Urbana     3.00  4.0  4.0  \n",
       "192      PIZARRO PAREDES, LIZBETH DUBERLY     Rural     2.50  2.5  2.5  \n",
       "208  URQUIZA RODRIGUEZ, LILIANA ELIZABETH     Rural     3.75  4.0  2.0  \n",
       "133                   ROJAS BERAÚN, ARELY     Rural     2.00  3.0  3.0  \n",
       "612                 CCALLATA FLORES, JHON    Urbana     2.00  3.0  3.0  \n",
       "556           NOLASCO PANIAGUA, JUAN OMAR    Urbana     1.50  2.5  1.5  \n",
       "55    FERNANDEZ CONTRERAS, SHERLEY PAMELA    Urbana     0.00  0.0  0.0  \n",
       "678               ZEGARRA QUEZADA, ZADITH     Rural     2.00  2.0  2.0  \n",
       "399              ZAPATA SOSA, LUIS JUNIOR    Urbana     2.00  3.0  3.0  \n",
       "12             TEQUEN SANCHEZ, HUGO MARCO     Rural     2.25  3.0  2.5  \n",
       "49          AVELINO MARCELO, ROSSIO KARLA     Rural     3.00  2.0  3.0  \n",
       "164    REQUEJO GOICOCHEA, OSCAR GIANCARLO     Rural     3.25  4.0  3.5  \n",
       "312        CHACALIAZA ASTOCAZA, JUAN JOSÉ     Rural     2.00  2.0  2.0  \n",
       "58        MANCILLA HURTADO, URSULA LISSET    Urbana     3.00  3.0  3.0  \n",
       "311          ASENCIO FLORES, LUZ MERCEDES    Urbana     2.00  2.0  2.0  \n",
       "618       MOSCOSO ESPINOZA, ANABEL BRIGYT     Rural     2.00  2.0  2.0  \n",
       "256                 MAYTA JIMENEZ, WENNIE    Urbana     2.00  2.5  2.5  \n",
       "8                   BOZA CCOYLLAR, BRANDO     Rural     2.75  2.5  2.5  "
      ]
     },
     "execution_count": 43,
     "metadata": {},
     "output_type": "execute_result"
    }
   ],
   "source": [
    "data_pdl.sample(20)"
   ]
  },
  {
   "cell_type": "code",
   "execution_count": 44,
   "metadata": {},
   "outputs": [
    {
     "data": {
      "text/plain": [
       "283"
      ]
     },
     "execution_count": 44,
     "metadata": {},
     "output_type": "execute_result"
    }
   ],
   "source": [
    "data_pdl.id_participante.nunique()"
   ]
  },
  {
   "cell_type": "code",
   "execution_count": null,
   "metadata": {},
   "outputs": [],
   "source": []
  }
 ],
 "metadata": {
  "kernelspec": {
   "display_name": "breit-project",
   "language": "python",
   "name": "python3"
  },
  "language_info": {
   "codemirror_mode": {
    "name": "ipython",
    "version": 3
   },
   "file_extension": ".py",
   "mimetype": "text/x-python",
   "name": "python",
   "nbconvert_exporter": "python",
   "pygments_lexer": "ipython3",
   "version": "3.13.1"
  }
 },
 "nbformat": 4,
 "nbformat_minor": 2
}
