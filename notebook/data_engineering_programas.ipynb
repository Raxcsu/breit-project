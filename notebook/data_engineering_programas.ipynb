{
 "cells": [
  {
   "cell_type": "code",
   "execution_count": 2,
   "metadata": {},
   "outputs": [],
   "source": [
    "import pandas as pd\n",
    "import numpy as np"
   ]
  },
  {
   "cell_type": "markdown",
   "metadata": {},
   "source": [
    "## PDL"
   ]
  },
  {
   "cell_type": "code",
   "execution_count": 65,
   "metadata": {},
   "outputs": [],
   "source": [
    "data_pdl_2023 = pd.read_csv('../data/pdl_2023.csv', encoding='latin1', sep=';')\n",
    "data_pdl_2024 = pd.read_csv('../data/pdl_2024.csv', encoding='latin1', sep = ';')\n"
   ]
  },
  {
   "cell_type": "code",
   "execution_count": 66,
   "metadata": {},
   "outputs": [
    {
     "data": {
      "text/plain": [
       "anio                      0.000000\n",
       "region_ie                 0.000000\n",
       "provincia_ie              0.000000\n",
       "ugel_ie                   0.000000\n",
       "distrito_ie               0.000000\n",
       "centropoblado_ie          0.000000\n",
       "institucion_educativa     0.000000\n",
       "codigolocal_ie1           0.000000\n",
       "codigomodular_ie          0.000000\n",
       "ruralidad                 0.000000\n",
       "participante              0.000000\n",
       "coordinador_a             0.000000\n",
       "programa                  0.000000\n",
       "anio_pdl                  0.000000\n",
       "socios                    1.709402\n",
       "competencia_original      0.000000\n",
       "periodo                   0.000000\n",
       "puntaje                   0.925926\n",
       "fortalezas               10.897436\n",
       "oportunidades            14.387464\n",
       "recomendaciones          26.780627\n",
       "id_participante           0.000000\n",
       "dtype: float64"
      ]
     },
     "execution_count": 66,
     "metadata": {},
     "output_type": "execute_result"
    }
   ],
   "source": [
    "(data_pdl_2023.isnull().sum()/data_pdl_2023.shape[0])*100"
   ]
  },
  {
   "cell_type": "code",
   "execution_count": 67,
   "metadata": {},
   "outputs": [
    {
     "data": {
      "text/plain": [
       "169"
      ]
     },
     "execution_count": 67,
     "metadata": {},
     "output_type": "execute_result"
    }
   ],
   "source": [
    "data_pdl_2023.id_participante.nunique()"
   ]
  },
  {
   "cell_type": "code",
   "execution_count": 68,
   "metadata": {},
   "outputs": [
    {
     "data": {
      "text/plain": [
       "116"
      ]
     },
     "execution_count": 68,
     "metadata": {},
     "output_type": "execute_result"
    }
   ],
   "source": [
    "data_pdl_2024.id_participante.nunique()"
   ]
  },
  {
   "cell_type": "code",
   "execution_count": 69,
   "metadata": {},
   "outputs": [
    {
     "data": {
      "text/plain": [
       "Index(['anio', 'region_ie', 'provincia_ie', 'ugel_ie', 'distrito_ie',\n",
       "       'centropoblado_ie', 'institucion_educativa', 'codigolocal_ie1',\n",
       "       'codigomodular_ie', 'ruralidad', 'participante', 'coordinador_a',\n",
       "       'programa', 'anio_pdl', 'socios', 'competencia_original', 'periodo',\n",
       "       'puntaje', 'fortalezas', 'oportunidades', 'recomendaciones',\n",
       "       'id_participante'],\n",
       "      dtype='object')"
      ]
     },
     "execution_count": 69,
     "metadata": {},
     "output_type": "execute_result"
    }
   ],
   "source": [
    "data_pdl_2023.columns"
   ]
  },
  {
   "cell_type": "code",
   "execution_count": 70,
   "metadata": {},
   "outputs": [],
   "source": [
    "data_pdl_2023 = data_pdl_2023[['periodo', 'id_participante', 'participante', 'ruralidad', 'competencia_original', 'puntaje']]"
   ]
  },
  {
   "cell_type": "code",
   "execution_count": 71,
   "metadata": {},
   "outputs": [],
   "source": [
    "data_pdl_2023 = data_pdl_2023.loc[~(data_pdl_2023['puntaje'].isin(['No se cuenta con evidencia suficiente para brindar un score', 'Nivel de logro indefinido']))]"
   ]
  },
  {
   "cell_type": "code",
   "execution_count": 72,
   "metadata": {},
   "outputs": [],
   "source": [
    "data_pdl_2023 = data_pdl_2023.rename(columns={'competencia_original': 'competencia'})"
   ]
  },
  {
   "cell_type": "code",
   "execution_count": 73,
   "metadata": {},
   "outputs": [
    {
     "data": {
      "text/plain": [
       "array(['1.5', '2.5', '2', '0.5', '1', '4', '3.5', '3', nan], dtype=object)"
      ]
     },
     "execution_count": 73,
     "metadata": {},
     "output_type": "execute_result"
    }
   ],
   "source": [
    "data_pdl_2023.puntaje.unique()"
   ]
  },
  {
   "cell_type": "code",
   "execution_count": 74,
   "metadata": {},
   "outputs": [
    {
     "data": {
      "text/plain": [
       "puntaje\n",
       "2.5    392\n",
       "3      338\n",
       "2      281\n",
       "1.5    156\n",
       "3.5    104\n",
       "1       76\n",
       "4       22\n",
       "0.5      6\n",
       "Name: count, dtype: int64"
      ]
     },
     "execution_count": 74,
     "metadata": {},
     "output_type": "execute_result"
    }
   ],
   "source": [
    "data_pdl_2023.puntaje.value_counts()"
   ]
  },
  {
   "cell_type": "code",
   "execution_count": 75,
   "metadata": {},
   "outputs": [
    {
     "data": {
      "text/plain": [
       "Index(['anio', 'region_ie', 'provincia_ie', 'ugel_ie', 'distrito_ie',\n",
       "       'centropoblado_ie', 'institucion_educativa', 'codigolocal_ie1',\n",
       "       'codigomodular_ie', 'ruralidad', 'participante', 'coordinador_a',\n",
       "       'programa', 'anio_pdl', 'socios', 'competencia', 'periodo', 'puntaje',\n",
       "       'fortalezas', 'oportunidades', 'recomendaciones', 'id_participante'],\n",
       "      dtype='object')"
      ]
     },
     "execution_count": 75,
     "metadata": {},
     "output_type": "execute_result"
    }
   ],
   "source": [
    "data_pdl_2024.columns"
   ]
  },
  {
   "cell_type": "code",
   "execution_count": 76,
   "metadata": {},
   "outputs": [],
   "source": [
    "data_pdl_2024 = data_pdl_2024[['periodo', 'id_participante', 'participante', 'ruralidad', 'competencia', 'puntaje']]"
   ]
  },
  {
   "cell_type": "code",
   "execution_count": 77,
   "metadata": {},
   "outputs": [
    {
     "data": {
      "text/plain": [
       "puntaje\n",
       "3.0    577\n",
       "2.0    336\n",
       "4.0    132\n",
       "1.0     18\n",
       "0.0      9\n",
       "Name: count, dtype: int64"
      ]
     },
     "execution_count": 77,
     "metadata": {},
     "output_type": "execute_result"
    }
   ],
   "source": [
    "data_pdl_2024.puntaje.value_counts()"
   ]
  },
  {
   "cell_type": "code",
   "execution_count": 78,
   "metadata": {},
   "outputs": [
    {
     "data": {
      "text/plain": [
       "(2471, 6)"
      ]
     },
     "execution_count": 78,
     "metadata": {},
     "output_type": "execute_result"
    }
   ],
   "source": [
    "data_pdl = pd.concat([data_pdl_2023, data_pdl_2024], ignore_index=True)\n",
    "data_pdl.shape"
   ]
  },
  {
   "cell_type": "code",
   "execution_count": 81,
   "metadata": {},
   "outputs": [
    {
     "data": {
      "text/plain": [
       "periodo\n",
       "Julio 2023        651\n",
       "Marzo 2023        641\n",
       "Marzo 2024        414\n",
       "Diciembre 2024    336\n",
       "Julio 2024        333\n",
       "Diciembre 2023     96\n",
       "Name: count, dtype: int64"
      ]
     },
     "execution_count": 81,
     "metadata": {},
     "output_type": "execute_result"
    }
   ],
   "source": [
    "data_pdl.periodo.value_counts()"
   ]
  },
  {
   "cell_type": "code",
   "execution_count": 84,
   "metadata": {},
   "outputs": [
    {
     "data": {
      "text/html": [
       "<div>\n",
       "<style scoped>\n",
       "    .dataframe tbody tr th:only-of-type {\n",
       "        vertical-align: middle;\n",
       "    }\n",
       "\n",
       "    .dataframe tbody tr th {\n",
       "        vertical-align: top;\n",
       "    }\n",
       "\n",
       "    .dataframe thead th {\n",
       "        text-align: right;\n",
       "    }\n",
       "</style>\n",
       "<table border=\"1\" class=\"dataframe\">\n",
       "  <thead>\n",
       "    <tr style=\"text-align: right;\">\n",
       "      <th></th>\n",
       "      <th>periodo</th>\n",
       "      <th>id_participante</th>\n",
       "      <th>participante</th>\n",
       "      <th>ruralidad</th>\n",
       "      <th>C1 y C2</th>\n",
       "      <th>C3</th>\n",
       "      <th>C4</th>\n",
       "    </tr>\n",
       "  </thead>\n",
       "  <tbody>\n",
       "    <tr>\n",
       "      <th>0</th>\n",
       "      <td>Diciembre 2023</td>\n",
       "      <td>b29b117e</td>\n",
       "      <td>ALBINO ARBAIZA, JULISSA ELENA</td>\n",
       "      <td>Rural</td>\n",
       "      <td>2.25</td>\n",
       "      <td>3.0</td>\n",
       "      <td>2.0</td>\n",
       "    </tr>\n",
       "    <tr>\n",
       "      <th>1</th>\n",
       "      <td>Diciembre 2023</td>\n",
       "      <td>b29b1328</td>\n",
       "      <td>MONTENEGRO CAJUSOL, LISETH</td>\n",
       "      <td>Urbana</td>\n",
       "      <td>2.75</td>\n",
       "      <td>3.0</td>\n",
       "      <td>1.5</td>\n",
       "    </tr>\n",
       "    <tr>\n",
       "      <th>2</th>\n",
       "      <td>Diciembre 2023</td>\n",
       "      <td>b29b1441</td>\n",
       "      <td>PADILLA NAPAN, MILAGROS DALINA</td>\n",
       "      <td>Rural</td>\n",
       "      <td>2.00</td>\n",
       "      <td>2.5</td>\n",
       "      <td>1.0</td>\n",
       "    </tr>\n",
       "    <tr>\n",
       "      <th>3</th>\n",
       "      <td>Diciembre 2023</td>\n",
       "      <td>b29b193f</td>\n",
       "      <td>CCALLATA FLORES, JHON</td>\n",
       "      <td>Rural</td>\n",
       "      <td>2.00</td>\n",
       "      <td>3.0</td>\n",
       "      <td>1.5</td>\n",
       "    </tr>\n",
       "    <tr>\n",
       "      <th>4</th>\n",
       "      <td>Diciembre 2023</td>\n",
       "      <td>b29b1ecc</td>\n",
       "      <td>QUISPE APAZA, THAID LINDALVA</td>\n",
       "      <td>Rural</td>\n",
       "      <td>2.00</td>\n",
       "      <td>3.5</td>\n",
       "      <td>2.0</td>\n",
       "    </tr>\n",
       "  </tbody>\n",
       "</table>\n",
       "</div>"
      ],
      "text/plain": [
       "          periodo id_participante                    participante ruralidad  \\\n",
       "0  Diciembre 2023        b29b117e   ALBINO ARBAIZA, JULISSA ELENA     Rural   \n",
       "1  Diciembre 2023        b29b1328      MONTENEGRO CAJUSOL, LISETH    Urbana   \n",
       "2  Diciembre 2023        b29b1441  PADILLA NAPAN, MILAGROS DALINA     Rural   \n",
       "3  Diciembre 2023        b29b193f           CCALLATA FLORES, JHON     Rural   \n",
       "4  Diciembre 2023        b29b1ecc    QUISPE APAZA, THAID LINDALVA     Rural   \n",
       "\n",
       "   C1 y C2   C3   C4  \n",
       "0     2.25  3.0  2.0  \n",
       "1     2.75  3.0  1.5  \n",
       "2     2.00  2.5  1.0  \n",
       "3     2.00  3.0  1.5  \n",
       "4     2.00  3.5  2.0  "
      ]
     },
     "execution_count": 84,
     "metadata": {},
     "output_type": "execute_result"
    }
   ],
   "source": [
    "# Pivot the table\n",
    "# Convert 'puntaje' column to numeric, coercing errors to NaN\n",
    "data_pdl['puntaje'] = pd.to_numeric(data_pdl['puntaje'], errors='coerce')\n",
    "data_pdl = data_pdl.pivot_table(\n",
    "    index=['periodo', 'id_participante', 'participante', 'ruralidad'],  # Group by participant and period\n",
    "    columns='competencia',       # Use 'competencia_original' as new columns\n",
    "    values='puntaje',                     # Use 'puntaje' as values\n",
    "    aggfunc='mean'                        # Take the mean if there are duplicates\n",
    ").reset_index()  # Reset index to flatten the DataFrame\n",
    "\n",
    "# Rename columns to remove the multi-index\n",
    "data_pdl.columns.name = None\n",
    "\n",
    "data_pdl.head()"
   ]
  },
  {
   "cell_type": "markdown",
   "metadata": {},
   "source": [
    "## QM"
   ]
  },
  {
   "cell_type": "code",
   "execution_count": 105,
   "metadata": {},
   "outputs": [],
   "source": [
    "data_qm_2023 = pd.read_csv('../data/qm_2023.csv', encoding='latin1', sep = ';')\n",
    "data_qm_2024 = pd.read_csv('../data/qm_2024.csv', encoding='latin1', sep = ';')"
   ]
  },
  {
   "cell_type": "code",
   "execution_count": 106,
   "metadata": {},
   "outputs": [
    {
     "name": "stdout",
     "output_type": "stream",
     "text": [
      "<class 'pandas.core.frame.DataFrame'>\n",
      "RangeIndex: 1114 entries, 0 to 1113\n",
      "Data columns (total 19 columns):\n",
      " #   Column                 Non-Null Count  Dtype \n",
      "---  ------                 --------------  ----- \n",
      " 0   anio                   1114 non-null   int64 \n",
      " 1   region_ie              1114 non-null   object\n",
      " 2   provincia_ie           1114 non-null   object\n",
      " 3   ugel_ie                1114 non-null   object\n",
      " 4   distrito_ie            1114 non-null   object\n",
      " 5   centropoblado_ie       1114 non-null   object\n",
      " 6   institucion_educativa  1114 non-null   object\n",
      " 7   codigolocal_ie1        1114 non-null   int64 \n",
      " 8   codigomodular_ie       1114 non-null   int64 \n",
      " 9   ruralidad              1114 non-null   object\n",
      " 10  participante           1114 non-null   object\n",
      " 11  coordinador_a          1114 non-null   object\n",
      " 12  programa               1114 non-null   object\n",
      " 13  socios                 1114 non-null   object\n",
      " 14  habilidad              1114 non-null   object\n",
      " 15  periodo                1114 non-null   object\n",
      " 16  nivel_de_logro         1114 non-null   object\n",
      " 17  conclusiones           898 non-null    object\n",
      " 18  id_participante        1114 non-null   object\n",
      "dtypes: int64(3), object(16)\n",
      "memory usage: 165.5+ KB\n"
     ]
    }
   ],
   "source": [
    "data_qm_2023.info()"
   ]
  },
  {
   "cell_type": "code",
   "execution_count": 107,
   "metadata": {},
   "outputs": [],
   "source": [
    "data_qm_2023 = data_qm_2023[['periodo', 'id_participante', 'participante', 'ruralidad', 'habilidad', 'nivel_de_logro']]"
   ]
  },
  {
   "cell_type": "code",
   "execution_count": 108,
   "metadata": {},
   "outputs": [
    {
     "name": "stdout",
     "output_type": "stream",
     "text": [
      "<class 'pandas.core.frame.DataFrame'>\n",
      "RangeIndex: 1824 entries, 0 to 1823\n",
      "Data columns (total 19 columns):\n",
      " #   Column                 Non-Null Count  Dtype \n",
      "---  ------                 --------------  ----- \n",
      " 0   anio                   1824 non-null   int64 \n",
      " 1   region_ie              1824 non-null   object\n",
      " 2   provincia_ie           1824 non-null   object\n",
      " 3   ugel_ie                1824 non-null   object\n",
      " 4   distrito_ie            1824 non-null   object\n",
      " 5   centropoblado_ie       1824 non-null   object\n",
      " 6   institucion_educativa  1824 non-null   object\n",
      " 7   codigolocal_ie1        1824 non-null   int64 \n",
      " 8   codigomodular_ie       1824 non-null   int64 \n",
      " 9   ruralidad              1824 non-null   object\n",
      " 10  participante           1824 non-null   object\n",
      " 11  coordinador_a          1824 non-null   object\n",
      " 12  programa               1824 non-null   object\n",
      " 13  socios                 1824 non-null   object\n",
      " 14  habilidad              1571 non-null   object\n",
      " 15  periodo                1824 non-null   object\n",
      " 16  nivel_de_logro         1612 non-null   object\n",
      " 17  conclusiones           1589 non-null   object\n",
      " 18  id_participante        1824 non-null   object\n",
      "dtypes: int64(3), object(16)\n",
      "memory usage: 270.9+ KB\n"
     ]
    }
   ],
   "source": [
    "data_qm_2024.info()"
   ]
  },
  {
   "cell_type": "code",
   "execution_count": 109,
   "metadata": {},
   "outputs": [],
   "source": [
    "data_qm_2024 = data_qm_2024[['periodo', 'id_participante', 'participante', 'ruralidad', 'habilidad', 'nivel_de_logro']]"
   ]
  },
  {
   "cell_type": "code",
   "execution_count": 110,
   "metadata": {},
   "outputs": [
    {
     "data": {
      "text/plain": [
       "nivel_de_logro\n",
       "Desarrollado    464\n",
       "En proceso      390\n",
       "Emergente       260\n",
       "Name: count, dtype: int64"
      ]
     },
     "execution_count": 110,
     "metadata": {},
     "output_type": "execute_result"
    }
   ],
   "source": [
    "data_qm_2023.nivel_de_logro.value_counts()"
   ]
  },
  {
   "cell_type": "code",
   "execution_count": 111,
   "metadata": {},
   "outputs": [
    {
     "data": {
      "text/plain": [
       "nivel_de_logro\n",
       "En proceso      794\n",
       "Desarrollado    518\n",
       "Emergente       300\n",
       "Name: count, dtype: int64"
      ]
     },
     "execution_count": 111,
     "metadata": {},
     "output_type": "execute_result"
    }
   ],
   "source": [
    "data_qm_2024.nivel_de_logro.value_counts()"
   ]
  },
  {
   "cell_type": "code",
   "execution_count": 112,
   "metadata": {},
   "outputs": [
    {
     "data": {
      "text/plain": [
       "Index(['periodo', 'id_participante', 'participante', 'ruralidad', 'habilidad',\n",
       "       'nivel_de_logro'],\n",
       "      dtype='object')"
      ]
     },
     "execution_count": 112,
     "metadata": {},
     "output_type": "execute_result"
    }
   ],
   "source": [
    "data_qm_2023.columns"
   ]
  },
  {
   "cell_type": "code",
   "execution_count": 113,
   "metadata": {},
   "outputs": [
    {
     "data": {
      "text/plain": [
       "Index(['periodo', 'id_participante', 'participante', 'ruralidad', 'habilidad',\n",
       "       'nivel_de_logro'],\n",
       "      dtype='object')"
      ]
     },
     "execution_count": 113,
     "metadata": {},
     "output_type": "execute_result"
    }
   ],
   "source": [
    "data_qm_2024.columns"
   ]
  },
  {
   "cell_type": "code",
   "execution_count": 115,
   "metadata": {},
   "outputs": [],
   "source": [
    "data_qm_2023 = data_qm_2023.loc[~(data_qm_2023['habilidad'] == 'Conecta con otros y trabaja en equipo')]"
   ]
  },
  {
   "cell_type": "code",
   "execution_count": 121,
   "metadata": {},
   "outputs": [
    {
     "data": {
      "text/plain": [
       "['Crea o adapta experiencias de aprendizaje centradas en los estudiantes',\n",
       " 'Crea y facilita entornos de aprendizaje significativos, seguros y motivadores',\n",
       " 'Desarrolla proyectos innovadores',\n",
       " 'Gestiona sus emociones y bienestar',\n",
       " 'Potencia su autoconocimiento y conecta con\\xa0su\\xa0propósito',\n",
       " 'Promueve el crecimiento de las habilidades socioemocionales de sus estudiantes',\n",
       " 'Realiza evaluación formativa de manera efectiva']"
      ]
     },
     "execution_count": 121,
     "metadata": {},
     "output_type": "execute_result"
    }
   ],
   "source": [
    "sorted(data_qm_2023.habilidad.unique())"
   ]
  },
  {
   "cell_type": "code",
   "execution_count": 116,
   "metadata": {},
   "outputs": [],
   "source": [
    "data_qm_2024 = data_qm_2024.dropna(subset=['habilidad'])"
   ]
  },
  {
   "cell_type": "code",
   "execution_count": 118,
   "metadata": {},
   "outputs": [],
   "source": [
    "data_qm_2024 = data_qm_2024.loc[~(data_qm_2024['habilidad'] == 'Desarrolla iniciativas innovadoras')]"
   ]
  },
  {
   "cell_type": "code",
   "execution_count": 122,
   "metadata": {},
   "outputs": [
    {
     "data": {
      "text/plain": [
       "['Crea o adapta experiencias de aprendizaje centradas en los estudiantes',\n",
       " 'Crea y facilita entornos de aprendizaje significativos, seguros y motivadores',\n",
       " 'Desarrolla proyectos innovadores',\n",
       " 'Gestiona sus emociones y bienestar',\n",
       " 'Potencia su autoconocimiento y conecta con\\xa0su\\xa0propósito',\n",
       " 'Promueve el crecimiento de las habilidades socioemocionales de sus estudiantes',\n",
       " 'Realiza evaluación formativa de manera efectiva']"
      ]
     },
     "execution_count": 122,
     "metadata": {},
     "output_type": "execute_result"
    }
   ],
   "source": [
    "sorted(data_qm_2024.habilidad.unique())"
   ]
  },
  {
   "cell_type": "code",
   "execution_count": 123,
   "metadata": {},
   "outputs": [
    {
     "data": {
      "text/plain": [
       "(2119, 6)"
      ]
     },
     "execution_count": 123,
     "metadata": {},
     "output_type": "execute_result"
    }
   ],
   "source": [
    "data_qm = pd.concat([data_qm_2023, data_qm_2024], ignore_index=True)\n",
    "data_qm.shape"
   ]
  },
  {
   "cell_type": "code",
   "execution_count": 124,
   "metadata": {},
   "outputs": [
    {
     "data": {
      "text/plain": [
       "374"
      ]
     },
     "execution_count": 124,
     "metadata": {},
     "output_type": "execute_result"
    }
   ],
   "source": [
    "data_qm.id_participante.nunique()"
   ]
  },
  {
   "cell_type": "code",
   "execution_count": 127,
   "metadata": {},
   "outputs": [],
   "source": [
    "# Custom function to calculate mode\n",
    "def calculate_mode(series):\n",
    "    mode = series.mode()\n",
    "    if not mode.empty:\n",
    "        return mode.iloc[0]  # Return the first mode if there are multiple\n",
    "    return np.nan  # Return NaN if no mode exists"
   ]
  },
  {
   "cell_type": "code",
   "execution_count": 128,
   "metadata": {},
   "outputs": [
    {
     "data": {
      "text/html": [
       "<div>\n",
       "<style scoped>\n",
       "    .dataframe tbody tr th:only-of-type {\n",
       "        vertical-align: middle;\n",
       "    }\n",
       "\n",
       "    .dataframe tbody tr th {\n",
       "        vertical-align: top;\n",
       "    }\n",
       "\n",
       "    .dataframe thead th {\n",
       "        text-align: right;\n",
       "    }\n",
       "</style>\n",
       "<table border=\"1\" class=\"dataframe\">\n",
       "  <thead>\n",
       "    <tr style=\"text-align: right;\">\n",
       "      <th></th>\n",
       "      <th>periodo</th>\n",
       "      <th>id_participante</th>\n",
       "      <th>participante</th>\n",
       "      <th>ruralidad</th>\n",
       "      <th>Crea o adapta experiencias de aprendizaje centradas en los estudiantes</th>\n",
       "      <th>Crea y facilita entornos de aprendizaje significativos, seguros y motivadores</th>\n",
       "      <th>Desarrolla proyectos innovadores</th>\n",
       "      <th>Gestiona sus emociones y bienestar</th>\n",
       "      <th>Potencia su autoconocimiento y conecta con su propósito</th>\n",
       "      <th>Promueve el crecimiento de las habilidades socioemocionales de sus estudiantes</th>\n",
       "      <th>Realiza evaluación formativa de manera efectiva</th>\n",
       "    </tr>\n",
       "  </thead>\n",
       "  <tbody>\n",
       "    <tr>\n",
       "      <th>0</th>\n",
       "      <td>Diciembre 2023</td>\n",
       "      <td>0cda3318</td>\n",
       "      <td>LIZANA CHACCHI, CONSUELO SOLEDAD</td>\n",
       "      <td>Urbana</td>\n",
       "      <td>NaN</td>\n",
       "      <td>Desarrollado</td>\n",
       "      <td>Desarrollado</td>\n",
       "      <td>NaN</td>\n",
       "      <td>NaN</td>\n",
       "      <td>Desarrollado</td>\n",
       "      <td>NaN</td>\n",
       "    </tr>\n",
       "    <tr>\n",
       "      <th>1</th>\n",
       "      <td>Diciembre 2023</td>\n",
       "      <td>1812a66c</td>\n",
       "      <td>ZAVALETA QUIPUSCOA, MONICA ELCIRA</td>\n",
       "      <td>Urbana</td>\n",
       "      <td>NaN</td>\n",
       "      <td>En proceso</td>\n",
       "      <td>Desarrollado</td>\n",
       "      <td>NaN</td>\n",
       "      <td>NaN</td>\n",
       "      <td>NaN</td>\n",
       "      <td>NaN</td>\n",
       "    </tr>\n",
       "    <tr>\n",
       "      <th>2</th>\n",
       "      <td>Diciembre 2023</td>\n",
       "      <td>1a63f563</td>\n",
       "      <td>CARRION OCAniA, BRISEIDA KARIN</td>\n",
       "      <td>Rural</td>\n",
       "      <td>NaN</td>\n",
       "      <td>Desarrollado</td>\n",
       "      <td>En proceso</td>\n",
       "      <td>NaN</td>\n",
       "      <td>NaN</td>\n",
       "      <td>Desarrollado</td>\n",
       "      <td>NaN</td>\n",
       "    </tr>\n",
       "    <tr>\n",
       "      <th>3</th>\n",
       "      <td>Diciembre 2023</td>\n",
       "      <td>23440576</td>\n",
       "      <td>BAZALAR PADILLA, GLADYS VIOLETA</td>\n",
       "      <td>Rural</td>\n",
       "      <td>Desarrollado</td>\n",
       "      <td>NaN</td>\n",
       "      <td>Desarrollado</td>\n",
       "      <td>NaN</td>\n",
       "      <td>NaN</td>\n",
       "      <td>Desarrollado</td>\n",
       "      <td>NaN</td>\n",
       "    </tr>\n",
       "    <tr>\n",
       "      <th>4</th>\n",
       "      <td>Diciembre 2023</td>\n",
       "      <td>2d51c3f6</td>\n",
       "      <td>ROSARIO ROLDAN, JOHN RONALD</td>\n",
       "      <td>Urbana</td>\n",
       "      <td>En proceso</td>\n",
       "      <td>En proceso</td>\n",
       "      <td>En proceso</td>\n",
       "      <td>NaN</td>\n",
       "      <td>NaN</td>\n",
       "      <td>NaN</td>\n",
       "      <td>NaN</td>\n",
       "    </tr>\n",
       "  </tbody>\n",
       "</table>\n",
       "</div>"
      ],
      "text/plain": [
       "          periodo id_participante                       participante  \\\n",
       "0  Diciembre 2023        0cda3318   LIZANA CHACCHI, CONSUELO SOLEDAD   \n",
       "1  Diciembre 2023        1812a66c  ZAVALETA QUIPUSCOA, MONICA ELCIRA   \n",
       "2  Diciembre 2023        1a63f563     CARRION OCAniA, BRISEIDA KARIN   \n",
       "3  Diciembre 2023        23440576    BAZALAR PADILLA, GLADYS VIOLETA   \n",
       "4  Diciembre 2023        2d51c3f6        ROSARIO ROLDAN, JOHN RONALD   \n",
       "\n",
       "  ruralidad  \\\n",
       "0    Urbana   \n",
       "1    Urbana   \n",
       "2     Rural   \n",
       "3     Rural   \n",
       "4    Urbana   \n",
       "\n",
       "  Crea o adapta experiencias de aprendizaje centradas en los estudiantes  \\\n",
       "0                                                NaN                       \n",
       "1                                                NaN                       \n",
       "2                                                NaN                       \n",
       "3                                       Desarrollado                       \n",
       "4                                         En proceso                       \n",
       "\n",
       "  Crea y facilita entornos de aprendizaje significativos, seguros y motivadores  \\\n",
       "0                                       Desarrollado                              \n",
       "1                                         En proceso                              \n",
       "2                                       Desarrollado                              \n",
       "3                                                NaN                              \n",
       "4                                         En proceso                              \n",
       "\n",
       "  Desarrolla proyectos innovadores Gestiona sus emociones y bienestar  \\\n",
       "0                     Desarrollado                                NaN   \n",
       "1                     Desarrollado                                NaN   \n",
       "2                       En proceso                                NaN   \n",
       "3                     Desarrollado                                NaN   \n",
       "4                       En proceso                                NaN   \n",
       "\n",
       "  Potencia su autoconocimiento y conecta con su propósito  \\\n",
       "0                                                NaN        \n",
       "1                                                NaN        \n",
       "2                                                NaN        \n",
       "3                                                NaN        \n",
       "4                                                NaN        \n",
       "\n",
       "  Promueve el crecimiento de las habilidades socioemocionales de sus estudiantes  \\\n",
       "0                                       Desarrollado                               \n",
       "1                                                NaN                               \n",
       "2                                       Desarrollado                               \n",
       "3                                       Desarrollado                               \n",
       "4                                                NaN                               \n",
       "\n",
       "  Realiza evaluación formativa de manera efectiva  \n",
       "0                                             NaN  \n",
       "1                                             NaN  \n",
       "2                                             NaN  \n",
       "3                                             NaN  \n",
       "4                                             NaN  "
      ]
     },
     "execution_count": 128,
     "metadata": {},
     "output_type": "execute_result"
    }
   ],
   "source": [
    "# Pivot the table\n",
    "# Convert 'nivel_de_logro' column to numeric, coercing errors to NaN\n",
    "#data_qm['nivel_de_logro'] = pd.to_numeric(data_qm['puntaje'], errors='coerce')\n",
    "data_qm = data_qm.pivot_table(\n",
    "    index = ['periodo', 'id_participante', 'participante', 'ruralidad'],  # Group by participant and period\n",
    "    columns ='habilidad',       # Use 'habilidad' as new columns\n",
    "    values ='nivel_de_logro',                     # Use 'puntaje' as values\n",
    "    aggfunc = calculate_mode                         # Use the custom mode function\n",
    ").reset_index()  # Reset index to flatten the DataFrame\n",
    "\n",
    "# Rename columns to remove the multi-index\n",
    "data_qm.columns.name = None\n",
    "\n",
    "data_qm.head()"
   ]
  },
  {
   "cell_type": "code",
   "execution_count": 129,
   "metadata": {},
   "outputs": [
    {
     "data": {
      "text/plain": [
       "periodo            0.000000\n",
       "id_participante    0.000000\n",
       "participante       0.000000\n",
       "ruralidad          0.000000\n",
       "C1 y C2            0.000000\n",
       "C3                 1.173021\n",
       "C4                 1.906158\n",
       "dtype: float64"
      ]
     },
     "execution_count": 129,
     "metadata": {},
     "output_type": "execute_result"
    }
   ],
   "source": [
    "(data_pdl.isnull().sum()/data_pdl.shape[0])*100"
   ]
  },
  {
   "cell_type": "code",
   "execution_count": null,
   "metadata": {},
   "outputs": [
    {
     "data": {
      "text/plain": [
       "periodo                                                                            0.000000\n",
       "id_participante                                                                    0.000000\n",
       "participante                                                                       0.000000\n",
       "ruralidad                                                                          0.000000\n",
       "Crea o adapta experiencias de aprendizaje centradas en los estudiantes            52.914798\n",
       "Crea y facilita entornos de aprendizaje significativos, seguros y motivadores     41.816143\n",
       "Desarrolla proyectos innovadores                                                  58.183857\n",
       "Gestiona sus emociones y bienestar                                                85.313901\n",
       "Potencia su autoconocimiento y conecta con su propósito                           93.497758\n",
       "Promueve el crecimiento de las habilidades socioemocionales de sus estudiantes    38.116592\n",
       "Realiza evaluación formativa de manera efectiva                                   92.713004\n",
       "dtype: float64"
      ]
     },
     "execution_count": 130,
     "metadata": {},
     "output_type": "execute_result"
    }
   ],
   "source": [
    "(data_qm.isnull().sum()/data_qm.shape[0])*100"
   ]
  },
  {
   "cell_type": "code",
   "execution_count": 131,
   "metadata": {},
   "outputs": [],
   "source": [
    "null_percentage = data_qm.isnull().mean()\n",
    "# Filter columns with more than 70% null values\n",
    "columns_to_drop = null_percentage[null_percentage > 0.7].index\n",
    "\n",
    "# Drop the columns\n",
    "data_qm = data_qm.drop(columns=columns_to_drop) "
   ]
  },
  {
   "cell_type": "code",
   "execution_count": 132,
   "metadata": {},
   "outputs": [
    {
     "name": "stdout",
     "output_type": "stream",
     "text": [
      "<class 'pandas.core.frame.DataFrame'>\n",
      "RangeIndex: 892 entries, 0 to 891\n",
      "Data columns (total 8 columns):\n",
      " #   Column                                                                          Non-Null Count  Dtype \n",
      "---  ------                                                                          --------------  ----- \n",
      " 0   periodo                                                                         892 non-null    object\n",
      " 1   id_participante                                                                 892 non-null    object\n",
      " 2   participante                                                                    892 non-null    object\n",
      " 3   ruralidad                                                                       892 non-null    object\n",
      " 4   Crea o adapta experiencias de aprendizaje centradas en los estudiantes          420 non-null    object\n",
      " 5   Crea y facilita entornos de aprendizaje significativos, seguros y motivadores   519 non-null    object\n",
      " 6   Desarrolla proyectos innovadores                                                373 non-null    object\n",
      " 7   Promueve el crecimiento de las habilidades socioemocionales de sus estudiantes  552 non-null    object\n",
      "dtypes: object(8)\n",
      "memory usage: 55.9+ KB\n"
     ]
    }
   ],
   "source": [
    "data_qm.info()"
   ]
  },
  {
   "cell_type": "code",
   "execution_count": 135,
   "metadata": {},
   "outputs": [
    {
     "name": "stdout",
     "output_type": "stream",
     "text": [
      "<class 'pandas.core.frame.DataFrame'>\n",
      "RangeIndex: 682 entries, 0 to 681\n",
      "Data columns (total 7 columns):\n",
      " #   Column           Non-Null Count  Dtype  \n",
      "---  ------           --------------  -----  \n",
      " 0   periodo          682 non-null    object \n",
      " 1   id_participante  682 non-null    object \n",
      " 2   participante     682 non-null    object \n",
      " 3   ruralidad        682 non-null    object \n",
      " 4   C1 y C2          682 non-null    float64\n",
      " 5   C3               674 non-null    float64\n",
      " 6   C4               669 non-null    float64\n",
      "dtypes: float64(3), object(4)\n",
      "memory usage: 37.4+ KB\n"
     ]
    }
   ],
   "source": [
    "data_pdl.info()"
   ]
  },
  {
   "cell_type": "code",
   "execution_count": 133,
   "metadata": {},
   "outputs": [],
   "source": [
    "data_pdl.to_csv(\"..\\\\data\\\\data_pdl_.csv\", index=False)"
   ]
  },
  {
   "cell_type": "code",
   "execution_count": 134,
   "metadata": {},
   "outputs": [],
   "source": [
    "data_qm.to_csv('..\\\\data\\\\data_qm_.csv', index=False)"
   ]
  },
  {
   "cell_type": "code",
   "execution_count": 137,
   "metadata": {},
   "outputs": [
    {
     "data": {
      "text/html": [
       "<div>\n",
       "<style scoped>\n",
       "    .dataframe tbody tr th:only-of-type {\n",
       "        vertical-align: middle;\n",
       "    }\n",
       "\n",
       "    .dataframe tbody tr th {\n",
       "        vertical-align: top;\n",
       "    }\n",
       "\n",
       "    .dataframe thead th {\n",
       "        text-align: right;\n",
       "    }\n",
       "</style>\n",
       "<table border=\"1\" class=\"dataframe\">\n",
       "  <thead>\n",
       "    <tr style=\"text-align: right;\">\n",
       "      <th></th>\n",
       "      <th>periodo</th>\n",
       "      <th>id_participante</th>\n",
       "      <th>participante</th>\n",
       "      <th>ruralidad</th>\n",
       "      <th>C1 y C2</th>\n",
       "      <th>C3</th>\n",
       "      <th>C4</th>\n",
       "    </tr>\n",
       "  </thead>\n",
       "  <tbody>\n",
       "    <tr>\n",
       "      <th>363</th>\n",
       "      <td>Julio 2024</td>\n",
       "      <td>b29b38122024</td>\n",
       "      <td>CÉLIZ VÁSQUEZ, GABRIELA</td>\n",
       "      <td>Urbana</td>\n",
       "      <td>2.00</td>\n",
       "      <td>3.0</td>\n",
       "      <td>2.0</td>\n",
       "    </tr>\n",
       "    <tr>\n",
       "      <th>404</th>\n",
       "      <td>Julio 2024</td>\n",
       "      <td>b29b6c112024</td>\n",
       "      <td>REMAYCUNA VASQUEZ, GLADYS</td>\n",
       "      <td>Rural</td>\n",
       "      <td>2.00</td>\n",
       "      <td>3.0</td>\n",
       "      <td>4.0</td>\n",
       "    </tr>\n",
       "    <tr>\n",
       "      <th>471</th>\n",
       "      <td>Marzo 2023</td>\n",
       "      <td>0172d360</td>\n",
       "      <td>MIRANDA RAMIREZ, CLAUDIA VALENTINA</td>\n",
       "      <td>Urbana</td>\n",
       "      <td>2.00</td>\n",
       "      <td>2.0</td>\n",
       "      <td>2.5</td>\n",
       "    </tr>\n",
       "    <tr>\n",
       "      <th>222</th>\n",
       "      <td>Julio 2023</td>\n",
       "      <td>0fc63051</td>\n",
       "      <td>PAUCAR CERNA, ROXANA VIRGINIA</td>\n",
       "      <td>Urbana</td>\n",
       "      <td>2.00</td>\n",
       "      <td>3.5</td>\n",
       "      <td>2.0</td>\n",
       "    </tr>\n",
       "    <tr>\n",
       "      <th>240</th>\n",
       "      <td>Julio 2023</td>\n",
       "      <td>b29b156b</td>\n",
       "      <td>JURADO MANDUJANO, VANESSA FABIOLA</td>\n",
       "      <td>Rural</td>\n",
       "      <td>3.00</td>\n",
       "      <td>2.5</td>\n",
       "      <td>2.5</td>\n",
       "    </tr>\n",
       "    <tr>\n",
       "      <th>53</th>\n",
       "      <td>Diciembre 2024</td>\n",
       "      <td>64b5d1a83fd444c92f0e125a</td>\n",
       "      <td>HUERTA CERVANTES, ANIBAL</td>\n",
       "      <td>Rural</td>\n",
       "      <td>3.00</td>\n",
       "      <td>3.0</td>\n",
       "      <td>3.0</td>\n",
       "    </tr>\n",
       "    <tr>\n",
       "      <th>419</th>\n",
       "      <td>Marzo 2023</td>\n",
       "      <td>b29b3aaa</td>\n",
       "      <td>HUANCAYA CARDENAS, LUZ KAREM</td>\n",
       "      <td>Rural</td>\n",
       "      <td>2.00</td>\n",
       "      <td>2.5</td>\n",
       "      <td>2.0</td>\n",
       "    </tr>\n",
       "    <tr>\n",
       "      <th>380</th>\n",
       "      <td>Julio 2024</td>\n",
       "      <td>b29b4a7d2024</td>\n",
       "      <td>ALCANTARA PACASI, NENA YASMIN</td>\n",
       "      <td>Rural</td>\n",
       "      <td>3.00</td>\n",
       "      <td>3.0</td>\n",
       "      <td>2.0</td>\n",
       "    </tr>\n",
       "    <tr>\n",
       "      <th>329</th>\n",
       "      <td>Julio 2024</td>\n",
       "      <td>alumni71195880</td>\n",
       "      <td>FERNANDEZ CONTRERAS, SHERLEY PAMELA</td>\n",
       "      <td>Urbana</td>\n",
       "      <td>0.00</td>\n",
       "      <td>NaN</td>\n",
       "      <td>NaN</td>\n",
       "    </tr>\n",
       "    <tr>\n",
       "      <th>539</th>\n",
       "      <td>Marzo 2023</td>\n",
       "      <td>b29b4000</td>\n",
       "      <td>MANRIQUE MURILLO, JOSE LUIS</td>\n",
       "      <td>Rural</td>\n",
       "      <td>1.75</td>\n",
       "      <td>2.5</td>\n",
       "      <td>1.0</td>\n",
       "    </tr>\n",
       "    <tr>\n",
       "      <th>72</th>\n",
       "      <td>Diciembre 2024</td>\n",
       "      <td>b29b1e402024</td>\n",
       "      <td>OLIVERA PEÑA, RENATO ALEXIS</td>\n",
       "      <td>Rural</td>\n",
       "      <td>3.00</td>\n",
       "      <td>3.0</td>\n",
       "      <td>3.0</td>\n",
       "    </tr>\n",
       "    <tr>\n",
       "      <th>373</th>\n",
       "      <td>Julio 2024</td>\n",
       "      <td>b29b410a2024</td>\n",
       "      <td>PANTA ROBLEDO, CAROL NICOL</td>\n",
       "      <td>Rural</td>\n",
       "      <td>3.00</td>\n",
       "      <td>3.0</td>\n",
       "      <td>3.0</td>\n",
       "    </tr>\n",
       "    <tr>\n",
       "      <th>63</th>\n",
       "      <td>Diciembre 2024</td>\n",
       "      <td>b29b117e2024</td>\n",
       "      <td>ALBINO ARBAIZA, JULISSA ELENA</td>\n",
       "      <td>Rural</td>\n",
       "      <td>3.00</td>\n",
       "      <td>3.0</td>\n",
       "      <td>3.0</td>\n",
       "    </tr>\n",
       "    <tr>\n",
       "      <th>370</th>\n",
       "      <td>Julio 2024</td>\n",
       "      <td>b29b3e4f2024</td>\n",
       "      <td>LOBATON FLORES, CADY EYTABEL</td>\n",
       "      <td>Urbana</td>\n",
       "      <td>2.00</td>\n",
       "      <td>4.0</td>\n",
       "      <td>3.0</td>\n",
       "    </tr>\n",
       "    <tr>\n",
       "      <th>274</th>\n",
       "      <td>Julio 2023</td>\n",
       "      <td>b29b4ff8</td>\n",
       "      <td>PEREZ BUSTAMANTE, MARIA CLAUDIA</td>\n",
       "      <td>Urbana</td>\n",
       "      <td>3.00</td>\n",
       "      <td>3.0</td>\n",
       "      <td>2.5</td>\n",
       "    </tr>\n",
       "    <tr>\n",
       "      <th>461</th>\n",
       "      <td>Marzo 2023</td>\n",
       "      <td>0172ca78</td>\n",
       "      <td>AGURTO CLAVO, TANIA STEFANI</td>\n",
       "      <td>Rural</td>\n",
       "      <td>2.50</td>\n",
       "      <td>3.0</td>\n",
       "      <td>2.0</td>\n",
       "    </tr>\n",
       "    <tr>\n",
       "      <th>450</th>\n",
       "      <td>Marzo 2023</td>\n",
       "      <td>0172c380</td>\n",
       "      <td>BUITRON ZARRIA, KIARA DEL CARMEN</td>\n",
       "      <td>Rural</td>\n",
       "      <td>2.25</td>\n",
       "      <td>3.0</td>\n",
       "      <td>1.5</td>\n",
       "    </tr>\n",
       "    <tr>\n",
       "      <th>495</th>\n",
       "      <td>Marzo 2023</td>\n",
       "      <td>0173d57a</td>\n",
       "      <td>ALANYA HARTLEY, SEBASTIAN</td>\n",
       "      <td>Urbana</td>\n",
       "      <td>2.00</td>\n",
       "      <td>2.5</td>\n",
       "      <td>2.0</td>\n",
       "    </tr>\n",
       "    <tr>\n",
       "      <th>210</th>\n",
       "      <td>Julio 2023</td>\n",
       "      <td>0173cf48</td>\n",
       "      <td>PALACIOS EGOCHEAGA, JESSICA KARINA</td>\n",
       "      <td>Rural</td>\n",
       "      <td>3.00</td>\n",
       "      <td>3.0</td>\n",
       "      <td>2.5</td>\n",
       "    </tr>\n",
       "    <tr>\n",
       "      <th>165</th>\n",
       "      <td>Julio 2023</td>\n",
       "      <td>0172b653</td>\n",
       "      <td>RAMOS ESTRADA, AMILTHON</td>\n",
       "      <td>Rural</td>\n",
       "      <td>3.50</td>\n",
       "      <td>4.0</td>\n",
       "      <td>3.5</td>\n",
       "    </tr>\n",
       "  </tbody>\n",
       "</table>\n",
       "</div>"
      ],
      "text/plain": [
       "            periodo           id_participante  \\\n",
       "363      Julio 2024              b29b38122024   \n",
       "404      Julio 2024              b29b6c112024   \n",
       "471      Marzo 2023                  0172d360   \n",
       "222      Julio 2023                  0fc63051   \n",
       "240      Julio 2023                  b29b156b   \n",
       "53   Diciembre 2024  64b5d1a83fd444c92f0e125a   \n",
       "419      Marzo 2023                  b29b3aaa   \n",
       "380      Julio 2024              b29b4a7d2024   \n",
       "329      Julio 2024            alumni71195880   \n",
       "539      Marzo 2023                  b29b4000   \n",
       "72   Diciembre 2024              b29b1e402024   \n",
       "373      Julio 2024              b29b410a2024   \n",
       "63   Diciembre 2024              b29b117e2024   \n",
       "370      Julio 2024              b29b3e4f2024   \n",
       "274      Julio 2023                  b29b4ff8   \n",
       "461      Marzo 2023                  0172ca78   \n",
       "450      Marzo 2023                  0172c380   \n",
       "495      Marzo 2023                  0173d57a   \n",
       "210      Julio 2023                  0173cf48   \n",
       "165      Julio 2023                  0172b653   \n",
       "\n",
       "                            participante ruralidad  C1 y C2   C3   C4  \n",
       "363              CÉLIZ VÁSQUEZ, GABRIELA    Urbana     2.00  3.0  2.0  \n",
       "404            REMAYCUNA VASQUEZ, GLADYS     Rural     2.00  3.0  4.0  \n",
       "471   MIRANDA RAMIREZ, CLAUDIA VALENTINA    Urbana     2.00  2.0  2.5  \n",
       "222        PAUCAR CERNA, ROXANA VIRGINIA    Urbana     2.00  3.5  2.0  \n",
       "240    JURADO MANDUJANO, VANESSA FABIOLA     Rural     3.00  2.5  2.5  \n",
       "53              HUERTA CERVANTES, ANIBAL     Rural     3.00  3.0  3.0  \n",
       "419         HUANCAYA CARDENAS, LUZ KAREM     Rural     2.00  2.5  2.0  \n",
       "380        ALCANTARA PACASI, NENA YASMIN     Rural     3.00  3.0  2.0  \n",
       "329  FERNANDEZ CONTRERAS, SHERLEY PAMELA    Urbana     0.00  NaN  NaN  \n",
       "539          MANRIQUE MURILLO, JOSE LUIS     Rural     1.75  2.5  1.0  \n",
       "72           OLIVERA PEÑA, RENATO ALEXIS     Rural     3.00  3.0  3.0  \n",
       "373           PANTA ROBLEDO, CAROL NICOL     Rural     3.00  3.0  3.0  \n",
       "63         ALBINO ARBAIZA, JULISSA ELENA     Rural     3.00  3.0  3.0  \n",
       "370         LOBATON FLORES, CADY EYTABEL    Urbana     2.00  4.0  3.0  \n",
       "274      PEREZ BUSTAMANTE, MARIA CLAUDIA    Urbana     3.00  3.0  2.5  \n",
       "461          AGURTO CLAVO, TANIA STEFANI     Rural     2.50  3.0  2.0  \n",
       "450     BUITRON ZARRIA, KIARA DEL CARMEN     Rural     2.25  3.0  1.5  \n",
       "495            ALANYA HARTLEY, SEBASTIAN    Urbana     2.00  2.5  2.0  \n",
       "210   PALACIOS EGOCHEAGA, JESSICA KARINA     Rural     3.00  3.0  2.5  \n",
       "165              RAMOS ESTRADA, AMILTHON     Rural     3.50  4.0  3.5  "
      ]
     },
     "execution_count": 137,
     "metadata": {},
     "output_type": "execute_result"
    }
   ],
   "source": [
    "data_pdl.sample(20)"
   ]
  },
  {
   "cell_type": "code",
   "execution_count": 139,
   "metadata": {},
   "outputs": [
    {
     "data": {
      "text/plain": [
       "283"
      ]
     },
     "execution_count": 139,
     "metadata": {},
     "output_type": "execute_result"
    }
   ],
   "source": [
    "data_pdl.id_participante.nunique()"
   ]
  },
  {
   "cell_type": "code",
   "execution_count": null,
   "metadata": {},
   "outputs": [],
   "source": []
  }
 ],
 "metadata": {
  "kernelspec": {
   "display_name": "Python 3",
   "language": "python",
   "name": "python3"
  },
  "language_info": {
   "codemirror_mode": {
    "name": "ipython",
    "version": 3
   },
   "file_extension": ".py",
   "mimetype": "text/x-python",
   "name": "python",
   "nbconvert_exporter": "python",
   "pygments_lexer": "ipython3",
   "version": "3.12.6"
  }
 },
 "nbformat": 4,
 "nbformat_minor": 2
}
